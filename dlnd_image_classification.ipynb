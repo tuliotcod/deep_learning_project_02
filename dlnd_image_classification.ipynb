{
 "cells": [
  {
   "cell_type": "markdown",
   "metadata": {
    "collapsed": true,
    "deletable": true,
    "editable": true
   },
   "source": [
    "# Image Classification\n",
    "In this project, you'll classify images from the [CIFAR-10 dataset](https://www.cs.toronto.edu/~kriz/cifar.html).  The dataset consists of airplanes, dogs, cats, and other objects. You'll preprocess the images, then train a convolutional neural network on all the samples. The images need to be normalized and the labels need to be one-hot encoded.  You'll get to apply what you learned and build a convolutional, max pooling, dropout, and fully connected layers.  At the end, you'll get to see your neural network's predictions on the sample images.\n",
    "## Get the Data\n",
    "Run the following cell to download the [CIFAR-10 dataset for python](https://www.cs.toronto.edu/~kriz/cifar-10-python.tar.gz)."
   ]
  },
  {
   "cell_type": "code",
   "execution_count": 3,
   "metadata": {
    "collapsed": false,
    "deletable": true,
    "editable": true
   },
   "outputs": [
    {
     "name": "stdout",
     "output_type": "stream",
     "text": [
      "All files found!\n"
     ]
    }
   ],
   "source": [
    "\"\"\"\n",
    "DON'T MODIFY ANYTHING IN THIS CELL THAT IS BELOW THIS LINE\n",
    "\"\"\"\n",
    "from urllib.request import urlretrieve\n",
    "from os.path import isfile, isdir\n",
    "from tqdm import tqdm\n",
    "import problem_unittests as tests\n",
    "import tarfile\n",
    "\n",
    "cifar10_dataset_folder_path = 'cifar-10-batches-py'\n",
    "\n",
    "# Use Floyd's cifar-10 dataset if present\n",
    "floyd_cifar10_location = '/input/cifar-10/python.tar.gz'\n",
    "if isfile(floyd_cifar10_location):\n",
    "    tar_gz_path = floyd_cifar10_location\n",
    "else:\n",
    "    tar_gz_path = 'cifar-10-python.tar.gz'\n",
    "\n",
    "class DLProgress(tqdm):\n",
    "    last_block = 0\n",
    "\n",
    "    def hook(self, block_num=1, block_size=1, total_size=None):\n",
    "        self.total = total_size\n",
    "        self.update((block_num - self.last_block) * block_size)\n",
    "        self.last_block = block_num\n",
    "\n",
    "if not isfile(tar_gz_path):\n",
    "    with DLProgress(unit='B', unit_scale=True, miniters=1, desc='CIFAR-10 Dataset') as pbar:\n",
    "        urlretrieve(\n",
    "            'https://www.cs.toronto.edu/~kriz/cifar-10-python.tar.gz',\n",
    "            tar_gz_path,\n",
    "            pbar.hook)\n",
    "\n",
    "if not isdir(cifar10_dataset_folder_path):\n",
    "    with tarfile.open(tar_gz_path) as tar:\n",
    "        tar.extractall()\n",
    "        tar.close()\n",
    "\n",
    "\n",
    "tests.test_folder_path(cifar10_dataset_folder_path)"
   ]
  },
  {
   "cell_type": "markdown",
   "metadata": {
    "deletable": true,
    "editable": true
   },
   "source": [
    "## Explore the Data\n",
    "The dataset is broken into batches to prevent your machine from running out of memory.  The CIFAR-10 dataset consists of 5 batches, named `data_batch_1`, `data_batch_2`, etc.. Each batch contains the labels and images that are one of the following:\n",
    "* airplane\n",
    "* automobile\n",
    "* bird\n",
    "* cat\n",
    "* deer\n",
    "* dog\n",
    "* frog\n",
    "* horse\n",
    "* ship\n",
    "* truck\n",
    "\n",
    "Understanding a dataset is part of making predictions on the data.  Play around with the code cell below by changing the `batch_id` and `sample_id`. The `batch_id` is the id for a batch (1-5). The `sample_id` is the id for a image and label pair in the batch.\n",
    "\n",
    "Ask yourself \"What are all possible labels?\", \"What is the range of values for the image data?\", \"Are the labels in order or random?\".  Answers to questions like these will help you preprocess the data and end up with better predictions."
   ]
  },
  {
   "cell_type": "code",
   "execution_count": 4,
   "metadata": {
    "collapsed": false,
    "deletable": true,
    "editable": true
   },
   "outputs": [
    {
     "name": "stdout",
     "output_type": "stream",
     "text": [
      "\n",
      "Stats of batch 1:\n",
      "Samples: 10000\n",
      "Label Counts: {0: 1005, 1: 974, 2: 1032, 3: 1016, 4: 999, 5: 937, 6: 1030, 7: 1001, 8: 1025, 9: 981}\n",
      "First 20 Labels: [6, 9, 9, 4, 1, 1, 2, 7, 8, 3, 4, 7, 7, 2, 9, 9, 9, 3, 2, 6]\n",
      "\n",
      "Example of Image 6:\n",
      "Image - Min Value: 7 Max Value: 249\n",
      "Image - Shape: (32, 32, 3)\n",
      "Label - Label Id: 2 Name: bird\n"
     ]
    },
    {
     "data": {
      "image/png": "[encoded data removed]",
      "text/plain": [
       "<matplotlib.figure.Figure at 0x7f24d62f5dd8>"
      ]
     },
     "metadata": {
      "image/png": {
       "height": 250,
       "width": 253
      }
     },
     "output_type": "display_data"
    }
   ],
   "source": [
    "%matplotlib inline\n",
    "%config InlineBackend.figure_format = 'retina'\n",
    "\n",
    "import helper\n",
    "import numpy as np\n",
    "\n",
    "# Explore the dataset\n",
    "batch_id = 1\n",
    "sample_id = 6\n",
    "helper.display_stats(cifar10_dataset_folder_path, batch_id, sample_id)"
   ]
  },
  {
   "cell_type": "markdown",
   "metadata": {
    "deletable": true,
    "editable": true
   },
   "source": [
    "## Implement Preprocess Functions\n",
    "### Normalize\n",
    "In the cell below, implement the `normalize` function to take in image data, `x`, and return it as a normalized Numpy array. The values should be in the range of 0 to 1, inclusive.  The return object should be the same shape as `x`."
   ]
  },
  {
   "cell_type": "code",
   "execution_count": 5,
   "metadata": {
    "collapsed": false,
    "deletable": true,
    "editable": true
   },
   "outputs": [
    {
     "name": "stdout",
     "output_type": "stream",
     "text": [
      "Tests Passed\n"
     ]
    }
   ],
   "source": [
    "def normalize(x):\n",
    "    \"\"\"\n",
    "    Normalize a list of sample image data in the range of 0 to 1\n",
    "    : x: List of image data.  The image shape is (32, 32, 3)\n",
    "    : return: Numpy array of normalize data\n",
    "    \"\"\"\n",
    "    a = 0\n",
    "    b = 1\n",
    "    grayscale_min = 0\n",
    "    grayscale_max = 255\n",
    "    #return a + ( ( (x - grayscale_min)*(b - a) )/( grayscale_max - grayscale_min ) )\n",
    "    \"\"\"\n",
    "    Simplifying:\n",
    "    \"\"\"\n",
    "    return x/255\n",
    "\n",
    "\n",
    "\"\"\"\n",
    "DON'T MODIFY ANYTHING IN THIS CELL THAT IS BELOW THIS LINE\n",
    "\"\"\"\n",
    "tests.test_normalize(normalize)"
   ]
  },
  {
   "cell_type": "markdown",
   "metadata": {
    "deletable": true,
    "editable": true
   },
   "source": [
    "### One-hot encode\n",
    "Just like the previous code cell, you'll be implementing a function for preprocessing.  This time, you'll implement the `one_hot_encode` function. The input, `x`, are a list of labels.  Implement the function to return the list of labels as One-Hot encoded Numpy array.  The possible values for labels are 0 to 9. The one-hot encoding function should return the same encoding for each value between each call to `one_hot_encode`.  Make sure to save the map of encodings outside the function.\n",
    "\n",
    "Hint: Don't reinvent the wheel."
   ]
  },
  {
   "cell_type": "code",
   "execution_count": 6,
   "metadata": {
    "collapsed": false,
    "deletable": true,
    "editable": true
   },
   "outputs": [
    {
     "name": "stdout",
     "output_type": "stream",
     "text": [
      "Tests Passed\n"
     ]
    }
   ],
   "source": [
    "from sklearn.preprocessing import LabelBinarizer\n",
    "def one_hot_encode(x):\n",
    "    \"\"\"\n",
    "    One hot encode a list of sample labels. Return a one-hot encoded vector for each label.\n",
    "    : x: List of sample Labels\n",
    "    : return: Numpy array of one-hot encoded labels\n",
    "    \"\"\"\n",
    "    label_binarizer = LabelBinarizer()\n",
    "    label_binarizer.fit(range(max(x)+1))\n",
    "    b = label_binarizer.transform(x)\n",
    "    return b\n",
    "\n",
    "\n",
    "\"\"\"\n",
    "DON'T MODIFY ANYTHING IN THIS CELL THAT IS BELOW THIS LINE\n",
    "\"\"\"\n",
    "tests.test_one_hot_encode(one_hot_encode)"
   ]
  },
  {
   "cell_type": "markdown",
   "metadata": {
    "deletable": true,
    "editable": true
   },
   "source": [
    "### Randomize Data\n",
    "As you saw from exploring the data above, the order of the samples are randomized.  It doesn't hurt to randomize it again, but you don't need to for this dataset."
   ]
  },
  {
   "cell_type": "markdown",
   "metadata": {
    "deletable": true,
    "editable": true
   },
   "source": [
    "## Preprocess all the data and save it\n",
    "Running the code cell below will preprocess all the CIFAR-10 data and save it to file. The code below also uses 10% of the training data for validation."
   ]
  },
  {
   "cell_type": "code",
   "execution_count": 7,
   "metadata": {
    "collapsed": false,
    "deletable": true,
    "editable": true
   },
   "outputs": [],
   "source": [
    "\"\"\"\n",
    "DON'T MODIFY ANYTHING IN THIS CELL\n",
    "\"\"\"\n",
    "# Preprocess Training, Validation, and Testing Data\n",
    "helper.preprocess_and_save_data(cifar10_dataset_folder_path, normalize, one_hot_encode)"
   ]
  },
  {
   "cell_type": "markdown",
   "metadata": {
    "deletable": true,
    "editable": true
   },
   "source": [
    "# Check Point\n",
    "This is your first checkpoint.  If you ever decide to come back to this notebook or have to restart the notebook, you can start from here.  The preprocessed data has been saved to disk."
   ]
  },
  {
   "cell_type": "code",
   "execution_count": 8,
   "metadata": {
    "collapsed": true,
    "deletable": true,
    "editable": true
   },
   "outputs": [],
   "source": [
    "\"\"\"\n",
    "DON'T MODIFY ANYTHING IN THIS CELL\n",
    "\"\"\"\n",
    "import pickle\n",
    "import problem_unittests as tests\n",
    "import helper\n",
    "\n",
    "# Load the Preprocessed Validation data\n",
    "valid_features, valid_labels = pickle.load(open('preprocess_validation.p', mode='rb'))"
   ]
  },
  {
   "cell_type": "markdown",
   "metadata": {
    "deletable": true,
    "editable": true
   },
   "source": [
    "## Build the network\n",
    "For the neural network, you'll build each layer into a function.  Most of the code you've seen has been outside of functions. To test your code more thoroughly, we require that you put each layer in a function.  This allows us to give you better feedback and test for simple mistakes using our unittests before you submit your project.\n",
    "\n",
    ">**Note:** If you're finding it hard to dedicate enough time for this course each week, we've provided a small shortcut to this part of the project. In the next couple of problems, you'll have the option to use classes from the [TensorFlow Layers](https://www.tensorflow.org/api_docs/python/tf/layers) or [TensorFlow Layers (contrib)](https://www.tensorflow.org/api_guides/python/contrib.layers) packages to build each layer, except the layers you build in the \"Convolutional and Max Pooling Layer\" section.  TF Layers is similar to Keras's and TFLearn's abstraction to layers, so it's easy to pickup.\n",
    "\n",
    ">However, if you would like to get the most out of this course, try to solve all the problems _without_ using anything from the TF Layers packages. You **can** still use classes from other packages that happen to have the same name as ones you find in TF Layers! For example, instead of using the TF Layers version of the `conv2d` class, [tf.layers.conv2d](https://www.tensorflow.org/api_docs/python/tf/layers/conv2d), you would want to use the TF Neural Network version of `conv2d`, [tf.nn.conv2d](https://www.tensorflow.org/api_docs/python/tf/nn/conv2d). \n",
    "\n",
    "Let's begin!\n",
    "\n",
    "### Input\n",
    "The neural network needs to read the image data, one-hot encoded labels, and dropout keep probability. Implement the following functions\n",
    "* Implement `neural_net_image_input`\n",
    " * Return a [TF Placeholder](https://www.tensorflow.org/api_docs/python/tf/placeholder)\n",
    " * Set the shape using `image_shape` with batch size set to `None`.\n",
    " * Name the TensorFlow placeholder \"x\" using the TensorFlow `name` parameter in the [TF Placeholder](https://www.tensorflow.org/api_docs/python/tf/placeholder).\n",
    "* Implement `neural_net_label_input`\n",
    " * Return a [TF Placeholder](https://www.tensorflow.org/api_docs/python/tf/placeholder)\n",
    " * Set the shape using `n_classes` with batch size set to `None`.\n",
    " * Name the TensorFlow placeholder \"y\" using the TensorFlow `name` parameter in the [TF Placeholder](https://www.tensorflow.org/api_docs/python/tf/placeholder).\n",
    "* Implement `neural_net_keep_prob_input`\n",
    " * Return a [TF Placeholder](https://www.tensorflow.org/api_docs/python/tf/placeholder) for dropout keep probability.\n",
    " * Name the TensorFlow placeholder \"keep_prob\" using the TensorFlow `name` parameter in the [TF Placeholder](https://www.tensorflow.org/api_docs/python/tf/placeholder).\n",
    "\n",
    "These names will be used at the end of the project to load your saved model.\n",
    "\n",
    "Note: `None` for shapes in TensorFlow allow for a dynamic size."
   ]
  },
  {
   "cell_type": "code",
   "execution_count": 9,
   "metadata": {
    "collapsed": false,
    "deletable": true,
    "editable": true
   },
   "outputs": [
    {
     "name": "stdout",
     "output_type": "stream",
     "text": [
      "Image Input Tests Passed.\n",
      "Label Input Tests Passed.\n",
      "Keep Prob Tests Passed.\n"
     ]
    }
   ],
   "source": [
    "import tensorflow as tf\n",
    "\n",
    "def neural_net_image_input(image_shape):\n",
    "    \"\"\"\n",
    "    Return a Tensor for a batch of image input\n",
    "    : image_shape: Shape of the images\n",
    "    : return: Tensor for image input.\n",
    "    \"\"\"\n",
    "    # TODO: Implement Function\n",
    "    return tf.placeholder(tf.float32, shape=[None, image_shape[0], image_shape[1], image_shape[2]], name=\"x\")\n",
    "\n",
    "\n",
    "def neural_net_label_input(n_classes):\n",
    "    \"\"\"\n",
    "    Return a Tensor for a batch of label input\n",
    "    : n_classes: Number of classes\n",
    "    : return: Tensor for label input.\n",
    "    \"\"\"\n",
    "    # TODO: Implement Function\n",
    "    return tf.placeholder(tf.float32, shape=[None, n_classes], name=\"y\")\n",
    "\n",
    "\n",
    "def neural_net_keep_prob_input():\n",
    "    \"\"\"\n",
    "    Return a Tensor for keep probability\n",
    "    : return: Tensor for keep probability.\n",
    "    \"\"\"\n",
    "    # TODO: Implement Function\n",
    "    return tf.placeholder(tf.float32, name=\"keep_prob\")\n",
    "\n",
    "\n",
    "\"\"\"\n",
    "DON'T MODIFY ANYTHING IN THIS CELL THAT IS BELOW THIS LINE\n",
    "\"\"\"\n",
    "tf.reset_default_graph()\n",
    "tests.test_nn_image_inputs(neural_net_image_input)\n",
    "tests.test_nn_label_inputs(neural_net_label_input)\n",
    "tests.test_nn_keep_prob_inputs(neural_net_keep_prob_input)"
   ]
  },
  {
   "cell_type": "markdown",
   "metadata": {
    "deletable": true,
    "editable": true
   },
   "source": [
    "### Convolution and Max Pooling Layer\n",
    "Convolution layers have a lot of success with images. For this code cell, you should implement the function `conv2d_maxpool` to apply convolution then max pooling:\n",
    "* Create the weight and bias using `conv_ksize`, `conv_num_outputs` and the shape of `x_tensor`.\n",
    "* Apply a convolution to `x_tensor` using weight and `conv_strides`.\n",
    " * We recommend you use same padding, but you're welcome to use any padding.\n",
    "* Add bias\n",
    "* Add a nonlinear activation to the convolution.\n",
    "* Apply Max Pooling using `pool_ksize` and `pool_strides`.\n",
    " * We recommend you use same padding, but you're welcome to use any padding.\n",
    "\n",
    "**Note:** You **can't** use [TensorFlow Layers](https://www.tensorflow.org/api_docs/python/tf/layers) or [TensorFlow Layers (contrib)](https://www.tensorflow.org/api_guides/python/contrib.layers) for **this** layer, but you can still use TensorFlow's [Neural Network](https://www.tensorflow.org/api_docs/python/tf/nn) package. You may still use the shortcut option for all the **other** layers."
   ]
  },
  {
   "cell_type": "code",
   "execution_count": 10,
   "metadata": {
    "collapsed": false,
    "deletable": true,
    "editable": true
   },
   "outputs": [
    {
     "name": "stdout",
     "output_type": "stream",
     "text": [
      "Tests Passed\n"
     ]
    }
   ],
   "source": [
    "def conv2d_maxpool(x_tensor, conv_num_outputs, conv_ksize, conv_strides, pool_ksize, pool_strides):\n",
    "    \"\"\"\n",
    "    Apply convolution then max pooling to x_tensor\n",
    "    :param x_tensor: TensorFlow Tensor\n",
    "    :param conv_num_outputs: Number of outputs for the convolutional layer\n",
    "    :param conv_ksize: kernal size 2-D Tuple for the convolutional layer\n",
    "    :param conv_strides: Stride 2-D Tuple for convolution\n",
    "    :param pool_ksize: kernal size 2-D Tuple for pool\n",
    "    :param pool_strides: Stride 2-D Tuple for pool\n",
    "    : return: A tensor that represents convolution and max pooling of x_tensor\n",
    "    \"\"\"\n",
    "    weights = tf.Variable(tf.truncated_normal([conv_ksize[0], conv_ksize[1], x_tensor.get_shape()[3].value, conv_num_outputs], stddev=0.1))\n",
    "    bias = tf.Variable(tf.zeros(conv_num_outputs))\n",
    "    conv = tf.nn.conv2d(x_tensor, weights, [1, conv_strides[0], conv_strides[1], 1], 'SAME') + bias\n",
    "    conv  = tf.nn.relu(conv)\n",
    "    conv = tf.nn.max_pool(conv, [1, pool_ksize[0], pool_ksize[1], 1], [1, pool_strides[0], pool_strides[1], 1],'SAME')\n",
    "    # TODO: Implement Function\n",
    "    return conv\n",
    "\n",
    "\n",
    "\"\"\"\n",
    "DON'T MODIFY ANYTHING IN THIS CELL THAT IS BELOW THIS LINE\n",
    "\"\"\"\n",
    "tests.test_con_pool(conv2d_maxpool)"
   ]
  },
  {
   "cell_type": "markdown",
   "metadata": {
    "deletable": true,
    "editable": true
   },
   "source": [
    "### Flatten Layer\n",
    "Implement the `flatten` function to change the dimension of `x_tensor` from a 4-D tensor to a 2-D tensor.  The output should be the shape (*Batch Size*, *Flattened Image Size*). Shortcut option: you can use classes from the [TensorFlow Layers](https://www.tensorflow.org/api_docs/python/tf/layers) or [TensorFlow Layers (contrib)](https://www.tensorflow.org/api_guides/python/contrib.layers) packages for this layer. For more of a challenge, only use other TensorFlow packages."
   ]
  },
  {
   "cell_type": "code",
   "execution_count": 11,
   "metadata": {
    "collapsed": false,
    "deletable": true,
    "editable": true
   },
   "outputs": [
    {
     "name": "stdout",
     "output_type": "stream",
     "text": [
      "Tests Passed\n"
     ]
    }
   ],
   "source": [
    "def flatten(x_tensor):\n",
    "    \"\"\"\n",
    "    Flatten x_tensor to (Batch Size, Flattened Image Size)\n",
    "    : x_tensor: A tensor of size (Batch Size, ...), where ... are the image dimensions.\n",
    "    : return: A tensor of size (Batch Size, Flattened Image Size).\n",
    "    \"\"\"\n",
    "    # TODO: Implement Function\n",
    "    return tf.contrib.layers.flatten(x_tensor)\n",
    "\n",
    "\n",
    "\"\"\"\n",
    "DON'T MODIFY ANYTHING IN THIS CELL THAT IS BELOW THIS LINE\n",
    "\"\"\"\n",
    "tests.test_flatten(flatten)"
   ]
  },
  {
   "cell_type": "markdown",
   "metadata": {
    "deletable": true,
    "editable": true
   },
   "source": [
    "### Fully-Connected Layer\n",
    "Implement the `fully_conn` function to apply a fully connected layer to `x_tensor` with the shape (*Batch Size*, *num_outputs*). Shortcut option: you can use classes from the [TensorFlow Layers](https://www.tensorflow.org/api_docs/python/tf/layers) or [TensorFlow Layers (contrib)](https://www.tensorflow.org/api_guides/python/contrib.layers) packages for this layer. For more of a challenge, only use other TensorFlow packages."
   ]
  },
  {
   "cell_type": "code",
   "execution_count": 12,
   "metadata": {
    "collapsed": false,
    "deletable": true,
    "editable": true
   },
   "outputs": [
    {
     "name": "stdout",
     "output_type": "stream",
     "text": [
      "Tests Passed\n"
     ]
    }
   ],
   "source": [
    "def fully_conn(x_tensor, num_outputs):\n",
    "    \"\"\"\n",
    "    Apply a fully connected layer to x_tensor using weight and bias\n",
    "    : x_tensor: A 2-D tensor where the first dimension is batch size.\n",
    "    : num_outputs: The number of output that the new tensor should be.\n",
    "    : return: A 2-D tensor where the second dimension is num_outputs.\n",
    "    \"\"\"\n",
    "    # TODO: Implement Function\n",
    "    return tf.contrib.layers.fully_connected(x_tensor, num_outputs)\n",
    "\n",
    "\n",
    "\"\"\"\n",
    "DON'T MODIFY ANYTHING IN THIS CELL THAT IS BELOW THIS LINE\n",
    "\"\"\"\n",
    "tests.test_fully_conn(fully_conn)"
   ]
  },
  {
   "cell_type": "markdown",
   "metadata": {
    "deletable": true,
    "editable": true
   },
   "source": [
    "### Output Layer\n",
    "Implement the `output` function to apply a fully connected layer to `x_tensor` with the shape (*Batch Size*, *num_outputs*). Shortcut option: you can use classes from the [TensorFlow Layers](https://www.tensorflow.org/api_docs/python/tf/layers) or [TensorFlow Layers (contrib)](https://www.tensorflow.org/api_guides/python/contrib.layers) packages for this layer. For more of a challenge, only use other TensorFlow packages.\n",
    "\n",
    "**Note:** Activation, softmax, or cross entropy should **not** be applied to this."
   ]
  },
  {
   "cell_type": "code",
   "execution_count": 13,
   "metadata": {
    "collapsed": false,
    "deletable": true,
    "editable": true
   },
   "outputs": [
    {
     "name": "stdout",
     "output_type": "stream",
     "text": [
      "Tests Passed\n"
     ]
    }
   ],
   "source": [
    "def output(x_tensor, num_outputs):\n",
    "    \"\"\"\n",
    "    Apply a output layer to x_tensor using weight and bias\n",
    "    : x_tensor: A 2-D tensor where the first dimension is batch size.\n",
    "    : num_outputs: The number of output that the new tensor should be.\n",
    "    : return: A 2-D tensor where the second dimension is num_outputs.\n",
    "    \"\"\"\n",
    "    # TODO: Implement Function\n",
    "    return tf.contrib.layers.fully_connected(x_tensor, num_outputs, tf.nn.relu)\n",
    "\n",
    "\n",
    "\"\"\"\n",
    "DON'T MODIFY ANYTHING IN THIS CELL THAT IS BELOW THIS LINE\n",
    "\"\"\"\n",
    "tests.test_output(output)"
   ]
  },
  {
   "cell_type": "markdown",
   "metadata": {
    "deletable": true,
    "editable": true
   },
   "source": [
    "### Create Convolutional Model\n",
    "Implement the function `conv_net` to create a convolutional neural network model. The function takes in a batch of images, `x`, and outputs logits.  Use the layers you created above to create this model:\n",
    "\n",
    "* Apply 1, 2, or 3 Convolution and Max Pool layers\n",
    "* Apply a Flatten Layer\n",
    "* Apply 1, 2, or 3 Fully Connected Layers\n",
    "* Apply an Output Layer\n",
    "* Return the output\n",
    "* Apply [TensorFlow's Dropout](https://www.tensorflow.org/api_docs/python/tf/nn/dropout) to one or more layers in the model using `keep_prob`. "
   ]
  },
  {
   "cell_type": "code",
   "execution_count": 48,
   "metadata": {
    "collapsed": false,
    "deletable": true,
    "editable": true
   },
   "outputs": [
    {
     "name": "stdout",
     "output_type": "stream",
     "text": [
      "Neural Network Built!\n"
     ]
    }
   ],
   "source": [
    "def conv_net(x, keep_prob):\n",
    "    \"\"\"\n",
    "    Create a convolutional neural network model\n",
    "    : x: Placeholder tensor that holds image data.\n",
    "    : keep_prob: Placeholder tensor that hold dropout keep probability.\n",
    "    : return: Tensor that represents logits\n",
    "    \"\"\"\n",
    "    # TODO: Apply 1, 2, or 3 Convolution and Max Pool layers\n",
    "    #    Play around with different number of outputs, kernel size and stride\n",
    "    # Function Definition from Above:\n",
    "    conv_num_outputs = 10\n",
    "    conv_ksize = (8, 8)\n",
    "    conv_strides = (2, 2)\n",
    "    pool_ksize = (4, 4)\n",
    "    pool_strides = (4, 4)\n",
    "    x = conv2d_maxpool(x, conv_num_outputs, conv_ksize, conv_strides, pool_ksize, pool_strides)\n",
    "    x = tf.nn.dropout(x, keep_prob=keep_prob)\n",
    "    \n",
    "    # TODO: Apply a Flatten Layer\n",
    "    # Function Definition from Above:\n",
    "    x = flatten(x)\n",
    "    \n",
    "\n",
    "    # TODO: Apply 1, 2, or 3 Fully Connected Layers\n",
    "    #    Play around with different number of outputs\n",
    "    # Function Definition from Above:\n",
    "    x = fully_conn(x, conv_num_outputs)\n",
    "    x = tf.nn.dropout(x, keep_prob=keep_prob)\n",
    "    \n",
    "    # TODO: Apply an Output Layer\n",
    "    #    Set this to the number of classes\n",
    "    # Function Definition from Above:\n",
    "    x = output(x, conv_num_outputs)\n",
    "    x = tf.nn.dropout(x, keep_prob=keep_prob)\n",
    "    \n",
    "    # TODO: return output\n",
    "    return x\n",
    "\n",
    "\n",
    "\"\"\"\n",
    "DON'T MODIFY ANYTHING IN THIS CELL THAT IS BELOW THIS LINE\n",
    "\"\"\"\n",
    "\n",
    "##############################\n",
    "## Build the Neural Network ##\n",
    "##############################\n",
    "\n",
    "# Remove previous weights, bias, inputs, etc..\n",
    "tf.reset_default_graph()\n",
    "\n",
    "# Inputs\n",
    "x = neural_net_image_input((32, 32, 3))\n",
    "y = neural_net_label_input(10)\n",
    "keep_prob = neural_net_keep_prob_input()\n",
    "\n",
    "# Model\n",
    "logits = conv_net(x, keep_prob)\n",
    "\n",
    "# Name logits Tensor, so that is can be loaded from disk after training\n",
    "logits = tf.identity(logits, name='logits')\n",
    "\n",
    "# Loss and Optimizer\n",
    "cost = tf.reduce_mean(tf.nn.softmax_cross_entropy_with_logits(logits=logits, labels=y))\n",
    "optimizer = tf.train.AdamOptimizer().minimize(cost)\n",
    "\n",
    "# Accuracy\n",
    "correct_pred = tf.equal(tf.argmax(logits, 1), tf.argmax(y, 1))\n",
    "accuracy = tf.reduce_mean(tf.cast(correct_pred, tf.float32), name='accuracy')\n",
    "\n",
    "tests.test_conv_net(conv_net)"
   ]
  },
  {
   "cell_type": "markdown",
   "metadata": {
    "deletable": true,
    "editable": true
   },
   "source": [
    "## Train the Neural Network\n",
    "### Single Optimization\n",
    "Implement the function `train_neural_network` to do a single optimization.  The optimization should use `optimizer` to optimize in `session` with a `feed_dict` of the following:\n",
    "* `x` for image input\n",
    "* `y` for labels\n",
    "* `keep_prob` for keep probability for dropout\n",
    "\n",
    "This function will be called for each batch, so `tf.global_variables_initializer()` has already been called.\n",
    "\n",
    "Note: Nothing needs to be returned. This function is only optimizing the neural network."
   ]
  },
  {
   "cell_type": "code",
   "execution_count": 42,
   "metadata": {
    "collapsed": false,
    "deletable": true,
    "editable": true
   },
   "outputs": [
    {
     "name": "stdout",
     "output_type": "stream",
     "text": [
      "Tests Passed\n"
     ]
    }
   ],
   "source": [
    "def train_neural_network(session, optimizer, keep_probability, feature_batch, label_batch):\n",
    "    \"\"\"\n",
    "    Optimize the session on a batch of images and labels\n",
    "    : session: Current TensorFlow session\n",
    "    : optimizer: TensorFlow optimizer function\n",
    "    : keep_probability: keep probability\n",
    "    : feature_batch: Batch of Numpy image data\n",
    "    : label_batch: Batch of Numpy label data\n",
    "    \"\"\"\n",
    "    # TODO: Implement Function\n",
    "    session.run(optimizer, feed_dict = {x: feature_batch, y: label_batch, keep_prob: keep_probability})\n",
    "\n",
    "\n",
    "\"\"\"\n",
    "DON'T MODIFY ANYTHING IN THIS CELL THAT IS BELOW THIS LINE\n",
    "\"\"\"\n",
    "tests.test_train_nn(train_neural_network)"
   ]
  },
  {
   "cell_type": "markdown",
   "metadata": {
    "deletable": true,
    "editable": true
   },
   "source": [
    "### Show Stats\n",
    "Implement the function `print_stats` to print loss and validation accuracy.  Use the global variables `valid_features` and `valid_labels` to calculate validation accuracy.  Use a keep probability of `1.0` to calculate the loss and validation accuracy."
   ]
  },
  {
   "cell_type": "code",
   "execution_count": 22,
   "metadata": {
    "collapsed": false,
    "deletable": true,
    "editable": true
   },
   "outputs": [],
   "source": [
    "def print_stats(session, feature_batch, label_batch, cost, accuracy):\n",
    "    \"\"\"\n",
    "    Print information about loss and validation accuracy\n",
    "    : session: Current TensorFlow session\n",
    "    : feature_batch: Batch of Numpy image data\n",
    "    : label_batch: Batch of Numpy label data\n",
    "    : cost: TensorFlow cost function\n",
    "    : accuracy: TensorFlow accuracy function\n",
    "    \"\"\"\n",
    "    # TODO: Implement Function\n",
    "    cost = session.run(cost, feed_dict={x: feature_batch, y: label_batch, keep_prob: 1.0})\n",
    "    accuracy_value = session.run(accuracy, feed_dict={x: valid_features, y: valid_labels, keep_prob: 1.0})\n",
    "    print('Cost: ', cost, 'Accuracy: ', accuracy_value * 100, '%')\n"
   ]
  },
  {
   "cell_type": "markdown",
   "metadata": {
    "deletable": true,
    "editable": true
   },
   "source": [
    "### Hyperparameters\n",
    "Tune the following parameters:\n",
    "* Set `epochs` to the number of iterations until the network stops learning or start overfitting\n",
    "* Set `batch_size` to the highest number that your machine has memory for.  Most people set them to common sizes of memory:\n",
    " * 64\n",
    " * 128\n",
    " * 256\n",
    " * ...\n",
    "* Set `keep_probability` to the probability of keeping a node using dropout"
   ]
  },
  {
   "cell_type": "code",
   "execution_count": 49,
   "metadata": {
    "collapsed": true,
    "deletable": true,
    "editable": true
   },
   "outputs": [],
   "source": [
    "# TODO: Tune Parameters\n",
    "epochs = 100\n",
    "batch_size = 512\n",
    "keep_probability = 0.9"
   ]
  },
  {
   "cell_type": "markdown",
   "metadata": {
    "deletable": true,
    "editable": true
   },
   "source": [
    "### Train on a Single CIFAR-10 Batch\n",
    "Instead of training the neural network on all the CIFAR-10 batches of data, let's use a single batch. This should save time while you iterate on the model to get a better accuracy.  Once the final validation accuracy is 50% or greater, run the model on all the data in the next section."
   ]
  },
  {
   "cell_type": "code",
   "execution_count": 50,
   "metadata": {
    "collapsed": false,
    "deletable": true,
    "editable": true
   },
   "outputs": [
    {
     "name": "stdout",
     "output_type": "stream",
     "text": [
      "Checking the Training on a Single Batch...\n",
      "Epoch  1, CIFAR-10 Batch 1:  Cost:  2.30219 Accuracy:  10.9399996698 %\n",
      "Epoch  2, CIFAR-10 Batch 1:  Cost:  2.29374 Accuracy:  9.97999981046 %\n",
      "Epoch  3, CIFAR-10 Batch 1:  Cost:  2.28981 Accuracy:  10.6799989939 %\n",
      "Epoch  4, CIFAR-10 Batch 1:  Cost:  2.28461 Accuracy:  11.6799987853 %\n",
      "Epoch  5, CIFAR-10 Batch 1:  Cost:  2.27871 Accuracy:  12.3799994588 %\n",
      "Epoch  6, CIFAR-10 Batch 1:  Cost:  2.27047 Accuracy:  13.1599992514 %\n",
      "Epoch  7, CIFAR-10 Batch 1:  Cost:  2.25631 Accuracy:  13.4199991822 %\n",
      "Epoch  8, CIFAR-10 Batch 1:  Cost:  2.23802 Accuracy:  15.4799997807 %\n",
      "Epoch  9, CIFAR-10 Batch 1:  Cost:  2.22225 Accuracy:  17.0799985528 %\n",
      "Epoch 10, CIFAR-10 Batch 1:  Cost:  2.20349 Accuracy:  22.7799996734 %\n",
      "Epoch 11, CIFAR-10 Batch 1:  Cost:  2.17562 Accuracy:  24.4399979711 %\n",
      "Epoch 12, CIFAR-10 Batch 1:  Cost:  2.13413 Accuracy:  26.0800004005 %\n",
      "Epoch 13, CIFAR-10 Batch 1:  Cost:  2.06868 Accuracy:  27.0599991083 %\n",
      "Epoch 14, CIFAR-10 Batch 1:  Cost:  1.99596 Accuracy:  29.1599988937 %\n",
      "Epoch 15, CIFAR-10 Batch 1:  Cost:  1.93764 Accuracy:  32.6599955559 %\n",
      "Epoch 16, CIFAR-10 Batch 1:  Cost:  1.90747 Accuracy:  34.3799978495 %\n",
      "Epoch 17, CIFAR-10 Batch 1:  Cost:  1.86906 Accuracy:  35.5199962854 %\n",
      "Epoch 18, CIFAR-10 Batch 1:  Cost:  1.84948 Accuracy:  36.6799980402 %\n",
      "Epoch 19, CIFAR-10 Batch 1:  Cost:  1.83217 Accuracy:  38.4000003338 %\n",
      "Epoch 20, CIFAR-10 Batch 1:  Cost:  1.82772 Accuracy:  39.0599966049 %\n",
      "Epoch 21, CIFAR-10 Batch 1:  Cost:  1.80357 Accuracy:  38.6199980974 %\n",
      "Epoch 22, CIFAR-10 Batch 1:  Cost:  1.78728 Accuracy:  40.2599960566 %\n",
      "Epoch 23, CIFAR-10 Batch 1:  Cost:  1.78333 Accuracy:  40.239995718 %\n",
      "Epoch 24, CIFAR-10 Batch 1:  Cost:  1.7659 Accuracy:  41.6799962521 %\n",
      "Epoch 25, CIFAR-10 Batch 1:  Cost:  1.76155 Accuracy:  41.639995575 %\n",
      "Epoch 26, CIFAR-10 Batch 1:  Cost:  1.74974 Accuracy:  41.3199990988 %\n",
      "Epoch 27, CIFAR-10 Batch 1:  Cost:  1.73618 Accuracy:  42.1799957752 %\n",
      "Epoch 28, CIFAR-10 Batch 1:  Cost:  1.73565 Accuracy:  42.4399971962 %\n",
      "Epoch 29, CIFAR-10 Batch 1:  Cost:  1.72211 Accuracy:  42.2600001097 %\n",
      "Epoch 30, CIFAR-10 Batch 1:  Cost:  1.71661 Accuracy:  43.6199992895 %\n",
      "Epoch 31, CIFAR-10 Batch 1:  Cost:  1.70371 Accuracy:  43.1199967861 %\n",
      "Epoch 32, CIFAR-10 Batch 1:  Cost:  1.69146 Accuracy:  43.9199984074 %\n",
      "Epoch 33, CIFAR-10 Batch 1:  Cost:  1.69449 Accuracy:  43.2399958372 %\n",
      "Epoch 34, CIFAR-10 Batch 1:  Cost:  1.68266 Accuracy:  43.799996376 %\n",
      "Epoch 35, CIFAR-10 Batch 1:  Cost:  1.68021 Accuracy:  44.1399931908 %\n",
      "Epoch 36, CIFAR-10 Batch 1:  Cost:  1.66831 Accuracy:  44.7999954224 %\n",
      "Epoch 37, CIFAR-10 Batch 1:  Cost:  1.66602 Accuracy:  44.6399986744 %\n",
      "Epoch 38, CIFAR-10 Batch 1:  Cost:  1.65884 Accuracy:  44.8599994183 %\n",
      "Epoch 39, CIFAR-10 Batch 1:  Cost:  1.65648 Accuracy:  45.1999992132 %\n",
      "Epoch 40, CIFAR-10 Batch 1:  Cost:  1.64834 Accuracy:  45.3599989414 %\n",
      "Epoch 41, CIFAR-10 Batch 1:  Cost:  1.64625 Accuracy:  45.0599968433 %\n",
      "Epoch 42, CIFAR-10 Batch 1:  Cost:  1.63633 Accuracy:  45.4999983311 %\n",
      "Epoch 43, CIFAR-10 Batch 1:  Cost:  1.63081 Accuracy:  45.7799941301 %\n",
      "Epoch 44, CIFAR-10 Batch 1:  Cost:  1.63178 Accuracy:  45.4999953508 %\n",
      "Epoch 45, CIFAR-10 Batch 1:  Cost:  1.61101 Accuracy:  45.9799975157 %\n",
      "Epoch 46, CIFAR-10 Batch 1:  Cost:  1.61535 Accuracy:  46.3999927044 %\n",
      "Epoch 47, CIFAR-10 Batch 1:  Cost:  1.60873 Accuracy:  46.2399989367 %\n",
      "Epoch 48, CIFAR-10 Batch 1:  Cost:  1.61405 Accuracy:  46.2799936533 %\n",
      "Epoch 49, CIFAR-10 Batch 1:  Cost:  1.60257 Accuracy:  47.13999331 %\n",
      "Epoch 50, CIFAR-10 Batch 1:  Cost:  1.58886 Accuracy:  47.2999989986 %\n",
      "Epoch 51, CIFAR-10 Batch 1:  Cost:  1.58641 Accuracy:  46.7599987984 %\n",
      "Epoch 52, CIFAR-10 Batch 1:  Cost:  1.57225 Accuracy:  48.119994998 %\n",
      "Epoch 53, CIFAR-10 Batch 1:  Cost:  1.58242 Accuracy:  47.1999943256 %\n",
      "Epoch 54, CIFAR-10 Batch 1:  Cost:  1.56743 Accuracy:  47.5199967623 %\n",
      "Epoch 55, CIFAR-10 Batch 1:  Cost:  1.56523 Accuracy:  48.0599939823 %\n",
      "Epoch 56, CIFAR-10 Batch 1:  Cost:  1.5624 Accuracy:  47.8399962187 %\n",
      "Epoch 57, CIFAR-10 Batch 1:  Cost:  1.55822 Accuracy:  47.5599944592 %\n",
      "Epoch 58, CIFAR-10 Batch 1:  Cost:  1.5526 Accuracy:  47.9199945927 %\n",
      "Epoch 59, CIFAR-10 Batch 1:  Cost:  1.54821 Accuracy:  48.2199937105 %\n",
      "Epoch 60, CIFAR-10 Batch 1:  Cost:  1.5433 Accuracy:  48.5199987888 %\n",
      "Epoch 61, CIFAR-10 Batch 1:  Cost:  1.53455 Accuracy:  49.0599930286 %\n",
      "Epoch 62, CIFAR-10 Batch 1:  Cost:  1.52462 Accuracy:  49.2799967527 %\n",
      "Epoch 63, CIFAR-10 Batch 1:  Cost:  1.52896 Accuracy:  48.6199975014 %\n",
      "Epoch 64, CIFAR-10 Batch 1:  Cost:  1.54339 Accuracy:  48.1999963522 %\n",
      "Epoch 65, CIFAR-10 Batch 1:  Cost:  1.52775 Accuracy:  49.2599964142 %\n",
      "Epoch 66, CIFAR-10 Batch 1:  Cost:  1.51916 Accuracy:  49.019998312 %\n",
      "Epoch 67, CIFAR-10 Batch 1:  Cost:  1.50893 Accuracy:  49.7199952602 %\n",
      "Epoch 68, CIFAR-10 Batch 1:  Cost:  1.51405 Accuracy:  49.7200012207 %\n",
      "Epoch 69, CIFAR-10 Batch 1:  Cost:  1.49932 Accuracy:  50.1999974251 %\n",
      "Epoch 70, CIFAR-10 Batch 1:  Cost:  1.50474 Accuracy:  49.639993906 %\n",
      "Epoch 71, CIFAR-10 Batch 1:  Cost:  1.49897 Accuracy:  50.1999974251 %\n",
      "Epoch 72, CIFAR-10 Batch 1:  Cost:  1.49891 Accuracy:  50.0399947166 %\n",
      "Epoch 73, CIFAR-10 Batch 1:  Cost:  1.50238 Accuracy:  49.9399960041 %\n",
      "Epoch 74, CIFAR-10 Batch 1:  Cost:  1.49343 Accuracy:  50.6399929523 %\n",
      "Epoch 75, CIFAR-10 Batch 1:  Cost:  1.48368 Accuracy:  50.5999922752 %\n",
      "Epoch 76, CIFAR-10 Batch 1:  Cost:  1.47476 Accuracy:  50.3199934959 %\n",
      "Epoch 77, CIFAR-10 Batch 1:  Cost:  1.48911 Accuracy:  50.1199960709 %\n",
      "Epoch 78, CIFAR-10 Batch 1:  Cost:  1.47654 Accuracy:  50.6599903107 %\n",
      "Epoch 79, CIFAR-10 Batch 1:  Cost:  1.46928 Accuracy:  51.0199964046 %\n",
      "Epoch 80, CIFAR-10 Batch 1:  Cost:  1.46211 Accuracy:  50.9599983692 %\n",
      "Epoch 81, CIFAR-10 Batch 1:  Cost:  1.46549 Accuracy:  50.9999990463 %\n",
      "Epoch 82, CIFAR-10 Batch 1:  Cost:  1.46772 Accuracy:  50.5599915981 %\n",
      "Epoch 83, CIFAR-10 Batch 1:  Cost:  1.46208 Accuracy:  51.1199951172 %\n",
      "Epoch 84, CIFAR-10 Batch 1:  Cost:  1.4568 Accuracy:  50.3799974918 %\n",
      "Epoch 85, CIFAR-10 Batch 1:  Cost:  1.4765 Accuracy:  50.359994173 %\n",
      "Epoch 86, CIFAR-10 Batch 1:  Cost:  1.44679 Accuracy:  51.3799965382 %\n",
      "Epoch 87, CIFAR-10 Batch 1:  Cost:  1.44517 Accuracy:  51.4599978924 %\n",
      "Epoch 88, CIFAR-10 Batch 1:  Cost:  1.45467 Accuracy:  51.0199964046 %\n",
      "Epoch 89, CIFAR-10 Batch 1:  Cost:  1.43541 Accuracy:  51.499992609 %\n",
      "Epoch 90, CIFAR-10 Batch 1:  Cost:  1.43734 Accuracy:  51.2999951839 %\n",
      "Epoch 91, CIFAR-10 Batch 1:  Cost:  1.43527 Accuracy:  51.2799978256 %\n",
      "Epoch 92, CIFAR-10 Batch 1:  Cost:  1.43496 Accuracy:  51.2599945068 %\n",
      "Epoch 93, CIFAR-10 Batch 1:  Cost:  1.43916 Accuracy:  50.9399950504 %\n",
      "Epoch 94, CIFAR-10 Batch 1:  Cost:  1.43565 Accuracy:  50.5599975586 %\n",
      "Epoch 95, CIFAR-10 Batch 1:  Cost:  1.44343 Accuracy:  50.7799983025 %\n",
      "Epoch 96, CIFAR-10 Batch 1:  Cost:  1.43273 Accuracy:  51.0999917984 %\n",
      "Epoch 97, CIFAR-10 Batch 1:  Cost:  1.42798 Accuracy:  51.1799931526 %\n",
      "Epoch 98, CIFAR-10 Batch 1:  Cost:  1.41795 Accuracy:  51.2799978256 %\n",
      "Epoch 99, CIFAR-10 Batch 1:  Cost:  1.42362 Accuracy:  51.5399992466 %\n",
      "Epoch 100, CIFAR-10 Batch 1:  Cost:  1.42154 Accuracy:  51.8399953842 %\n"
     ]
    }
   ],
   "source": [
    "\"\"\"\n",
    "DON'T MODIFY ANYTHING IN THIS CELL\n",
    "\"\"\"\n",
    "print('Checking the Training on a Single Batch...')\n",
    "with tf.Session() as sess:\n",
    "    # Initializing the variables\n",
    "    sess.run(tf.global_variables_initializer())\n",
    "    \n",
    "    # Training cycle\n",
    "    for epoch in range(epochs):\n",
    "        batch_i = 1\n",
    "        for batch_features, batch_labels in helper.load_preprocess_training_batch(batch_i, batch_size):\n",
    "            train_neural_network(sess, optimizer, keep_probability, batch_features, batch_labels)\n",
    "        print('Epoch {:>2}, CIFAR-10 Batch {}:  '.format(epoch + 1, batch_i), end='')\n",
    "        print_stats(sess, batch_features, batch_labels, cost, accuracy)"
   ]
  },
  {
   "cell_type": "markdown",
   "metadata": {
    "deletable": true,
    "editable": true
   },
   "source": [
    "### Fully Train the Model\n",
    "Now that you got a good accuracy with a single CIFAR-10 batch, try it with all five batches."
   ]
  },
  {
   "cell_type": "code",
   "execution_count": 51,
   "metadata": {
    "collapsed": false,
    "deletable": true,
    "editable": true
   },
   "outputs": [
    {
     "name": "stdout",
     "output_type": "stream",
     "text": [
      "Training...\n",
      "Epoch  1, CIFAR-10 Batch 1:  Cost:  2.28766 Accuracy:  14.4800007343 %\n",
      "Epoch  1, CIFAR-10 Batch 2:  Cost:  2.24959 Accuracy:  17.159999907 %\n",
      "Epoch  1, CIFAR-10 Batch 3:  Cost:  2.22371 Accuracy:  20.6599980593 %\n",
      "Epoch  1, CIFAR-10 Batch 4:  Cost:  2.20692 Accuracy:  22.6799994707 %\n",
      "Epoch  1, CIFAR-10 Batch 5:  Cost:  2.18597 Accuracy:  24.2199972272 %\n",
      "Epoch  2, CIFAR-10 Batch 1:  Cost:  2.14612 Accuracy:  26.6200006008 %\n",
      "Epoch  2, CIFAR-10 Batch 2:  Cost:  2.05285 Accuracy:  28.3600002527 %\n",
      "Epoch  2, CIFAR-10 Batch 3:  Cost:  1.96673 Accuracy:  29.4599980116 %\n",
      "Epoch  2, CIFAR-10 Batch 4:  Cost:  2.02214 Accuracy:  31.3199996948 %\n",
      "Epoch  2, CIFAR-10 Batch 5:  Cost:  2.03773 Accuracy:  32.6399981976 %\n",
      "Epoch  3, CIFAR-10 Batch 1:  Cost:  1.99262 Accuracy:  34.8199993372 %\n",
      "Epoch  3, CIFAR-10 Batch 2:  Cost:  1.9236 Accuracy:  35.5199992657 %\n",
      "Epoch  3, CIFAR-10 Batch 3:  Cost:  1.83899 Accuracy:  35.9199970961 %\n",
      "Epoch  3, CIFAR-10 Batch 4:  Cost:  1.90934 Accuracy:  36.2999975681 %\n",
      "Epoch  3, CIFAR-10 Batch 5:  Cost:  1.94229 Accuracy:  37.399995327 %\n",
      "Epoch  4, CIFAR-10 Batch 1:  Cost:  1.90221 Accuracy:  37.5999987125 %\n",
      "Epoch  4, CIFAR-10 Batch 2:  Cost:  1.86323 Accuracy:  37.4599993229 %\n",
      "Epoch  4, CIFAR-10 Batch 3:  Cost:  1.75446 Accuracy:  39.1799986362 %\n",
      "Epoch  4, CIFAR-10 Batch 4:  Cost:  1.76913 Accuracy:  39.4799977541 %\n",
      "Epoch  4, CIFAR-10 Batch 5:  Cost:  1.83087 Accuracy:  40.6399935484 %\n",
      "Epoch  5, CIFAR-10 Batch 1:  Cost:  1.79947 Accuracy:  41.7999982834 %\n",
      "Epoch  5, CIFAR-10 Batch 2:  Cost:  1.72376 Accuracy:  41.7999982834 %\n",
      "Epoch  5, CIFAR-10 Batch 3:  Cost:  1.66229 Accuracy:  42.5199985504 %\n",
      "Epoch  5, CIFAR-10 Batch 4:  Cost:  1.69335 Accuracy:  41.6399985552 %\n",
      "Epoch  5, CIFAR-10 Batch 5:  Cost:  1.73391 Accuracy:  43.1399971247 %\n",
      "Epoch  6, CIFAR-10 Batch 1:  Cost:  1.73657 Accuracy:  43.5599982738 %\n",
      "Epoch  6, CIFAR-10 Batch 2:  Cost:  1.68404 Accuracy:  43.6399996281 %\n",
      "Epoch  6, CIFAR-10 Batch 3:  Cost:  1.61576 Accuracy:  44.1599965096 %\n",
      "Epoch  6, CIFAR-10 Batch 4:  Cost:  1.65218 Accuracy:  43.799996376 %\n",
      "Epoch  6, CIFAR-10 Batch 5:  Cost:  1.70489 Accuracy:  43.9999967813 %\n",
      "Epoch  7, CIFAR-10 Batch 1:  Cost:  1.69287 Accuracy:  44.8199957609 %\n",
      "Epoch  7, CIFAR-10 Batch 2:  Cost:  1.6354 Accuracy:  45.1799958944 %\n",
      "Epoch  7, CIFAR-10 Batch 3:  Cost:  1.6046 Accuracy:  44.3199932575 %\n",
      "Epoch  7, CIFAR-10 Batch 4:  Cost:  1.61041 Accuracy:  44.7999984026 %\n",
      "Epoch  7, CIFAR-10 Batch 5:  Cost:  1.67057 Accuracy:  44.8399960995 %\n",
      "Epoch  8, CIFAR-10 Batch 1:  Cost:  1.6643 Accuracy:  45.2799975872 %\n",
      "Epoch  8, CIFAR-10 Batch 2:  Cost:  1.60865 Accuracy:  46.2599933147 %\n",
      "Epoch  8, CIFAR-10 Batch 3:  Cost:  1.5672 Accuracy:  45.9599971771 %\n",
      "Epoch  8, CIFAR-10 Batch 4:  Cost:  1.57661 Accuracy:  45.5199956894 %\n",
      "Epoch  8, CIFAR-10 Batch 5:  Cost:  1.65216 Accuracy:  45.4999923706 %\n",
      "Epoch  9, CIFAR-10 Batch 1:  Cost:  1.64702 Accuracy:  46.259996295 %\n",
      "Epoch  9, CIFAR-10 Batch 2:  Cost:  1.60883 Accuracy:  45.5799967051 %\n",
      "Epoch  9, CIFAR-10 Batch 3:  Cost:  1.55849 Accuracy:  46.1199969053 %\n",
      "Epoch  9, CIFAR-10 Batch 4:  Cost:  1.57012 Accuracy:  46.2999939919 %\n",
      "Epoch  9, CIFAR-10 Batch 5:  Cost:  1.62954 Accuracy:  46.4599937201 %\n",
      "Epoch 10, CIFAR-10 Batch 1:  Cost:  1.62442 Accuracy:  46.8799978495 %\n",
      "Epoch 10, CIFAR-10 Batch 2:  Cost:  1.56434 Accuracy:  47.319996357 %\n",
      "Epoch 10, CIFAR-10 Batch 3:  Cost:  1.5275 Accuracy:  47.319996357 %\n",
      "Epoch 10, CIFAR-10 Batch 4:  Cost:  1.54985 Accuracy:  47.4199980497 %\n",
      "Epoch 10, CIFAR-10 Batch 5:  Cost:  1.60245 Accuracy:  47.3599940538 %\n",
      "Epoch 11, CIFAR-10 Batch 1:  Cost:  1.60407 Accuracy:  47.2999989986 %\n",
      "Epoch 11, CIFAR-10 Batch 2:  Cost:  1.55043 Accuracy:  47.1599936485 %\n",
      "Epoch 11, CIFAR-10 Batch 3:  Cost:  1.5099 Accuracy:  47.6599931717 %\n",
      "Epoch 11, CIFAR-10 Batch 4:  Cost:  1.53874 Accuracy:  47.3599970341 %\n",
      "Epoch 11, CIFAR-10 Batch 5:  Cost:  1.59436 Accuracy:  47.3999947309 %\n",
      "Epoch 12, CIFAR-10 Batch 1:  Cost:  1.59753 Accuracy:  47.779995203 %\n",
      "Epoch 12, CIFAR-10 Batch 2:  Cost:  1.53672 Accuracy:  47.8199958801 %\n",
      "Epoch 12, CIFAR-10 Batch 3:  Cost:  1.49975 Accuracy:  47.2199976444 %\n",
      "Epoch 12, CIFAR-10 Batch 4:  Cost:  1.53155 Accuracy:  47.9199916124 %\n",
      "Epoch 12, CIFAR-10 Batch 5:  Cost:  1.59072 Accuracy:  47.0199972391 %\n",
      "Epoch 13, CIFAR-10 Batch 1:  Cost:  1.58491 Accuracy:  47.2599953413 %\n",
      "Epoch 13, CIFAR-10 Batch 2:  Cost:  1.52392 Accuracy:  48.3399987221 %\n",
      "Epoch 13, CIFAR-10 Batch 3:  Cost:  1.4782 Accuracy:  48.4199941158 %\n",
      "Epoch 13, CIFAR-10 Batch 4:  Cost:  1.51119 Accuracy:  48.3599960804 %\n",
      "Epoch 13, CIFAR-10 Batch 5:  Cost:  1.57041 Accuracy:  48.3399987221 %\n",
      "Epoch 14, CIFAR-10 Batch 1:  Cost:  1.56734 Accuracy:  48.039996624 %\n",
      "Epoch 14, CIFAR-10 Batch 2:  Cost:  1.51972 Accuracy:  48.3399987221 %\n",
      "Epoch 14, CIFAR-10 Batch 3:  Cost:  1.47784 Accuracy:  48.5999941826 %\n",
      "Epoch 14, CIFAR-10 Batch 4:  Cost:  1.50621 Accuracy:  48.4399914742 %\n",
      "Epoch 14, CIFAR-10 Batch 5:  Cost:  1.55784 Accuracy:  48.5199958086 %\n",
      "Epoch 15, CIFAR-10 Batch 1:  Cost:  1.56212 Accuracy:  48.4799981117 %\n",
      "Epoch 15, CIFAR-10 Batch 2:  Cost:  1.52387 Accuracy:  48.9999949932 %\n",
      "Epoch 15, CIFAR-10 Batch 3:  Cost:  1.46438 Accuracy:  48.0399906635 %\n",
      "Epoch 15, CIFAR-10 Batch 4:  Cost:  1.5221 Accuracy:  47.9399949312 %\n",
      "Epoch 15, CIFAR-10 Batch 5:  Cost:  1.55034 Accuracy:  48.2399970293 %\n",
      "Epoch 16, CIFAR-10 Batch 1:  Cost:  1.55253 Accuracy:  48.8599956036 %\n",
      "Epoch 16, CIFAR-10 Batch 2:  Cost:  1.51972 Accuracy:  48.6399948597 %\n",
      "Epoch 16, CIFAR-10 Batch 3:  Cost:  1.46147 Accuracy:  48.6799955368 %\n",
      "Epoch 16, CIFAR-10 Batch 4:  Cost:  1.49602 Accuracy:  48.8599956036 %\n",
      "Epoch 16, CIFAR-10 Batch 5:  Cost:  1.53615 Accuracy:  49.0000009537 %\n",
      "Epoch 17, CIFAR-10 Batch 1:  Cost:  1.554 Accuracy:  49.4399964809 %\n",
      "Epoch 17, CIFAR-10 Batch 2:  Cost:  1.50876 Accuracy:  49.0599989891 %\n",
      "Epoch 17, CIFAR-10 Batch 3:  Cost:  1.44481 Accuracy:  49.2199957371 %\n",
      "Epoch 17, CIFAR-10 Batch 4:  Cost:  1.49002 Accuracy:  48.9399969578 %\n",
      "Epoch 17, CIFAR-10 Batch 5:  Cost:  1.5326 Accuracy:  49.1199970245 %\n",
      "Epoch 18, CIFAR-10 Batch 1:  Cost:  1.55205 Accuracy:  49.6199935675 %\n",
      "Epoch 18, CIFAR-10 Batch 2:  Cost:  1.48378 Accuracy:  49.3599951267 %\n",
      "Epoch 18, CIFAR-10 Batch 3:  Cost:  1.45504 Accuracy:  48.2199937105 %\n",
      "Epoch 18, CIFAR-10 Batch 4:  Cost:  1.47176 Accuracy:  49.4999945164 %\n",
      "Epoch 18, CIFAR-10 Batch 5:  Cost:  1.52439 Accuracy:  49.4799941778 %\n",
      "Epoch 19, CIFAR-10 Batch 1:  Cost:  1.53654 Accuracy:  50.2799987793 %\n",
      "Epoch 19, CIFAR-10 Batch 2:  Cost:  1.47295 Accuracy:  49.9199956656 %\n",
      "Epoch 19, CIFAR-10 Batch 3:  Cost:  1.43149 Accuracy:  49.8599946499 %\n",
      "Epoch 19, CIFAR-10 Batch 4:  Cost:  1.48829 Accuracy:  49.899995327 %\n",
      "Epoch 19, CIFAR-10 Batch 5:  Cost:  1.51165 Accuracy:  49.8399913311 %\n",
      "Epoch 20, CIFAR-10 Batch 1:  Cost:  1.53723 Accuracy:  50.2399921417 %\n",
      "Epoch 20, CIFAR-10 Batch 2:  Cost:  1.47672 Accuracy:  49.8999923468 %\n",
      "Epoch 20, CIFAR-10 Batch 3:  Cost:  1.42498 Accuracy:  49.9999940395 %\n",
      "Epoch 20, CIFAR-10 Batch 4:  Cost:  1.46571 Accuracy:  50.4999995232 %\n",
      "Epoch 20, CIFAR-10 Batch 5:  Cost:  1.49435 Accuracy:  50.4199922085 %\n",
      "Epoch 21, CIFAR-10 Batch 1:  Cost:  1.52126 Accuracy:  50.5199968815 %\n",
      "Epoch 21, CIFAR-10 Batch 2:  Cost:  1.48479 Accuracy:  50.2599895 %\n",
      "Epoch 21, CIFAR-10 Batch 3:  Cost:  1.42446 Accuracy:  50.5399942398 %\n",
      "Epoch 21, CIFAR-10 Batch 4:  Cost:  1.46478 Accuracy:  50.3999948502 %\n",
      "Epoch 21, CIFAR-10 Batch 5:  Cost:  1.50145 Accuracy:  50.0999927521 %\n",
      "Epoch 22, CIFAR-10 Batch 1:  Cost:  1.52538 Accuracy:  50.1399993896 %\n",
      "Epoch 22, CIFAR-10 Batch 2:  Cost:  1.47774 Accuracy:  50.5799889565 %\n",
      "Epoch 22, CIFAR-10 Batch 3:  Cost:  1.41817 Accuracy:  50.7799983025 %\n",
      "Epoch 22, CIFAR-10 Batch 4:  Cost:  1.45489 Accuracy:  51.0199964046 %\n",
      "Epoch 22, CIFAR-10 Batch 5:  Cost:  1.49243 Accuracy:  50.5999922752 %\n",
      "Epoch 23, CIFAR-10 Batch 1:  Cost:  1.51917 Accuracy:  50.8199989796 %\n",
      "Epoch 23, CIFAR-10 Batch 2:  Cost:  1.45651 Accuracy:  51.4799952507 %\n",
      "Epoch 23, CIFAR-10 Batch 3:  Cost:  1.39381 Accuracy:  50.4799962044 %\n",
      "Epoch 23, CIFAR-10 Batch 4:  Cost:  1.4441 Accuracy:  50.8999943733 %\n",
      "Epoch 23, CIFAR-10 Batch 5:  Cost:  1.49531 Accuracy:  51.0599911213 %\n",
      "Epoch 24, CIFAR-10 Batch 1:  Cost:  1.50646 Accuracy:  50.7599949837 %\n",
      "Epoch 24, CIFAR-10 Batch 2:  Cost:  1.46604 Accuracy:  51.0999917984 %\n",
      "Epoch 24, CIFAR-10 Batch 3:  Cost:  1.39511 Accuracy:  50.6599962711 %\n",
      "Epoch 24, CIFAR-10 Batch 4:  Cost:  1.43446 Accuracy:  51.239991188 %\n",
      "Epoch 24, CIFAR-10 Batch 5:  Cost:  1.46713 Accuracy:  51.4199972153 %\n",
      "Epoch 25, CIFAR-10 Batch 1:  Cost:  1.49918 Accuracy:  51.2999951839 %\n",
      "Epoch 25, CIFAR-10 Batch 2:  Cost:  1.44866 Accuracy:  51.7199933529 %\n",
      "Epoch 25, CIFAR-10 Batch 3:  Cost:  1.39 Accuracy:  51.0399878025 %\n",
      "Epoch 25, CIFAR-10 Batch 4:  Cost:  1.43703 Accuracy:  51.2999951839 %\n",
      "Epoch 25, CIFAR-10 Batch 5:  Cost:  1.46233 Accuracy:  51.5799939632 %\n",
      "Epoch 26, CIFAR-10 Batch 1:  Cost:  1.49615 Accuracy:  51.8399953842 %\n",
      "Epoch 26, CIFAR-10 Batch 2:  Cost:  1.46046 Accuracy:  51.5799999237 %\n",
      "Epoch 26, CIFAR-10 Batch 3:  Cost:  1.37396 Accuracy:  51.1199951172 %\n",
      "Epoch 26, CIFAR-10 Batch 4:  Cost:  1.42232 Accuracy:  51.8599927425 %\n",
      "Epoch 26, CIFAR-10 Batch 5:  Cost:  1.47116 Accuracy:  51.139998436 %\n",
      "Epoch 27, CIFAR-10 Batch 1:  Cost:  1.49047 Accuracy:  51.7399907112 %\n",
      "Epoch 27, CIFAR-10 Batch 2:  Cost:  1.434 Accuracy:  52.1999895573 %\n",
      "Epoch 27, CIFAR-10 Batch 3:  Cost:  1.37741 Accuracy:  51.9399940968 %\n",
      "Epoch 27, CIFAR-10 Batch 4:  Cost:  1.41539 Accuracy:  51.9199967384 %\n",
      "Epoch 27, CIFAR-10 Batch 5:  Cost:  1.45288 Accuracy:  52.1799981594 %\n",
      "Epoch 28, CIFAR-10 Batch 1:  Cost:  1.47903 Accuracy:  52.0599961281 %\n",
      "Epoch 28, CIFAR-10 Batch 2:  Cost:  1.44235 Accuracy:  51.7799973488 %\n",
      "Epoch 28, CIFAR-10 Batch 3:  Cost:  1.36875 Accuracy:  51.8199920654 %\n",
      "Epoch 28, CIFAR-10 Batch 4:  Cost:  1.40229 Accuracy:  51.9199967384 %\n",
      "Epoch 28, CIFAR-10 Batch 5:  Cost:  1.44987 Accuracy:  52.1199941635 %\n",
      "Epoch 29, CIFAR-10 Batch 1:  Cost:  1.48146 Accuracy:  52.1599948406 %\n",
      "Epoch 29, CIFAR-10 Batch 2:  Cost:  1.42777 Accuracy:  52.7599930763 %\n",
      "Epoch 29, CIFAR-10 Batch 3:  Cost:  1.36789 Accuracy:  51.6399919987 %\n",
      "Epoch 29, CIFAR-10 Batch 4:  Cost:  1.39847 Accuracy:  52.2599935532 %\n",
      "Epoch 29, CIFAR-10 Batch 5:  Cost:  1.43284 Accuracy:  51.8799960613 %\n",
      "Epoch 30, CIFAR-10 Batch 1:  Cost:  1.4644 Accuracy:  52.9599964619 %\n",
      "Epoch 30, CIFAR-10 Batch 2:  Cost:  1.44114 Accuracy:  51.9999921322 %\n",
      "Epoch 30, CIFAR-10 Batch 3:  Cost:  1.36853 Accuracy:  51.4799952507 %\n",
      "Epoch 30, CIFAR-10 Batch 4:  Cost:  1.395 Accuracy:  52.479994297 %\n",
      "Epoch 30, CIFAR-10 Batch 5:  Cost:  1.43211 Accuracy:  52.0799934864 %\n",
      "Epoch 31, CIFAR-10 Batch 1:  Cost:  1.45887 Accuracy:  52.8399944305 %\n",
      "Epoch 31, CIFAR-10 Batch 2:  Cost:  1.43367 Accuracy:  52.2599935532 %\n",
      "Epoch 31, CIFAR-10 Batch 3:  Cost:  1.3685 Accuracy:  51.8199920654 %\n",
      "Epoch 31, CIFAR-10 Batch 4:  Cost:  1.40009 Accuracy:  52.2399961948 %\n",
      "Epoch 31, CIFAR-10 Batch 5:  Cost:  1.42255 Accuracy:  52.8799891472 %\n",
      "Epoch 32, CIFAR-10 Batch 1:  Cost:  1.47155 Accuracy:  52.6999950409 %\n",
      "Epoch 32, CIFAR-10 Batch 2:  Cost:  1.42501 Accuracy:  51.8399894238 %\n",
      "Epoch 32, CIFAR-10 Batch 3:  Cost:  1.3441 Accuracy:  52.3399889469 %\n",
      "Epoch 32, CIFAR-10 Batch 4:  Cost:  1.38828 Accuracy:  52.2599935532 %\n",
      "Epoch 32, CIFAR-10 Batch 5:  Cost:  1.42198 Accuracy:  52.9799938202 %\n",
      "Epoch 33, CIFAR-10 Batch 1:  Cost:  1.45185 Accuracy:  53.2999932766 %\n",
      "Epoch 33, CIFAR-10 Batch 2:  Cost:  1.41166 Accuracy:  52.999997139 %\n",
      "Epoch 33, CIFAR-10 Batch 3:  Cost:  1.3463 Accuracy:  52.8799891472 %\n",
      "Epoch 33, CIFAR-10 Batch 4:  Cost:  1.38806 Accuracy:  52.6599943638 %\n",
      "Epoch 33, CIFAR-10 Batch 5:  Cost:  1.42179 Accuracy:  52.019995451 %\n",
      "Epoch 34, CIFAR-10 Batch 1:  Cost:  1.4456 Accuracy:  53.2999992371 %\n",
      "Epoch 34, CIFAR-10 Batch 2:  Cost:  1.43861 Accuracy:  52.2199928761 %\n",
      "Epoch 34, CIFAR-10 Batch 3:  Cost:  1.34261 Accuracy:  52.8199970722 %\n",
      "Epoch 34, CIFAR-10 Batch 4:  Cost:  1.385 Accuracy:  52.6799917221 %\n",
      "Epoch 34, CIFAR-10 Batch 5:  Cost:  1.41946 Accuracy:  53.0999958515 %\n",
      "Epoch 35, CIFAR-10 Batch 1:  Cost:  1.4357 Accuracy:  53.3199906349 %\n",
      "Epoch 35, CIFAR-10 Batch 2:  Cost:  1.41466 Accuracy:  52.8999865055 %\n",
      "Epoch 35, CIFAR-10 Batch 3:  Cost:  1.34775 Accuracy:  52.7799963951 %\n",
      "Epoch 35, CIFAR-10 Batch 4:  Cost:  1.38096 Accuracy:  52.739995718 %\n",
      "Epoch 35, CIFAR-10 Batch 5:  Cost:  1.40406 Accuracy:  52.8399944305 %\n",
      "Epoch 36, CIFAR-10 Batch 1:  Cost:  1.43714 Accuracy:  53.2799959183 %\n",
      "Epoch 36, CIFAR-10 Batch 2:  Cost:  1.4193 Accuracy:  52.9199957848 %\n",
      "Epoch 36, CIFAR-10 Batch 3:  Cost:  1.33301 Accuracy:  53.3199965954 %\n",
      "Epoch 36, CIFAR-10 Batch 4:  Cost:  1.36689 Accuracy:  53.1199932098 %\n",
      "Epoch 36, CIFAR-10 Batch 5:  Cost:  1.3978 Accuracy:  53.7599980831 %\n",
      "Epoch 37, CIFAR-10 Batch 1:  Cost:  1.43142 Accuracy:  54.0599882603 %\n",
      "Epoch 37, CIFAR-10 Batch 2:  Cost:  1.40935 Accuracy:  53.0999898911 %\n",
      "Epoch 37, CIFAR-10 Batch 3:  Cost:  1.32626 Accuracy:  53.6799907684 %\n",
      "Epoch 37, CIFAR-10 Batch 4:  Cost:  1.37697 Accuracy:  53.1399905682 %\n",
      "Epoch 37, CIFAR-10 Batch 5:  Cost:  1.40027 Accuracy:  53.7599980831 %\n",
      "Epoch 38, CIFAR-10 Batch 1:  Cost:  1.42888 Accuracy:  53.4399926662 %\n",
      "Epoch 38, CIFAR-10 Batch 2:  Cost:  1.40019 Accuracy:  53.7599921227 %\n",
      "Epoch 38, CIFAR-10 Batch 3:  Cost:  1.3328 Accuracy:  53.4399926662 %\n",
      "Epoch 38, CIFAR-10 Batch 4:  Cost:  1.36753 Accuracy:  53.1599938869 %\n",
      "Epoch 38, CIFAR-10 Batch 5:  Cost:  1.39652 Accuracy:  53.2599925995 %\n",
      "Epoch 39, CIFAR-10 Batch 1:  Cost:  1.41543 Accuracy:  53.9199948311 %\n",
      "Epoch 39, CIFAR-10 Batch 2:  Cost:  1.39501 Accuracy:  53.4799933434 %\n",
      "Epoch 39, CIFAR-10 Batch 3:  Cost:  1.32076 Accuracy:  53.2399952412 %\n",
      "Epoch 39, CIFAR-10 Batch 4:  Cost:  1.36175 Accuracy:  53.1999945641 %\n",
      "Epoch 39, CIFAR-10 Batch 5:  Cost:  1.39851 Accuracy:  53.619992733 %\n",
      "Epoch 40, CIFAR-10 Batch 1:  Cost:  1.41536 Accuracy:  53.8599908352 %\n",
      "Epoch 40, CIFAR-10 Batch 2:  Cost:  1.3997 Accuracy:  53.9799928665 %\n",
      "Epoch 40, CIFAR-10 Batch 3:  Cost:  1.31893 Accuracy:  53.6999940872 %\n",
      "Epoch 40, CIFAR-10 Batch 4:  Cost:  1.35552 Accuracy:  53.9999961853 %\n",
      "Epoch 40, CIFAR-10 Batch 5:  Cost:  1.3967 Accuracy:  53.9399921894 %\n",
      "Epoch 41, CIFAR-10 Batch 1:  Cost:  1.42022 Accuracy:  54.1399896145 %\n",
      "Epoch 41, CIFAR-10 Batch 2:  Cost:  1.39252 Accuracy:  53.8599967957 %\n",
      "Epoch 41, CIFAR-10 Batch 3:  Cost:  1.31683 Accuracy:  53.6999940872 %\n",
      "Epoch 41, CIFAR-10 Batch 4:  Cost:  1.33883 Accuracy:  53.5799980164 %\n",
      "Epoch 41, CIFAR-10 Batch 5:  Cost:  1.40091 Accuracy:  53.719997406 %\n",
      "Epoch 42, CIFAR-10 Batch 1:  Cost:  1.41253 Accuracy:  53.6599993706 %\n",
      "Epoch 42, CIFAR-10 Batch 2:  Cost:  1.38747 Accuracy:  53.879994154 %\n",
      "Epoch 42, CIFAR-10 Batch 3:  Cost:  1.3105 Accuracy:  53.8399934769 %\n",
      "Epoch 42, CIFAR-10 Batch 4:  Cost:  1.34454 Accuracy:  53.8199901581 %\n",
      "Epoch 42, CIFAR-10 Batch 5:  Cost:  1.37509 Accuracy:  53.7999987602 %\n",
      "Epoch 43, CIFAR-10 Batch 1:  Cost:  1.40698 Accuracy:  54.1999936104 %\n",
      "Epoch 43, CIFAR-10 Batch 2:  Cost:  1.38128 Accuracy:  53.879994154 %\n",
      "Epoch 43, CIFAR-10 Batch 3:  Cost:  1.30444 Accuracy:  54.1999936104 %\n",
      "Epoch 43, CIFAR-10 Batch 4:  Cost:  1.33267 Accuracy:  54.0799915791 %\n",
      "Epoch 43, CIFAR-10 Batch 5:  Cost:  1.36973 Accuracy:  54.2999923229 %\n",
      "Epoch 44, CIFAR-10 Batch 1:  Cost:  1.41548 Accuracy:  54.2399942875 %\n",
      "Epoch 44, CIFAR-10 Batch 2:  Cost:  1.38936 Accuracy:  54.0599882603 %\n",
      "Epoch 44, CIFAR-10 Batch 3:  Cost:  1.29275 Accuracy:  54.5199990273 %\n",
      "Epoch 44, CIFAR-10 Batch 4:  Cost:  1.33903 Accuracy:  53.7599921227 %\n",
      "Epoch 44, CIFAR-10 Batch 5:  Cost:  1.37329 Accuracy:  54.5399963856 %\n",
      "Epoch 45, CIFAR-10 Batch 1:  Cost:  1.40015 Accuracy:  54.7399997711 %\n",
      "Epoch 45, CIFAR-10 Batch 2:  Cost:  1.40529 Accuracy:  54.0199935436 %\n",
      "Epoch 45, CIFAR-10 Batch 3:  Cost:  1.29791 Accuracy:  54.4799923897 %\n",
      "Epoch 45, CIFAR-10 Batch 4:  Cost:  1.33689 Accuracy:  54.339993 %\n",
      "Epoch 45, CIFAR-10 Batch 5:  Cost:  1.36593 Accuracy:  54.4799923897 %\n",
      "Epoch 46, CIFAR-10 Batch 1:  Cost:  1.41219 Accuracy:  54.6999931335 %\n",
      "Epoch 46, CIFAR-10 Batch 2:  Cost:  1.38057 Accuracy:  54.3999969959 %\n",
      "Epoch 46, CIFAR-10 Batch 3:  Cost:  1.29695 Accuracy:  54.6999931335 %\n",
      "Epoch 46, CIFAR-10 Batch 4:  Cost:  1.3225 Accuracy:  54.499989748 %\n",
      "Epoch 46, CIFAR-10 Batch 5:  Cost:  1.36646 Accuracy:  54.8599898815 %\n",
      "Epoch 47, CIFAR-10 Batch 1:  Cost:  1.40242 Accuracy:  54.9399971962 %\n",
      "Epoch 47, CIFAR-10 Batch 2:  Cost:  1.3753 Accuracy:  54.0399968624 %\n",
      "Epoch 47, CIFAR-10 Batch 3:  Cost:  1.29603 Accuracy:  54.8999965191 %\n",
      "Epoch 47, CIFAR-10 Batch 4:  Cost:  1.31939 Accuracy:  54.7199964523 %\n",
      "Epoch 47, CIFAR-10 Batch 5:  Cost:  1.35817 Accuracy:  55.0399899483 %\n",
      "Epoch 48, CIFAR-10 Batch 1:  Cost:  1.40659 Accuracy:  54.8799932003 %\n",
      "Epoch 48, CIFAR-10 Batch 2:  Cost:  1.36559 Accuracy:  54.439997673 %\n",
      "Epoch 48, CIFAR-10 Batch 3:  Cost:  1.29563 Accuracy:  54.8199892044 %\n",
      "Epoch 48, CIFAR-10 Batch 4:  Cost:  1.33182 Accuracy:  54.859995842 %\n",
      "Epoch 48, CIFAR-10 Batch 5:  Cost:  1.37659 Accuracy:  54.8199892044 %\n",
      "Epoch 49, CIFAR-10 Batch 1:  Cost:  1.39516 Accuracy:  54.9399912357 %\n",
      "Epoch 49, CIFAR-10 Batch 2:  Cost:  1.36546 Accuracy:  54.7199964523 %\n",
      "Epoch 49, CIFAR-10 Batch 3:  Cost:  1.28005 Accuracy:  55.2999973297 %\n",
      "Epoch 49, CIFAR-10 Batch 4:  Cost:  1.32944 Accuracy:  54.5799970627 %\n",
      "Epoch 49, CIFAR-10 Batch 5:  Cost:  1.35692 Accuracy:  55.119997263 %\n",
      "Epoch 50, CIFAR-10 Batch 1:  Cost:  1.40229 Accuracy:  55.1199913025 %\n",
      "Epoch 50, CIFAR-10 Batch 2:  Cost:  1.37362 Accuracy:  54.7999918461 %\n",
      "Epoch 50, CIFAR-10 Batch 3:  Cost:  1.3045 Accuracy:  53.7399947643 %\n",
      "Epoch 50, CIFAR-10 Batch 4:  Cost:  1.323 Accuracy:  54.7999918461 %\n",
      "Epoch 50, CIFAR-10 Batch 5:  Cost:  1.35486 Accuracy:  55.0999939442 %\n",
      "Epoch 51, CIFAR-10 Batch 1:  Cost:  1.38583 Accuracy:  54.9399912357 %\n",
      "Epoch 51, CIFAR-10 Batch 2:  Cost:  1.36525 Accuracy:  54.9999952316 %\n",
      "Epoch 51, CIFAR-10 Batch 3:  Cost:  1.27878 Accuracy:  55.2599906921 %\n",
      "Epoch 51, CIFAR-10 Batch 4:  Cost:  1.31203 Accuracy:  54.7799944878 %\n",
      "Epoch 51, CIFAR-10 Batch 5:  Cost:  1.35461 Accuracy:  54.4799923897 %\n",
      "Epoch 52, CIFAR-10 Batch 1:  Cost:  1.39106 Accuracy:  55.3799986839 %\n",
      "Epoch 52, CIFAR-10 Batch 2:  Cost:  1.35262 Accuracy:  55.01999259 %\n",
      "Epoch 52, CIFAR-10 Batch 3:  Cost:  1.26514 Accuracy:  55.4199934006 %\n",
      "Epoch 52, CIFAR-10 Batch 4:  Cost:  1.3147 Accuracy:  54.9199938774 %\n",
      "Epoch 52, CIFAR-10 Batch 5:  Cost:  1.33653 Accuracy:  55.1599919796 %\n",
      "Epoch 53, CIFAR-10 Batch 1:  Cost:  1.39227 Accuracy:  55.4999947548 %\n",
      "Epoch 53, CIFAR-10 Batch 2:  Cost:  1.36637 Accuracy:  54.5599937439 %\n",
      "Epoch 53, CIFAR-10 Batch 3:  Cost:  1.28199 Accuracy:  54.9599945545 %\n",
      "Epoch 53, CIFAR-10 Batch 4:  Cost:  1.31104 Accuracy:  54.759991169 %\n",
      "Epoch 53, CIFAR-10 Batch 5:  Cost:  1.33635 Accuracy:  55.4599881172 %\n",
      "Epoch 54, CIFAR-10 Batch 1:  Cost:  1.38574 Accuracy:  55.3999960423 %\n",
      "Epoch 54, CIFAR-10 Batch 2:  Cost:  1.3634 Accuracy:  54.9399971962 %\n",
      "Epoch 54, CIFAR-10 Batch 3:  Cost:  1.27821 Accuracy:  54.8399925232 %\n",
      "Epoch 54, CIFAR-10 Batch 4:  Cost:  1.30572 Accuracy:  55.1999926567 %\n",
      "Epoch 54, CIFAR-10 Batch 5:  Cost:  1.33572 Accuracy:  55.2199959755 %\n",
      "Epoch 55, CIFAR-10 Batch 1:  Cost:  1.38999 Accuracy:  55.2999913692 %\n",
      "Epoch 55, CIFAR-10 Batch 2:  Cost:  1.35484 Accuracy:  55.0799965858 %\n",
      "Epoch 55, CIFAR-10 Batch 3:  Cost:  1.27137 Accuracy:  55.1999926567 %\n",
      "Epoch 55, CIFAR-10 Batch 4:  Cost:  1.31288 Accuracy:  55.0799906254 %\n",
      "Epoch 55, CIFAR-10 Batch 5:  Cost:  1.34433 Accuracy:  55.2999973297 %\n",
      "Epoch 56, CIFAR-10 Batch 1:  Cost:  1.38086 Accuracy:  55.6199908257 %\n",
      "Epoch 56, CIFAR-10 Batch 2:  Cost:  1.34694 Accuracy:  55.1999926567 %\n",
      "Epoch 56, CIFAR-10 Batch 3:  Cost:  1.27113 Accuracy:  54.9399971962 %\n",
      "Epoch 56, CIFAR-10 Batch 4:  Cost:  1.30243 Accuracy:  55.5999875069 %\n",
      "Epoch 56, CIFAR-10 Batch 5:  Cost:  1.33885 Accuracy:  55.5599927902 %\n",
      "Epoch 57, CIFAR-10 Batch 1:  Cost:  1.37635 Accuracy:  55.6599974632 %\n",
      "Epoch 57, CIFAR-10 Batch 2:  Cost:  1.35174 Accuracy:  55.4399967194 %\n",
      "Epoch 57, CIFAR-10 Batch 3:  Cost:  1.27123 Accuracy:  55.4999947548 %\n",
      "Epoch 57, CIFAR-10 Batch 4:  Cost:  1.30338 Accuracy:  55.6799948215 %\n",
      "Epoch 57, CIFAR-10 Batch 5:  Cost:  1.32398 Accuracy:  56.1199903488 %\n",
      "Epoch 58, CIFAR-10 Batch 1:  Cost:  1.37707 Accuracy:  55.4199934006 %\n",
      "Epoch 58, CIFAR-10 Batch 2:  Cost:  1.33817 Accuracy:  55.2199959755 %\n",
      "Epoch 58, CIFAR-10 Batch 3:  Cost:  1.26019 Accuracy:  55.6199908257 %\n",
      "Epoch 58, CIFAR-10 Batch 4:  Cost:  1.29618 Accuracy:  55.6599974632 %\n",
      "Epoch 58, CIFAR-10 Batch 5:  Cost:  1.33006 Accuracy:  56.1599969864 %\n",
      "Epoch 59, CIFAR-10 Batch 1:  Cost:  1.37004 Accuracy:  55.6799888611 %\n",
      "Epoch 59, CIFAR-10 Batch 2:  Cost:  1.34855 Accuracy:  55.579996109 %\n",
      "Epoch 59, CIFAR-10 Batch 3:  Cost:  1.26742 Accuracy:  55.3799927235 %\n",
      "Epoch 59, CIFAR-10 Batch 4:  Cost:  1.29853 Accuracy:  55.3199887276 %\n",
      "Epoch 59, CIFAR-10 Batch 5:  Cost:  1.32777 Accuracy:  55.7799935341 %\n",
      "Epoch 60, CIFAR-10 Batch 1:  Cost:  1.37878 Accuracy:  56.0599923134 %\n",
      "Epoch 60, CIFAR-10 Batch 2:  Cost:  1.31646 Accuracy:  55.8399915695 %\n",
      "Epoch 60, CIFAR-10 Batch 3:  Cost:  1.27131 Accuracy:  55.999994278 %\n",
      "Epoch 60, CIFAR-10 Batch 4:  Cost:  1.29586 Accuracy:  55.479991436 %\n",
      "Epoch 60, CIFAR-10 Batch 5:  Cost:  1.32657 Accuracy:  55.9799969196 %\n",
      "Epoch 61, CIFAR-10 Batch 1:  Cost:  1.37634 Accuracy:  55.6999921799 %\n",
      "Epoch 61, CIFAR-10 Batch 2:  Cost:  1.34504 Accuracy:  55.6799948215 %\n",
      "Epoch 61, CIFAR-10 Batch 3:  Cost:  1.26772 Accuracy:  55.6399941444 %\n",
      "Epoch 61, CIFAR-10 Batch 4:  Cost:  1.29748 Accuracy:  55.5399954319 %\n",
      "Epoch 61, CIFAR-10 Batch 5:  Cost:  1.31881 Accuracy:  56.0399949551 %\n",
      "Epoch 62, CIFAR-10 Batch 1:  Cost:  1.3869 Accuracy:  55.8199942112 %\n",
      "Epoch 62, CIFAR-10 Batch 2:  Cost:  1.3229 Accuracy:  55.7199895382 %\n",
      "Epoch 62, CIFAR-10 Batch 3:  Cost:  1.26901 Accuracy:  55.9399962425 %\n",
      "Epoch 62, CIFAR-10 Batch 4:  Cost:  1.28968 Accuracy:  55.2799940109 %\n",
      "Epoch 62, CIFAR-10 Batch 5:  Cost:  1.31957 Accuracy:  56.5199971199 %\n",
      "Epoch 63, CIFAR-10 Batch 1:  Cost:  1.36814 Accuracy:  56.3999950886 %\n",
      "Epoch 63, CIFAR-10 Batch 2:  Cost:  1.33842 Accuracy:  56.0199916363 %\n",
      "Epoch 63, CIFAR-10 Batch 3:  Cost:  1.25672 Accuracy:  55.5999875069 %\n",
      "Epoch 63, CIFAR-10 Batch 4:  Cost:  1.30425 Accuracy:  55.219990015 %\n",
      "Epoch 63, CIFAR-10 Batch 5:  Cost:  1.30675 Accuracy:  55.8399915695 %\n",
      "Epoch 64, CIFAR-10 Batch 1:  Cost:  1.36689 Accuracy:  56.3199937344 %\n",
      "Epoch 64, CIFAR-10 Batch 2:  Cost:  1.33113 Accuracy:  55.5199980736 %\n",
      "Epoch 64, CIFAR-10 Batch 3:  Cost:  1.25278 Accuracy:  56.0599863529 %\n",
      "Epoch 64, CIFAR-10 Batch 4:  Cost:  1.28532 Accuracy:  55.7199954987 %\n",
      "Epoch 64, CIFAR-10 Batch 5:  Cost:  1.31543 Accuracy:  56.2599897385 %\n",
      "Epoch 65, CIFAR-10 Batch 1:  Cost:  1.37003 Accuracy:  56.1799943447 %\n",
      "Epoch 65, CIFAR-10 Batch 2:  Cost:  1.33226 Accuracy:  55.8599948883 %\n",
      "Epoch 65, CIFAR-10 Batch 3:  Cost:  1.25197 Accuracy:  56.4199924469 %\n",
      "Epoch 65, CIFAR-10 Batch 4:  Cost:  1.2803 Accuracy:  56.2799930573 %\n",
      "Epoch 65, CIFAR-10 Batch 5:  Cost:  1.30985 Accuracy:  56.1399936676 %\n",
      "Epoch 66, CIFAR-10 Batch 1:  Cost:  1.37465 Accuracy:  56.0199916363 %\n",
      "Epoch 66, CIFAR-10 Batch 2:  Cost:  1.33402 Accuracy:  55.8799922466 %\n",
      "Epoch 66, CIFAR-10 Batch 3:  Cost:  1.25529 Accuracy:  55.8999955654 %\n",
      "Epoch 66, CIFAR-10 Batch 4:  Cost:  1.28524 Accuracy:  55.999994278 %\n",
      "Epoch 66, CIFAR-10 Batch 5:  Cost:  1.312 Accuracy:  56.2799870968 %\n",
      "Epoch 67, CIFAR-10 Batch 1:  Cost:  1.35945 Accuracy:  56.4999938011 %\n",
      "Epoch 67, CIFAR-10 Batch 2:  Cost:  1.33523 Accuracy:  55.999994278 %\n",
      "Epoch 67, CIFAR-10 Batch 3:  Cost:  1.25405 Accuracy:  55.7599902153 %\n",
      "Epoch 67, CIFAR-10 Batch 4:  Cost:  1.2889 Accuracy:  55.2599906921 %\n",
      "Epoch 67, CIFAR-10 Batch 5:  Cost:  1.31702 Accuracy:  56.0999929905 %\n",
      "Epoch 68, CIFAR-10 Batch 1:  Cost:  1.35118 Accuracy:  56.459993124 %\n",
      "Epoch 68, CIFAR-10 Batch 2:  Cost:  1.33119 Accuracy:  55.9799909592 %\n",
      "Epoch 68, CIFAR-10 Batch 3:  Cost:  1.2486 Accuracy:  56.5399944782 %\n",
      "Epoch 68, CIFAR-10 Batch 4:  Cost:  1.27566 Accuracy:  55.9399902821 %\n",
      "Epoch 68, CIFAR-10 Batch 5:  Cost:  1.29506 Accuracy:  56.0599982738 %\n",
      "Epoch 69, CIFAR-10 Batch 1:  Cost:  1.35769 Accuracy:  56.4999938011 %\n",
      "Epoch 69, CIFAR-10 Batch 2:  Cost:  1.32405 Accuracy:  56.0799956322 %\n",
      "Epoch 69, CIFAR-10 Batch 3:  Cost:  1.24994 Accuracy:  56.4999938011 %\n",
      "Epoch 69, CIFAR-10 Batch 4:  Cost:  1.27543 Accuracy:  56.199991703 %\n",
      "Epoch 69, CIFAR-10 Batch 5:  Cost:  1.30471 Accuracy:  56.2599897385 %\n",
      "Epoch 70, CIFAR-10 Batch 1:  Cost:  1.35601 Accuracy:  56.0999929905 %\n",
      "Epoch 70, CIFAR-10 Batch 2:  Cost:  1.32087 Accuracy:  55.5599927902 %\n",
      "Epoch 70, CIFAR-10 Batch 3:  Cost:  1.24992 Accuracy:  56.299996376 %\n",
      "Epoch 70, CIFAR-10 Batch 4:  Cost:  1.28265 Accuracy:  56.1599969864 %\n",
      "Epoch 70, CIFAR-10 Batch 5:  Cost:  1.29965 Accuracy:  56.2199950218 %\n",
      "Epoch 71, CIFAR-10 Batch 1:  Cost:  1.35876 Accuracy:  56.2199890614 %\n",
      "Epoch 71, CIFAR-10 Batch 2:  Cost:  1.32062 Accuracy:  56.1599910259 %\n",
      "Epoch 71, CIFAR-10 Batch 3:  Cost:  1.25777 Accuracy:  55.4999887943 %\n",
      "Epoch 71, CIFAR-10 Batch 4:  Cost:  1.28006 Accuracy:  56.4799964428 %\n",
      "Epoch 71, CIFAR-10 Batch 5:  Cost:  1.30592 Accuracy:  56.2999904156 %\n",
      "Epoch 72, CIFAR-10 Batch 1:  Cost:  1.36316 Accuracy:  56.2999904156 %\n",
      "Epoch 72, CIFAR-10 Batch 2:  Cost:  1.31816 Accuracy:  55.7799935341 %\n",
      "Epoch 72, CIFAR-10 Batch 3:  Cost:  1.25304 Accuracy:  55.7599902153 %\n",
      "Epoch 72, CIFAR-10 Batch 4:  Cost:  1.27977 Accuracy:  55.7599961758 %\n",
      "Epoch 72, CIFAR-10 Batch 5:  Cost:  1.33301 Accuracy:  55.7199954987 %\n",
      "Epoch 73, CIFAR-10 Batch 1:  Cost:  1.34808 Accuracy:  56.3599944115 %\n",
      "Epoch 73, CIFAR-10 Batch 2:  Cost:  1.32592 Accuracy:  55.7599961758 %\n",
      "Epoch 73, CIFAR-10 Batch 3:  Cost:  1.25366 Accuracy:  56.2599897385 %\n",
      "Epoch 73, CIFAR-10 Batch 4:  Cost:  1.26676 Accuracy:  56.459993124 %\n",
      "Epoch 73, CIFAR-10 Batch 5:  Cost:  1.30411 Accuracy:  56.6199958324 %\n",
      "Epoch 74, CIFAR-10 Batch 1:  Cost:  1.35018 Accuracy:  56.7399859428 %\n",
      "Epoch 74, CIFAR-10 Batch 2:  Cost:  1.31847 Accuracy:  55.8599948883 %\n",
      "Epoch 74, CIFAR-10 Batch 3:  Cost:  1.24999 Accuracy:  55.7199954987 %\n",
      "Epoch 74, CIFAR-10 Batch 4:  Cost:  1.27393 Accuracy:  56.0999929905 %\n",
      "Epoch 74, CIFAR-10 Batch 5:  Cost:  1.30556 Accuracy:  56.5999925137 %\n",
      "Epoch 75, CIFAR-10 Batch 1:  Cost:  1.35401 Accuracy:  56.5199911594 %\n",
      "Epoch 75, CIFAR-10 Batch 2:  Cost:  1.31634 Accuracy:  56.0799956322 %\n",
      "Epoch 75, CIFAR-10 Batch 3:  Cost:  1.23732 Accuracy:  56.4599990845 %\n",
      "Epoch 75, CIFAR-10 Batch 4:  Cost:  1.26778 Accuracy:  56.6799938679 %\n",
      "Epoch 75, CIFAR-10 Batch 5:  Cost:  1.31112 Accuracy:  56.2199950218 %\n",
      "Epoch 76, CIFAR-10 Batch 1:  Cost:  1.35241 Accuracy:  56.8999886513 %\n",
      "Epoch 76, CIFAR-10 Batch 2:  Cost:  1.30206 Accuracy:  56.359988451 %\n",
      "Epoch 76, CIFAR-10 Batch 3:  Cost:  1.24373 Accuracy:  56.1399936676 %\n",
      "Epoch 76, CIFAR-10 Batch 4:  Cost:  1.27364 Accuracy:  56.2799930573 %\n",
      "Epoch 76, CIFAR-10 Batch 5:  Cost:  1.28698 Accuracy:  56.7999899387 %\n",
      "Epoch 77, CIFAR-10 Batch 1:  Cost:  1.35828 Accuracy:  56.5399944782 %\n",
      "Epoch 77, CIFAR-10 Batch 2:  Cost:  1.30959 Accuracy:  56.0999929905 %\n",
      "Epoch 77, CIFAR-10 Batch 3:  Cost:  1.23122 Accuracy:  56.6999971867 %\n",
      "Epoch 77, CIFAR-10 Batch 4:  Cost:  1.27223 Accuracy:  56.559997797 %\n",
      "Epoch 77, CIFAR-10 Batch 5:  Cost:  1.29311 Accuracy:  56.9599926472 %\n",
      "Epoch 78, CIFAR-10 Batch 1:  Cost:  1.33816 Accuracy:  56.5399944782 %\n",
      "Epoch 78, CIFAR-10 Batch 2:  Cost:  1.30569 Accuracy:  56.7599952221 %\n",
      "Epoch 78, CIFAR-10 Batch 3:  Cost:  1.23713 Accuracy:  56.4399957657 %\n",
      "Epoch 78, CIFAR-10 Batch 4:  Cost:  1.27199 Accuracy:  56.4399957657 %\n",
      "Epoch 78, CIFAR-10 Batch 5:  Cost:  1.30702 Accuracy:  56.3799858093 %\n",
      "Epoch 79, CIFAR-10 Batch 1:  Cost:  1.34606 Accuracy:  56.4399957657 %\n",
      "Epoch 79, CIFAR-10 Batch 2:  Cost:  1.30955 Accuracy:  56.1599910259 %\n",
      "Epoch 79, CIFAR-10 Batch 3:  Cost:  1.248 Accuracy:  56.299996376 %\n",
      "Epoch 79, CIFAR-10 Batch 4:  Cost:  1.27615 Accuracy:  56.199991703 %\n",
      "Epoch 79, CIFAR-10 Batch 5:  Cost:  1.30563 Accuracy:  56.3999950886 %\n",
      "Epoch 80, CIFAR-10 Batch 1:  Cost:  1.34011 Accuracy:  56.6399931908 %\n",
      "Epoch 80, CIFAR-10 Batch 2:  Cost:  1.30607 Accuracy:  56.199991703 %\n",
      "Epoch 80, CIFAR-10 Batch 3:  Cost:  1.23419 Accuracy:  56.3999891281 %\n",
      "Epoch 80, CIFAR-10 Batch 4:  Cost:  1.26937 Accuracy:  56.4199924469 %\n",
      "Epoch 80, CIFAR-10 Batch 5:  Cost:  1.29241 Accuracy:  56.6999971867 %\n",
      "Epoch 81, CIFAR-10 Batch 1:  Cost:  1.34111 Accuracy:  56.0399889946 %\n",
      "Epoch 81, CIFAR-10 Batch 2:  Cost:  1.30658 Accuracy:  56.5199971199 %\n",
      "Epoch 81, CIFAR-10 Batch 3:  Cost:  1.23794 Accuracy:  56.199991703 %\n",
      "Epoch 81, CIFAR-10 Batch 4:  Cost:  1.26742 Accuracy:  56.6399931908 %\n",
      "Epoch 81, CIFAR-10 Batch 5:  Cost:  1.28719 Accuracy:  56.7399859428 %\n",
      "Epoch 82, CIFAR-10 Batch 1:  Cost:  1.34543 Accuracy:  56.4399898052 %\n",
      "Epoch 82, CIFAR-10 Batch 2:  Cost:  1.30807 Accuracy:  55.9799969196 %\n",
      "Epoch 82, CIFAR-10 Batch 3:  Cost:  1.22893 Accuracy:  56.3599944115 %\n",
      "Epoch 82, CIFAR-10 Batch 4:  Cost:  1.27193 Accuracy:  56.9999873638 %\n",
      "Epoch 82, CIFAR-10 Batch 5:  Cost:  1.2902 Accuracy:  56.6999912262 %\n",
      "Epoch 83, CIFAR-10 Batch 1:  Cost:  1.33823 Accuracy:  57.0999920368 %\n",
      "Epoch 83, CIFAR-10 Batch 2:  Cost:  1.29801 Accuracy:  56.879991293 %\n",
      "Epoch 83, CIFAR-10 Batch 3:  Cost:  1.22734 Accuracy:  56.879991293 %\n",
      "Epoch 83, CIFAR-10 Batch 4:  Cost:  1.26477 Accuracy:  56.8199932575 %\n",
      "Epoch 83, CIFAR-10 Batch 5:  Cost:  1.28778 Accuracy:  56.7799925804 %\n",
      "Epoch 84, CIFAR-10 Batch 1:  Cost:  1.36153 Accuracy:  56.5399944782 %\n",
      "Epoch 84, CIFAR-10 Batch 2:  Cost:  1.31933 Accuracy:  55.3399860859 %\n",
      "Epoch 84, CIFAR-10 Batch 3:  Cost:  1.23183 Accuracy:  56.2199950218 %\n",
      "Epoch 84, CIFAR-10 Batch 4:  Cost:  1.28227 Accuracy:  56.1399936676 %\n",
      "Epoch 84, CIFAR-10 Batch 5:  Cost:  1.29702 Accuracy:  56.459993124 %\n",
      "Epoch 85, CIFAR-10 Batch 1:  Cost:  1.34217 Accuracy:  57.0399940014 %\n",
      "Epoch 85, CIFAR-10 Batch 2:  Cost:  1.30142 Accuracy:  56.1599969864 %\n",
      "Epoch 85, CIFAR-10 Batch 3:  Cost:  1.22747 Accuracy:  56.4999938011 %\n",
      "Epoch 85, CIFAR-10 Batch 4:  Cost:  1.25806 Accuracy:  56.459993124 %\n",
      "Epoch 85, CIFAR-10 Batch 5:  Cost:  1.27938 Accuracy:  56.879991293 %\n",
      "Epoch 86, CIFAR-10 Batch 1:  Cost:  1.33676 Accuracy:  56.6399931908 %\n",
      "Epoch 86, CIFAR-10 Batch 2:  Cost:  1.31162 Accuracy:  56.719994545 %\n",
      "Epoch 86, CIFAR-10 Batch 3:  Cost:  1.22116 Accuracy:  56.4799904823 %\n",
      "Epoch 86, CIFAR-10 Batch 4:  Cost:  1.27868 Accuracy:  56.5999925137 %\n",
      "Epoch 86, CIFAR-10 Batch 5:  Cost:  1.28913 Accuracy:  56.8399906158 %\n",
      "Epoch 87, CIFAR-10 Batch 1:  Cost:  1.32483 Accuracy:  56.6799879074 %\n",
      "Epoch 87, CIFAR-10 Batch 2:  Cost:  1.31086 Accuracy:  56.4399957657 %\n",
      "Epoch 87, CIFAR-10 Batch 3:  Cost:  1.22463 Accuracy:  56.9999873638 %\n",
      "Epoch 87, CIFAR-10 Batch 4:  Cost:  1.2716 Accuracy:  56.3799977303 %\n",
      "Epoch 87, CIFAR-10 Batch 5:  Cost:  1.2838 Accuracy:  56.6999912262 %\n",
      "Epoch 88, CIFAR-10 Batch 1:  Cost:  1.33519 Accuracy:  56.719994545 %\n",
      "Epoch 88, CIFAR-10 Batch 2:  Cost:  1.30736 Accuracy:  56.6199958324 %\n",
      "Epoch 88, CIFAR-10 Batch 3:  Cost:  1.22555 Accuracy:  56.3399910927 %\n",
      "Epoch 88, CIFAR-10 Batch 4:  Cost:  1.27976 Accuracy:  56.5799891949 %\n",
      "Epoch 88, CIFAR-10 Batch 5:  Cost:  1.28969 Accuracy:  57.0399880409 %\n",
      "Epoch 89, CIFAR-10 Batch 1:  Cost:  1.3329 Accuracy:  57.2399973869 %\n",
      "Epoch 89, CIFAR-10 Batch 2:  Cost:  1.32487 Accuracy:  55.6999921799 %\n",
      "Epoch 89, CIFAR-10 Batch 3:  Cost:  1.23825 Accuracy:  56.0999929905 %\n",
      "Epoch 89, CIFAR-10 Batch 4:  Cost:  1.25972 Accuracy:  56.199991703 %\n",
      "Epoch 89, CIFAR-10 Batch 5:  Cost:  1.29099 Accuracy:  56.7199885845 %\n",
      "Epoch 90, CIFAR-10 Batch 1:  Cost:  1.3282 Accuracy:  56.5199911594 %\n",
      "Epoch 90, CIFAR-10 Batch 2:  Cost:  1.31078 Accuracy:  56.4399957657 %\n",
      "Epoch 90, CIFAR-10 Batch 3:  Cost:  1.2158 Accuracy:  57.0399880409 %\n",
      "Epoch 90, CIFAR-10 Batch 4:  Cost:  1.26435 Accuracy:  56.6399931908 %\n",
      "Epoch 90, CIFAR-10 Batch 5:  Cost:  1.28692 Accuracy:  56.4799904823 %\n",
      "Epoch 91, CIFAR-10 Batch 1:  Cost:  1.33236 Accuracy:  56.7999899387 %\n",
      "Epoch 91, CIFAR-10 Batch 2:  Cost:  1.30019 Accuracy:  56.1799883842 %\n",
      "Epoch 91, CIFAR-10 Batch 3:  Cost:  1.22494 Accuracy:  56.8999946117 %\n",
      "Epoch 91, CIFAR-10 Batch 4:  Cost:  1.26485 Accuracy:  56.4999938011 %\n",
      "Epoch 91, CIFAR-10 Batch 5:  Cost:  1.28787 Accuracy:  56.8999946117 %\n",
      "Epoch 92, CIFAR-10 Batch 1:  Cost:  1.32629 Accuracy:  56.6999912262 %\n",
      "Epoch 92, CIFAR-10 Batch 2:  Cost:  1.30775 Accuracy:  56.6799938679 %\n",
      "Epoch 92, CIFAR-10 Batch 3:  Cost:  1.22126 Accuracy:  56.5599918365 %\n",
      "Epoch 92, CIFAR-10 Batch 4:  Cost:  1.26934 Accuracy:  56.8199932575 %\n",
      "Epoch 92, CIFAR-10 Batch 5:  Cost:  1.28128 Accuracy:  57.1599900723 %\n",
      "Epoch 93, CIFAR-10 Batch 1:  Cost:  1.3256 Accuracy:  56.8999946117 %\n",
      "Epoch 93, CIFAR-10 Batch 2:  Cost:  1.3063 Accuracy:  56.3799917698 %\n",
      "Epoch 93, CIFAR-10 Batch 3:  Cost:  1.22071 Accuracy:  56.3399910927 %\n",
      "Epoch 93, CIFAR-10 Batch 4:  Cost:  1.26456 Accuracy:  56.1799883842 %\n",
      "Epoch 93, CIFAR-10 Batch 5:  Cost:  1.27331 Accuracy:  56.9199919701 %\n",
      "Epoch 94, CIFAR-10 Batch 1:  Cost:  1.32434 Accuracy:  56.719994545 %\n",
      "Epoch 94, CIFAR-10 Batch 2:  Cost:  1.3031 Accuracy:  56.3599944115 %\n",
      "Epoch 94, CIFAR-10 Batch 3:  Cost:  1.23 Accuracy:  56.6799938679 %\n",
      "Epoch 94, CIFAR-10 Batch 4:  Cost:  1.26147 Accuracy:  56.9199979305 %\n",
      "Epoch 94, CIFAR-10 Batch 5:  Cost:  1.28695 Accuracy:  56.459993124 %\n",
      "Epoch 95, CIFAR-10 Batch 1:  Cost:  1.32607 Accuracy:  56.7399919033 %\n",
      "Epoch 95, CIFAR-10 Batch 2:  Cost:  1.3071 Accuracy:  55.7199954987 %\n",
      "Epoch 95, CIFAR-10 Batch 3:  Cost:  1.22741 Accuracy:  56.7399919033 %\n",
      "Epoch 95, CIFAR-10 Batch 4:  Cost:  1.25412 Accuracy:  56.7999899387 %\n",
      "Epoch 95, CIFAR-10 Batch 5:  Cost:  1.28273 Accuracy:  56.4199924469 %\n",
      "Epoch 96, CIFAR-10 Batch 1:  Cost:  1.3227 Accuracy:  57.1199893951 %\n",
      "Epoch 96, CIFAR-10 Batch 2:  Cost:  1.297 Accuracy:  56.6399931908 %\n",
      "Epoch 96, CIFAR-10 Batch 3:  Cost:  1.22414 Accuracy:  56.6999912262 %\n",
      "Epoch 96, CIFAR-10 Batch 4:  Cost:  1.25573 Accuracy:  56.5199971199 %\n",
      "Epoch 96, CIFAR-10 Batch 5:  Cost:  1.28627 Accuracy:  56.9199919701 %\n",
      "Epoch 97, CIFAR-10 Batch 1:  Cost:  1.32211 Accuracy:  57.2799921036 %\n",
      "Epoch 97, CIFAR-10 Batch 2:  Cost:  1.30821 Accuracy:  56.099998951 %\n",
      "Epoch 97, CIFAR-10 Batch 3:  Cost:  1.2407 Accuracy:  55.5999994278 %\n",
      "Epoch 97, CIFAR-10 Batch 4:  Cost:  1.25132 Accuracy:  56.5999925137 %\n",
      "Epoch 97, CIFAR-10 Batch 5:  Cost:  1.27588 Accuracy:  56.9599926472 %\n",
      "Epoch 98, CIFAR-10 Batch 1:  Cost:  1.32236 Accuracy:  56.9599926472 %\n",
      "Epoch 98, CIFAR-10 Batch 2:  Cost:  1.30314 Accuracy:  57.0999979973 %\n",
      "Epoch 98, CIFAR-10 Batch 3:  Cost:  1.23041 Accuracy:  55.6599974632 %\n",
      "Epoch 98, CIFAR-10 Batch 4:  Cost:  1.25696 Accuracy:  56.9999933243 %\n",
      "Epoch 98, CIFAR-10 Batch 5:  Cost:  1.27647 Accuracy:  56.7999958992 %\n",
      "Epoch 99, CIFAR-10 Batch 1:  Cost:  1.32308 Accuracy:  56.9999873638 %\n",
      "Epoch 99, CIFAR-10 Batch 2:  Cost:  1.29233 Accuracy:  56.8599939346 %\n",
      "Epoch 99, CIFAR-10 Batch 3:  Cost:  1.23399 Accuracy:  56.5399944782 %\n",
      "Epoch 99, CIFAR-10 Batch 4:  Cost:  1.25797 Accuracy:  56.8999946117 %\n",
      "Epoch 99, CIFAR-10 Batch 5:  Cost:  1.2855 Accuracy:  56.9599926472 %\n",
      "Epoch 100, CIFAR-10 Batch 1:  Cost:  1.33109 Accuracy:  57.0999920368 %\n",
      "Epoch 100, CIFAR-10 Batch 2:  Cost:  1.30576 Accuracy:  56.9399952888 %\n",
      "Epoch 100, CIFAR-10 Batch 3:  Cost:  1.22095 Accuracy:  57.0799946785 %\n",
      "Epoch 100, CIFAR-10 Batch 4:  Cost:  1.26312 Accuracy:  56.199991703 %\n",
      "Epoch 100, CIFAR-10 Batch 5:  Cost:  1.2734 Accuracy:  57.3399960995 %\n"
     ]
    }
   ],
   "source": [
    "\"\"\"\n",
    "DON'T MODIFY ANYTHING IN THIS CELL\n",
    "\"\"\"\n",
    "save_model_path = './image_classification'\n",
    "\n",
    "print('Training...')\n",
    "with tf.Session() as sess:\n",
    "    # Initializing the variables\n",
    "    sess.run(tf.global_variables_initializer())\n",
    "    \n",
    "    # Training cycle\n",
    "    for epoch in range(epochs):\n",
    "        # Loop over all batches\n",
    "        n_batches = 5\n",
    "        for batch_i in range(1, n_batches + 1):\n",
    "            for batch_features, batch_labels in helper.load_preprocess_training_batch(batch_i, batch_size):\n",
    "                train_neural_network(sess, optimizer, keep_probability, batch_features, batch_labels)\n",
    "            print('Epoch {:>2}, CIFAR-10 Batch {}:  '.format(epoch + 1, batch_i), end='')\n",
    "            print_stats(sess, batch_features, batch_labels, cost, accuracy)\n",
    "            \n",
    "    # Save Model\n",
    "    saver = tf.train.Saver()\n",
    "    save_path = saver.save(sess, save_model_path)"
   ]
  },
  {
   "cell_type": "markdown",
   "metadata": {
    "deletable": true,
    "editable": true
   },
   "source": [
    "# Checkpoint\n",
    "The model has been saved to disk.\n",
    "## Test Model\n",
    "Test your model against the test dataset.  This will be your final accuracy. You should have an accuracy greater than 50%. If you don't, keep tweaking the model architecture and parameters."
   ]
  },
  {
   "cell_type": "code",
   "execution_count": 52,
   "metadata": {
    "collapsed": false,
    "deletable": true,
    "editable": true
   },
   "outputs": [
    {
     "name": "stdout",
     "output_type": "stream",
     "text": [
      "Testing Accuracy: 0.5737362146377564\n",
      "\n"
     ]
    },
    {
     "data": {
      "image/png": "[encoded data removed]",
      "text/plain": [
       "<matplotlib.figure.Figure at 0x7f249003f208>"
      ]
     },
     "metadata": {
      "image/png": {
       "height": 319,
       "width": 355
      }
     },
     "output_type": "display_data"
    }
   ],
   "source": [
    "\"\"\"\n",
    "DON'T MODIFY ANYTHING IN THIS CELL\n",
    "\"\"\"\n",
    "%matplotlib inline\n",
    "%config InlineBackend.figure_format = 'retina'\n",
    "\n",
    "import tensorflow as tf\n",
    "import pickle\n",
    "import helper\n",
    "import random\n",
    "\n",
    "# Set batch size if not already set\n",
    "try:\n",
    "    if batch_size:\n",
    "        pass\n",
    "except NameError:\n",
    "    batch_size = 64\n",
    "\n",
    "save_model_path = './image_classification'\n",
    "n_samples = 4\n",
    "top_n_predictions = 3\n",
    "\n",
    "def test_model():\n",
    "    \"\"\"\n",
    "    Test the saved model against the test dataset\n",
    "    \"\"\"\n",
    "\n",
    "    test_features, test_labels = pickle.load(open('preprocess_test.p', mode='rb'))\n",
    "    loaded_graph = tf.Graph()\n",
    "\n",
    "    with tf.Session(graph=loaded_graph) as sess:\n",
    "        # Load model\n",
    "        loader = tf.train.import_meta_graph(save_model_path + '.meta')\n",
    "        loader.restore(sess, save_model_path)\n",
    "\n",
    "        # Get Tensors from loaded model\n",
    "        loaded_x = loaded_graph.get_tensor_by_name('x:0')\n",
    "        loaded_y = loaded_graph.get_tensor_by_name('y:0')\n",
    "        loaded_keep_prob = loaded_graph.get_tensor_by_name('keep_prob:0')\n",
    "        loaded_logits = loaded_graph.get_tensor_by_name('logits:0')\n",
    "        loaded_acc = loaded_graph.get_tensor_by_name('accuracy:0')\n",
    "        \n",
    "        # Get accuracy in batches for memory limitations\n",
    "        test_batch_acc_total = 0\n",
    "        test_batch_count = 0\n",
    "        \n",
    "        for test_feature_batch, test_label_batch in helper.batch_features_labels(test_features, test_labels, batch_size):\n",
    "            test_batch_acc_total += sess.run(\n",
    "                loaded_acc,\n",
    "                feed_dict={loaded_x: test_feature_batch, loaded_y: test_label_batch, loaded_keep_prob: 1.0})\n",
    "            test_batch_count += 1\n",
    "\n",
    "        print('Testing Accuracy: {}\\n'.format(test_batch_acc_total/test_batch_count))\n",
    "\n",
    "        # Print Random Samples\n",
    "        random_test_features, random_test_labels = tuple(zip(*random.sample(list(zip(test_features, test_labels)), n_samples)))\n",
    "        random_test_predictions = sess.run(\n",
    "            tf.nn.top_k(tf.nn.softmax(loaded_logits), top_n_predictions),\n",
    "            feed_dict={loaded_x: random_test_features, loaded_y: random_test_labels, loaded_keep_prob: 1.0})\n",
    "        helper.display_image_predictions(random_test_features, random_test_labels, random_test_predictions)\n",
    "\n",
    "\n",
    "test_model()"
   ]
  },
  {
   "cell_type": "markdown",
   "metadata": {
    "deletable": true,
    "editable": true
   },
   "source": [
    "## Why 50-80% Accuracy?\n",
    "You might be wondering why you can't get an accuracy any higher. First things first, 50% isn't bad for a simple CNN.  Pure guessing would get you 10% accuracy. However, you might notice people are getting scores [well above 80%](http://rodrigob.github.io/are_we_there_yet/build/classification_datasets_results.html#43494641522d3130).  That's because we haven't taught you all there is to know about neural networks. We still need to cover a few more techniques.\n",
    "## Submitting This Project\n",
    "When submitting this project, make sure to run all the cells before saving the notebook.  Save the notebook file as \"dlnd_image_classification.ipynb\" and save it as a HTML file under \"File\" -> \"Download as\".  Include the \"helper.py\" and \"problem_unittests.py\" files in your submission."
   ]
  }
 ],
 "metadata": {
  "kernelspec": {
   "display_name": "Python 3",
   "language": "python",
   "name": "python3"
  },
  "language_info": {
   "codemirror_mode": {
    "name": "ipython",
    "version": 3
   },
   "file_extension": ".py",
   "mimetype": "text/x-python",
   "name": "python",
   "nbconvert_exporter": "python",
   "pygments_lexer": "ipython3",
   "version": "3.5.2"
  },
  "widgets": {
   "state": {},
   "version": "1.1.2"
  }
 },
 "nbformat": 4,
 "nbformat_minor": 0
}
