{
 "cells": [
  {
   "cell_type": "markdown",
   "metadata": {
    "collapsed": true,
    "deletable": true,
    "editable": true
   },
   "source": [
    "# Image Classification\n",
    "In this project, you'll classify images from the [CIFAR-10 dataset](https://www.cs.toronto.edu/~kriz/cifar.html).  The dataset consists of airplanes, dogs, cats, and other objects. You'll preprocess the images, then train a convolutional neural network on all the samples. The images need to be normalized and the labels need to be one-hot encoded.  You'll get to apply what you learned and build a convolutional, max pooling, dropout, and fully connected layers.  At the end, you'll get to see your neural network's predictions on the sample images.\n",
    "## Get the Data\n",
    "Run the following cell to download the [CIFAR-10 dataset for python](https://www.cs.toronto.edu/~kriz/cifar-10-python.tar.gz)."
   ]
  },
  {
   "cell_type": "code",
   "execution_count": 6,
   "metadata": {
    "collapsed": false,
    "deletable": true,
    "editable": true
   },
   "outputs": [
    {
     "name": "stdout",
     "output_type": "stream",
     "text": [
      "All files found!\n"
     ]
    }
   ],
   "source": [
    "\"\"\"\n",
    "DON'T MODIFY ANYTHING IN THIS CELL THAT IS BELOW THIS LINE\n",
    "\"\"\"\n",
    "from urllib.request import urlretrieve\n",
    "from os.path import isfile, isdir\n",
    "from tqdm import tqdm\n",
    "import problem_unittests as tests\n",
    "import tarfile\n",
    "\n",
    "cifar10_dataset_folder_path = 'cifar-10-batches-py'\n",
    "\n",
    "# Use Floyd's cifar-10 dataset if present\n",
    "floyd_cifar10_location = '/input/cifar-10/python.tar.gz'\n",
    "if isfile(floyd_cifar10_location):\n",
    "    tar_gz_path = floyd_cifar10_location\n",
    "else:\n",
    "    tar_gz_path = 'cifar-10-python.tar.gz'\n",
    "\n",
    "class DLProgress(tqdm):\n",
    "    last_block = 0\n",
    "\n",
    "    def hook(self, block_num=1, block_size=1, total_size=None):\n",
    "        self.total = total_size\n",
    "        self.update((block_num - self.last_block) * block_size)\n",
    "        self.last_block = block_num\n",
    "\n",
    "if not isfile(tar_gz_path):\n",
    "    with DLProgress(unit='B', unit_scale=True, miniters=1, desc='CIFAR-10 Dataset') as pbar:\n",
    "        urlretrieve(\n",
    "            'https://www.cs.toronto.edu/~kriz/cifar-10-python.tar.gz',\n",
    "            tar_gz_path,\n",
    "            pbar.hook)\n",
    "\n",
    "if not isdir(cifar10_dataset_folder_path):\n",
    "    with tarfile.open(tar_gz_path) as tar:\n",
    "        tar.extractall()\n",
    "        tar.close()\n",
    "\n",
    "\n",
    "tests.test_folder_path(cifar10_dataset_folder_path)"
   ]
  },
  {
   "cell_type": "markdown",
   "metadata": {
    "deletable": true,
    "editable": true
   },
   "source": [
    "## Explore the Data\n",
    "The dataset is broken into batches to prevent your machine from running out of memory.  The CIFAR-10 dataset consists of 5 batches, named `data_batch_1`, `data_batch_2`, etc.. Each batch contains the labels and images that are one of the following:\n",
    "* airplane\n",
    "* automobile\n",
    "* bird\n",
    "* cat\n",
    "* deer\n",
    "* dog\n",
    "* frog\n",
    "* horse\n",
    "* ship\n",
    "* truck\n",
    "\n",
    "Understanding a dataset is part of making predictions on the data.  Play around with the code cell below by changing the `batch_id` and `sample_id`. The `batch_id` is the id for a batch (1-5). The `sample_id` is the id for a image and label pair in the batch.\n",
    "\n",
    "Ask yourself \"What are all possible labels?\", \"What is the range of values for the image data?\", \"Are the labels in order or random?\".  Answers to questions like these will help you preprocess the data and end up with better predictions."
   ]
  },
  {
   "cell_type": "code",
   "execution_count": 7,
   "metadata": {
    "collapsed": false,
    "deletable": true,
    "editable": true
   },
   "outputs": [
    {
     "name": "stdout",
     "output_type": "stream",
     "text": [
      "\n",
      "Stats of batch 1:\n",
      "Samples: 10000\n",
      "Label Counts: {0: 1005, 1: 974, 2: 1032, 3: 1016, 4: 999, 5: 937, 6: 1030, 7: 1001, 8: 1025, 9: 981}\n",
      "First 20 Labels: [6, 9, 9, 4, 1, 1, 2, 7, 8, 3, 4, 7, 7, 2, 9, 9, 9, 3, 2, 6]\n",
      "\n",
      "Example of Image 6:\n",
      "Image - Min Value: 7 Max Value: 249\n",
      "Image - Shape: (32, 32, 3)\n",
      "Label - Label Id: 2 Name: bird\n"
     ]
    },
    {
     "data": {
      "image/png": "[encoded data removed]",
      "text/plain": [
       "<matplotlib.figure.Figure at 0x7f1413b53470>"
      ]
     },
     "metadata": {
      "image/png": {
       "height": 250,
       "width": 253
      }
     },
     "output_type": "display_data"
    }
   ],
   "source": [
    "%matplotlib inline\n",
    "%config InlineBackend.figure_format = 'retina'\n",
    "\n",
    "import helper\n",
    "import numpy as np\n",
    "\n",
    "# Explore the dataset\n",
    "batch_id = 1\n",
    "sample_id = 6\n",
    "helper.display_stats(cifar10_dataset_folder_path, batch_id, sample_id)"
   ]
  },
  {
   "cell_type": "markdown",
   "metadata": {
    "deletable": true,
    "editable": true
   },
   "source": [
    "## Implement Preprocess Functions\n",
    "### Normalize\n",
    "In the cell below, implement the `normalize` function to take in image data, `x`, and return it as a normalized Numpy array. The values should be in the range of 0 to 1, inclusive.  The return object should be the same shape as `x`."
   ]
  },
  {
   "cell_type": "code",
   "execution_count": 8,
   "metadata": {
    "collapsed": false,
    "deletable": true,
    "editable": true
   },
   "outputs": [
    {
     "name": "stdout",
     "output_type": "stream",
     "text": [
      "Tests Passed\n"
     ]
    }
   ],
   "source": [
    "def normalize(x):\n",
    "    \"\"\"\n",
    "    Normalize a list of sample image data in the range of 0 to 1\n",
    "    : x: List of image data.  The image shape is (32, 32, 3)\n",
    "    : return: Numpy array of normalize data\n",
    "    \"\"\"\n",
    "    a = 0\n",
    "    b = 1\n",
    "    grayscale_min = 0\n",
    "    grayscale_max = 255\n",
    "    #return a + ( ( (x - grayscale_min)*(b - a) )/( grayscale_max - grayscale_min ) )\n",
    "    \"\"\"\n",
    "    Simplifying:\n",
    "    \"\"\"\n",
    "    return x/255\n",
    "\n",
    "\n",
    "\"\"\"\n",
    "DON'T MODIFY ANYTHING IN THIS CELL THAT IS BELOW THIS LINE\n",
    "\"\"\"\n",
    "tests.test_normalize(normalize)"
   ]
  },
  {
   "cell_type": "markdown",
   "metadata": {
    "deletable": true,
    "editable": true
   },
   "source": [
    "### One-hot encode\n",
    "Just like the previous code cell, you'll be implementing a function for preprocessing.  This time, you'll implement the `one_hot_encode` function. The input, `x`, are a list of labels.  Implement the function to return the list of labels as One-Hot encoded Numpy array.  The possible values for labels are 0 to 9. The one-hot encoding function should return the same encoding for each value between each call to `one_hot_encode`.  Make sure to save the map of encodings outside the function.\n",
    "\n",
    "Hint: Don't reinvent the wheel."
   ]
  },
  {
   "cell_type": "code",
   "execution_count": 9,
   "metadata": {
    "collapsed": false,
    "deletable": true,
    "editable": true
   },
   "outputs": [
    {
     "name": "stdout",
     "output_type": "stream",
     "text": [
      "Tests Passed\n"
     ]
    }
   ],
   "source": [
    "from sklearn.preprocessing import LabelBinarizer\n",
    "label_binarizer = LabelBinarizer()\n",
    "label_binarizer.fit(range(10))\n",
    "def one_hot_encode(x):\n",
    "    \"\"\"\n",
    "    One hot encode a list of sample labels. Return a one-hot encoded vector for each label.\n",
    "    : x: List of sample Labels\n",
    "    : return: Numpy array of one-hot encoded labels\n",
    "    \"\"\"\n",
    "    b = label_binarizer.transform(x)\n",
    "    return b\n",
    "\n",
    "\n",
    "\"\"\"\n",
    "DON'T MODIFY ANYTHING IN THIS CELL THAT IS BELOW THIS LINE\n",
    "\"\"\"\n",
    "tests.test_one_hot_encode(one_hot_encode)"
   ]
  },
  {
   "cell_type": "markdown",
   "metadata": {
    "deletable": true,
    "editable": true
   },
   "source": [
    "### Randomize Data\n",
    "As you saw from exploring the data above, the order of the samples are randomized.  It doesn't hurt to randomize it again, but you don't need to for this dataset."
   ]
  },
  {
   "cell_type": "markdown",
   "metadata": {
    "deletable": true,
    "editable": true
   },
   "source": [
    "## Preprocess all the data and save it\n",
    "Running the code cell below will preprocess all the CIFAR-10 data and save it to file. The code below also uses 10% of the training data for validation."
   ]
  },
  {
   "cell_type": "code",
   "execution_count": 10,
   "metadata": {
    "collapsed": false,
    "deletable": true,
    "editable": true
   },
   "outputs": [],
   "source": [
    "\"\"\"\n",
    "DON'T MODIFY ANYTHING IN THIS CELL\n",
    "\"\"\"\n",
    "# Preprocess Training, Validation, and Testing Data\n",
    "helper.preprocess_and_save_data(cifar10_dataset_folder_path, normalize, one_hot_encode)"
   ]
  },
  {
   "cell_type": "markdown",
   "metadata": {
    "deletable": true,
    "editable": true
   },
   "source": [
    "# Check Point\n",
    "This is your first checkpoint.  If you ever decide to come back to this notebook or have to restart the notebook, you can start from here.  The preprocessed data has been saved to disk."
   ]
  },
  {
   "cell_type": "code",
   "execution_count": 11,
   "metadata": {
    "collapsed": true,
    "deletable": true,
    "editable": true
   },
   "outputs": [],
   "source": [
    "\"\"\"\n",
    "DON'T MODIFY ANYTHING IN THIS CELL\n",
    "\"\"\"\n",
    "import pickle\n",
    "import problem_unittests as tests\n",
    "import helper\n",
    "\n",
    "# Load the Preprocessed Validation data\n",
    "valid_features, valid_labels = pickle.load(open('preprocess_validation.p', mode='rb'))"
   ]
  },
  {
   "cell_type": "markdown",
   "metadata": {
    "deletable": true,
    "editable": true
   },
   "source": [
    "## Build the network\n",
    "For the neural network, you'll build each layer into a function.  Most of the code you've seen has been outside of functions. To test your code more thoroughly, we require that you put each layer in a function.  This allows us to give you better feedback and test for simple mistakes using our unittests before you submit your project.\n",
    "\n",
    ">**Note:** If you're finding it hard to dedicate enough time for this course each week, we've provided a small shortcut to this part of the project. In the next couple of problems, you'll have the option to use classes from the [TensorFlow Layers](https://www.tensorflow.org/api_docs/python/tf/layers) or [TensorFlow Layers (contrib)](https://www.tensorflow.org/api_guides/python/contrib.layers) packages to build each layer, except the layers you build in the \"Convolutional and Max Pooling Layer\" section.  TF Layers is similar to Keras's and TFLearn's abstraction to layers, so it's easy to pickup.\n",
    "\n",
    ">However, if you would like to get the most out of this course, try to solve all the problems _without_ using anything from the TF Layers packages. You **can** still use classes from other packages that happen to have the same name as ones you find in TF Layers! For example, instead of using the TF Layers version of the `conv2d` class, [tf.layers.conv2d](https://www.tensorflow.org/api_docs/python/tf/layers/conv2d), you would want to use the TF Neural Network version of `conv2d`, [tf.nn.conv2d](https://www.tensorflow.org/api_docs/python/tf/nn/conv2d). \n",
    "\n",
    "Let's begin!\n",
    "\n",
    "### Input\n",
    "The neural network needs to read the image data, one-hot encoded labels, and dropout keep probability. Implement the following functions\n",
    "* Implement `neural_net_image_input`\n",
    " * Return a [TF Placeholder](https://www.tensorflow.org/api_docs/python/tf/placeholder)\n",
    " * Set the shape using `image_shape` with batch size set to `None`.\n",
    " * Name the TensorFlow placeholder \"x\" using the TensorFlow `name` parameter in the [TF Placeholder](https://www.tensorflow.org/api_docs/python/tf/placeholder).\n",
    "* Implement `neural_net_label_input`\n",
    " * Return a [TF Placeholder](https://www.tensorflow.org/api_docs/python/tf/placeholder)\n",
    " * Set the shape using `n_classes` with batch size set to `None`.\n",
    " * Name the TensorFlow placeholder \"y\" using the TensorFlow `name` parameter in the [TF Placeholder](https://www.tensorflow.org/api_docs/python/tf/placeholder).\n",
    "* Implement `neural_net_keep_prob_input`\n",
    " * Return a [TF Placeholder](https://www.tensorflow.org/api_docs/python/tf/placeholder) for dropout keep probability.\n",
    " * Name the TensorFlow placeholder \"keep_prob\" using the TensorFlow `name` parameter in the [TF Placeholder](https://www.tensorflow.org/api_docs/python/tf/placeholder).\n",
    "\n",
    "These names will be used at the end of the project to load your saved model.\n",
    "\n",
    "Note: `None` for shapes in TensorFlow allow for a dynamic size."
   ]
  },
  {
   "cell_type": "code",
   "execution_count": 12,
   "metadata": {
    "collapsed": false,
    "deletable": true,
    "editable": true
   },
   "outputs": [
    {
     "name": "stdout",
     "output_type": "stream",
     "text": [
      "Image Input Tests Passed.\n",
      "Label Input Tests Passed.\n",
      "Keep Prob Tests Passed.\n"
     ]
    }
   ],
   "source": [
    "import tensorflow as tf\n",
    "\n",
    "def neural_net_image_input(image_shape):\n",
    "    \"\"\"\n",
    "    Return a Tensor for a batch of image input\n",
    "    : image_shape: Shape of the images\n",
    "    : return: Tensor for image input.\n",
    "    \"\"\"\n",
    "    # TODO: Implement Function\n",
    "    return tf.placeholder(tf.float32, shape=[None, image_shape[0], image_shape[1], image_shape[2]], name=\"x\")\n",
    "\n",
    "\n",
    "def neural_net_label_input(n_classes):\n",
    "    \"\"\"\n",
    "    Return a Tensor for a batch of label input\n",
    "    : n_classes: Number of classes\n",
    "    : return: Tensor for label input.\n",
    "    \"\"\"\n",
    "    # TODO: Implement Function\n",
    "    return tf.placeholder(tf.float32, shape=[None, n_classes], name=\"y\")\n",
    "\n",
    "\n",
    "def neural_net_keep_prob_input():\n",
    "    \"\"\"\n",
    "    Return a Tensor for keep probability\n",
    "    : return: Tensor for keep probability.\n",
    "    \"\"\"\n",
    "    # TODO: Implement Function\n",
    "    return tf.placeholder(tf.float32, name=\"keep_prob\")\n",
    "\n",
    "\n",
    "\"\"\"\n",
    "DON'T MODIFY ANYTHING IN THIS CELL THAT IS BELOW THIS LINE\n",
    "\"\"\"\n",
    "tf.reset_default_graph()\n",
    "tests.test_nn_image_inputs(neural_net_image_input)\n",
    "tests.test_nn_label_inputs(neural_net_label_input)\n",
    "tests.test_nn_keep_prob_inputs(neural_net_keep_prob_input)"
   ]
  },
  {
   "cell_type": "markdown",
   "metadata": {
    "deletable": true,
    "editable": true
   },
   "source": [
    "### Convolution and Max Pooling Layer\n",
    "Convolution layers have a lot of success with images. For this code cell, you should implement the function `conv2d_maxpool` to apply convolution then max pooling:\n",
    "* Create the weight and bias using `conv_ksize`, `conv_num_outputs` and the shape of `x_tensor`.\n",
    "* Apply a convolution to `x_tensor` using weight and `conv_strides`.\n",
    " * We recommend you use same padding, but you're welcome to use any padding.\n",
    "* Add bias\n",
    "* Add a nonlinear activation to the convolution.\n",
    "* Apply Max Pooling using `pool_ksize` and `pool_strides`.\n",
    " * We recommend you use same padding, but you're welcome to use any padding.\n",
    "\n",
    "**Note:** You **can't** use [TensorFlow Layers](https://www.tensorflow.org/api_docs/python/tf/layers) or [TensorFlow Layers (contrib)](https://www.tensorflow.org/api_guides/python/contrib.layers) for **this** layer, but you can still use TensorFlow's [Neural Network](https://www.tensorflow.org/api_docs/python/tf/nn) package. You may still use the shortcut option for all the **other** layers."
   ]
  },
  {
   "cell_type": "code",
   "execution_count": 13,
   "metadata": {
    "collapsed": false,
    "deletable": true,
    "editable": true
   },
   "outputs": [
    {
     "name": "stdout",
     "output_type": "stream",
     "text": [
      "Tests Passed\n"
     ]
    }
   ],
   "source": [
    "def conv2d_maxpool(x_tensor, conv_num_outputs, conv_ksize, conv_strides, pool_ksize, pool_strides):\n",
    "    \"\"\"\n",
    "    Apply convolution then max pooling to x_tensor\n",
    "    :param x_tensor: TensorFlow Tensor\n",
    "    :param conv_num_outputs: Number of outputs for the convolutional layer\n",
    "    :param conv_ksize: kernal size 2-D Tuple for the convolutional layer\n",
    "    :param conv_strides: Stride 2-D Tuple for convolution\n",
    "    :param pool_ksize: kernal size 2-D Tuple for pool\n",
    "    :param pool_strides: Stride 2-D Tuple for pool\n",
    "    : return: A tensor that represents convolution and max pooling of x_tensor\n",
    "    \"\"\"\n",
    "    weights = tf.Variable(tf.truncated_normal([conv_ksize[0], conv_ksize[1], x_tensor.get_shape()[3].value, conv_num_outputs], stddev=0.1))\n",
    "    bias = tf.Variable(tf.zeros(conv_num_outputs))\n",
    "    conv = tf.nn.conv2d(x_tensor, weights, [1, conv_strides[0], conv_strides[1], 1], 'SAME') + bias    \n",
    "    conv = tf.nn.max_pool(conv, [1, pool_ksize[0], pool_ksize[1], 1], [1, pool_strides[0], pool_strides[1], 1],'SAME')\n",
    "    conv = tf.nn.relu(conv)    \n",
    "    return conv\n",
    "\n",
    "\n",
    "\"\"\"\n",
    "DON'T MODIFY ANYTHING IN THIS CELL THAT IS BELOW THIS LINE\n",
    "\"\"\"\n",
    "tests.test_con_pool(conv2d_maxpool)"
   ]
  },
  {
   "cell_type": "markdown",
   "metadata": {
    "deletable": true,
    "editable": true
   },
   "source": [
    "### Flatten Layer\n",
    "Implement the `flatten` function to change the dimension of `x_tensor` from a 4-D tensor to a 2-D tensor.  The output should be the shape (*Batch Size*, *Flattened Image Size*). Shortcut option: you can use classes from the [TensorFlow Layers](https://www.tensorflow.org/api_docs/python/tf/layers) or [TensorFlow Layers (contrib)](https://www.tensorflow.org/api_guides/python/contrib.layers) packages for this layer. For more of a challenge, only use other TensorFlow packages."
   ]
  },
  {
   "cell_type": "code",
   "execution_count": 14,
   "metadata": {
    "collapsed": false,
    "deletable": true,
    "editable": true
   },
   "outputs": [
    {
     "name": "stdout",
     "output_type": "stream",
     "text": [
      "Tests Passed\n"
     ]
    }
   ],
   "source": [
    "def flatten(x_tensor):\n",
    "    \"\"\"\n",
    "    Flatten x_tensor to (Batch Size, Flattened Image Size)\n",
    "    : x_tensor: A tensor of size (Batch Size, ...), where ... are the image dimensions.\n",
    "    : return: A tensor of size (Batch Size, Flattened Image Size).\n",
    "    \"\"\"\n",
    "    # TODO: Implement Function\n",
    "    return tf.contrib.layers.flatten(x_tensor)\n",
    "\n",
    "\n",
    "\"\"\"\n",
    "DON'T MODIFY ANYTHING IN THIS CELL THAT IS BELOW THIS LINE\n",
    "\"\"\"\n",
    "tests.test_flatten(flatten)"
   ]
  },
  {
   "cell_type": "markdown",
   "metadata": {
    "deletable": true,
    "editable": true
   },
   "source": [
    "### Fully-Connected Layer\n",
    "Implement the `fully_conn` function to apply a fully connected layer to `x_tensor` with the shape (*Batch Size*, *num_outputs*). Shortcut option: you can use classes from the [TensorFlow Layers](https://www.tensorflow.org/api_docs/python/tf/layers) or [TensorFlow Layers (contrib)](https://www.tensorflow.org/api_guides/python/contrib.layers) packages for this layer. For more of a challenge, only use other TensorFlow packages."
   ]
  },
  {
   "cell_type": "code",
   "execution_count": 15,
   "metadata": {
    "collapsed": false,
    "deletable": true,
    "editable": true
   },
   "outputs": [
    {
     "name": "stdout",
     "output_type": "stream",
     "text": [
      "Tests Passed\n"
     ]
    }
   ],
   "source": [
    "def fully_conn(x_tensor, num_outputs):\n",
    "    \"\"\"\n",
    "    Apply a fully connected layer to x_tensor using weight and bias\n",
    "    : x_tensor: A 2-D tensor where the first dimension is batch size.\n",
    "    : num_outputs: The number of output that the new tensor should be.\n",
    "    : return: A 2-D tensor where the second dimension is num_outputs.\n",
    "    \"\"\"\n",
    "    # TODO: Implement Function\n",
    "    return tf.contrib.layers.fully_connected(inputs=x_tensor, num_outputs=num_outputs, activation_fn=tf.nn.relu)\n",
    "\n",
    "\n",
    "\"\"\"\n",
    "DON'T MODIFY ANYTHING IN THIS CELL THAT IS BELOW THIS LINE\n",
    "\"\"\"\n",
    "tests.test_fully_conn(fully_conn)"
   ]
  },
  {
   "cell_type": "markdown",
   "metadata": {
    "deletable": true,
    "editable": true
   },
   "source": [
    "### Output Layer\n",
    "Implement the `output` function to apply a fully connected layer to `x_tensor` with the shape (*Batch Size*, *num_outputs*). Shortcut option: you can use classes from the [TensorFlow Layers](https://www.tensorflow.org/api_docs/python/tf/layers) or [TensorFlow Layers (contrib)](https://www.tensorflow.org/api_guides/python/contrib.layers) packages for this layer. For more of a challenge, only use other TensorFlow packages.\n",
    "\n",
    "**Note:** Activation, softmax, or cross entropy should **not** be applied to this."
   ]
  },
  {
   "cell_type": "code",
   "execution_count": 16,
   "metadata": {
    "collapsed": false,
    "deletable": true,
    "editable": true
   },
   "outputs": [
    {
     "name": "stdout",
     "output_type": "stream",
     "text": [
      "Tests Passed\n"
     ]
    }
   ],
   "source": [
    "def output(x_tensor, num_outputs):\n",
    "    \"\"\"\n",
    "    Apply a output layer to x_tensor using weight and bias\n",
    "    : x_tensor: A 2-D tensor where the first dimension is batch size.\n",
    "    : num_outputs: The number of output that the new tensor should be.\n",
    "    : return: A 2-D tensor where the second dimension is num_outputs.\n",
    "    \"\"\"\n",
    "    # TODO: Implement Function\n",
    "    return tf.contrib.layers.fully_connected(inputs=x_tensor, num_outputs=num_outputs, activation_fn=None)\n",
    "\n",
    "\n",
    "\"\"\"\n",
    "DON'T MODIFY ANYTHING IN THIS CELL THAT IS BELOW THIS LINE\n",
    "\"\"\"\n",
    "tests.test_output(output)"
   ]
  },
  {
   "cell_type": "markdown",
   "metadata": {
    "deletable": true,
    "editable": true
   },
   "source": [
    "### Create Convolutional Model\n",
    "Implement the function `conv_net` to create a convolutional neural network model. The function takes in a batch of images, `x`, and outputs logits.  Use the layers you created above to create this model:\n",
    "\n",
    "* Apply 1, 2, or 3 Convolution and Max Pool layers\n",
    "* Apply a Flatten Layer\n",
    "* Apply 1, 2, or 3 Fully Connected Layers\n",
    "* Apply an Output Layer\n",
    "* Return the output\n",
    "* Apply [TensorFlow's Dropout](https://www.tensorflow.org/api_docs/python/tf/nn/dropout) to one or more layers in the model using `keep_prob`. "
   ]
  },
  {
   "cell_type": "code",
   "execution_count": 17,
   "metadata": {
    "collapsed": false,
    "deletable": true,
    "editable": true
   },
   "outputs": [
    {
     "name": "stdout",
     "output_type": "stream",
     "text": [
      "Neural Network Built!\n"
     ]
    }
   ],
   "source": [
    "def conv_net(x, keep_prob):\n",
    "    \"\"\"\n",
    "    Create a convolutional neural network model\n",
    "    : x: Placeholder tensor that holds image data.\n",
    "    : keep_prob: Placeholder tensor that hold dropout keep probability.\n",
    "    : return: Tensor that represents logits\n",
    "    \"\"\"\n",
    "    # TODO: Apply 1, 2, or 3 Convolution and Max Pool layers\n",
    "    #    Play around with different number of outputs, kernel size and stride\n",
    "    # Function Definition from Above:\n",
    "    conv_num_outputs = 64\n",
    "    conv_ksize = (16, 16)\n",
    "    conv_strides = (4, 4)\n",
    "    pool_ksize = (8, 8)\n",
    "    pool_strides = (2, 2)\n",
    "    x = conv2d_maxpool(x, conv_num_outputs, conv_ksize, conv_strides, pool_ksize, pool_strides)\n",
    "    x = tf.nn.dropout(x, keep_prob=keep_prob)\n",
    "    \n",
    "    # TODO: Apply a Flatten Layer\n",
    "    # Function Definition from Above:\n",
    "    x = flatten(x)\n",
    "    \n",
    "\n",
    "    # TODO: Apply 1, 2, or 3 Fully Connected Layers\n",
    "    #    Play around with different number of outputs\n",
    "    # Function Definition from Above:\n",
    "    x = fully_conn(x, 128)    \n",
    "    x = tf.nn.dropout(x, keep_prob=keep_prob)\n",
    "    \n",
    "    # TODO: Apply an Output Layer\n",
    "    #    Set this to the number of classes\n",
    "    # Function Definition from Above:\n",
    "    x = output(x, 10)\n",
    "    \n",
    "    \n",
    "    # TODO: return output\n",
    "    return x\n",
    "\n",
    "\n",
    "\"\"\"\n",
    "DON'T MODIFY ANYTHING IN THIS CELL THAT IS BELOW THIS LINE\n",
    "\"\"\"\n",
    "\n",
    "##############################\n",
    "## Build the Neural Network ##\n",
    "##############################\n",
    "\n",
    "# Remove previous weights, bias, inputs, etc..\n",
    "tf.reset_default_graph()\n",
    "\n",
    "# Inputs\n",
    "x = neural_net_image_input((32, 32, 3))\n",
    "y = neural_net_label_input(10)\n",
    "keep_prob = neural_net_keep_prob_input()\n",
    "\n",
    "# Model\n",
    "logits = conv_net(x, keep_prob)\n",
    "\n",
    "# Name logits Tensor, so that is can be loaded from disk after training\n",
    "logits = tf.identity(logits, name='logits')\n",
    "\n",
    "# Loss and Optimizer\n",
    "cost = tf.reduce_mean(tf.nn.softmax_cross_entropy_with_logits(logits=logits, labels=y))\n",
    "optimizer = tf.train.AdamOptimizer().minimize(cost)\n",
    "\n",
    "# Accuracy\n",
    "correct_pred = tf.equal(tf.argmax(logits, 1), tf.argmax(y, 1))\n",
    "accuracy = tf.reduce_mean(tf.cast(correct_pred, tf.float32), name='accuracy')\n",
    "\n",
    "tests.test_conv_net(conv_net)"
   ]
  },
  {
   "cell_type": "markdown",
   "metadata": {
    "deletable": true,
    "editable": true
   },
   "source": [
    "## Train the Neural Network\n",
    "### Single Optimization\n",
    "Implement the function `train_neural_network` to do a single optimization.  The optimization should use `optimizer` to optimize in `session` with a `feed_dict` of the following:\n",
    "* `x` for image input\n",
    "* `y` for labels\n",
    "* `keep_prob` for keep probability for dropout\n",
    "\n",
    "This function will be called for each batch, so `tf.global_variables_initializer()` has already been called.\n",
    "\n",
    "Note: Nothing needs to be returned. This function is only optimizing the neural network."
   ]
  },
  {
   "cell_type": "code",
   "execution_count": 18,
   "metadata": {
    "collapsed": false,
    "deletable": true,
    "editable": true
   },
   "outputs": [
    {
     "name": "stdout",
     "output_type": "stream",
     "text": [
      "Tests Passed\n"
     ]
    }
   ],
   "source": [
    "def train_neural_network(session, optimizer, keep_probability, feature_batch, label_batch):\n",
    "    \"\"\"\n",
    "    Optimize the session on a batch of images and labels\n",
    "    : session: Current TensorFlow session\n",
    "    : optimizer: TensorFlow optimizer function\n",
    "    : keep_probability: keep probability\n",
    "    : feature_batch: Batch of Numpy image data\n",
    "    : label_batch: Batch of Numpy label data\n",
    "    \"\"\"\n",
    "    # TODO: Implement Function\n",
    "    session.run(optimizer, feed_dict = {x: feature_batch, y: label_batch, keep_prob: keep_probability})\n",
    "\n",
    "\n",
    "\"\"\"\n",
    "DON'T MODIFY ANYTHING IN THIS CELL THAT IS BELOW THIS LINE\n",
    "\"\"\"\n",
    "tests.test_train_nn(train_neural_network)"
   ]
  },
  {
   "cell_type": "markdown",
   "metadata": {
    "deletable": true,
    "editable": true
   },
   "source": [
    "### Show Stats\n",
    "Implement the function `print_stats` to print loss and validation accuracy.  Use the global variables `valid_features` and `valid_labels` to calculate validation accuracy.  Use a keep probability of `1.0` to calculate the loss and validation accuracy."
   ]
  },
  {
   "cell_type": "code",
   "execution_count": 19,
   "metadata": {
    "collapsed": false,
    "deletable": true,
    "editable": true
   },
   "outputs": [],
   "source": [
    "def print_stats(session, feature_batch, label_batch, cost, accuracy):\n",
    "    \"\"\"\n",
    "    Print information about loss and validation accuracy\n",
    "    : session: Current TensorFlow session\n",
    "    : feature_batch: Batch of Numpy image data\n",
    "    : label_batch: Batch of Numpy label data\n",
    "    : cost: TensorFlow cost function\n",
    "    : accuracy: TensorFlow accuracy function\n",
    "    \"\"\"\n",
    "    # TODO: Implement Function\n",
    "    cost = session.run(cost, feed_dict={x: feature_batch, y: label_batch, keep_prob: 1.0})\n",
    "    accuracy_value = session.run(accuracy, feed_dict={x: valid_features, y: valid_labels, keep_prob: 1.0})\n",
    "    print('Cost: ', cost, 'Accuracy: ', accuracy_value * 100, '%')\n"
   ]
  },
  {
   "cell_type": "markdown",
   "metadata": {
    "deletable": true,
    "editable": true
   },
   "source": [
    "### Hyperparameters\n",
    "Tune the following parameters:\n",
    "* Set `epochs` to the number of iterations until the network stops learning or start overfitting\n",
    "* Set `batch_size` to the highest number that your machine has memory for.  Most people set them to common sizes of memory:\n",
    " * 64\n",
    " * 128\n",
    " * 256\n",
    " * ...\n",
    "* Set `keep_probability` to the probability of keeping a node using dropout"
   ]
  },
  {
   "cell_type": "code",
   "execution_count": 26,
   "metadata": {
    "collapsed": true,
    "deletable": true,
    "editable": true
   },
   "outputs": [],
   "source": [
    "# TODO: Tune Parameters\n",
    "epochs = 110\n",
    "batch_size = 512\n",
    "keep_probability = 0.6"
   ]
  },
  {
   "cell_type": "markdown",
   "metadata": {
    "deletable": true,
    "editable": true
   },
   "source": [
    "### Train on a Single CIFAR-10 Batch\n",
    "Instead of training the neural network on all the CIFAR-10 batches of data, let's use a single batch. This should save time while you iterate on the model to get a better accuracy.  Once the final validation accuracy is 50% or greater, run the model on all the data in the next section."
   ]
  },
  {
   "cell_type": "code",
   "execution_count": 27,
   "metadata": {
    "collapsed": false,
    "deletable": true,
    "editable": true
   },
   "outputs": [
    {
     "name": "stdout",
     "output_type": "stream",
     "text": [
      "Checking the Training on a Single Batch...\n",
      "Epoch  1, CIFAR-10 Batch 1:  Cost:  2.26279 Accuracy:  17.499999702 %\n",
      "Epoch  2, CIFAR-10 Batch 1:  Cost:  2.06547 Accuracy:  25.7799983025 %\n",
      "Epoch  3, CIFAR-10 Batch 1:  Cost:  1.92105 Accuracy:  32.7999979258 %\n",
      "Epoch  4, CIFAR-10 Batch 1:  Cost:  1.83982 Accuracy:  34.4799995422 %\n",
      "Epoch  5, CIFAR-10 Batch 1:  Cost:  1.78645 Accuracy:  36.6800010204 %\n",
      "Epoch  6, CIFAR-10 Batch 1:  Cost:  1.74163 Accuracy:  36.6999983788 %\n",
      "Epoch  7, CIFAR-10 Batch 1:  Cost:  1.70051 Accuracy:  37.2799962759 %\n",
      "Epoch  8, CIFAR-10 Batch 1:  Cost:  1.67931 Accuracy:  39.099997282 %\n",
      "Epoch  9, CIFAR-10 Batch 1:  Cost:  1.63739 Accuracy:  38.9800012112 %\n",
      "Epoch 10, CIFAR-10 Batch 1:  Cost:  1.61302 Accuracy:  40.7799988985 %\n",
      "Epoch 11, CIFAR-10 Batch 1:  Cost:  1.58959 Accuracy:  41.9999957085 %\n",
      "Epoch 12, CIFAR-10 Batch 1:  Cost:  1.56878 Accuracy:  42.3599988222 %\n",
      "Epoch 13, CIFAR-10 Batch 1:  Cost:  1.52149 Accuracy:  41.8399989605 %\n",
      "Epoch 14, CIFAR-10 Batch 1:  Cost:  1.4914 Accuracy:  43.1199997663 %\n",
      "Epoch 15, CIFAR-10 Batch 1:  Cost:  1.49104 Accuracy:  42.5999939442 %\n",
      "Epoch 16, CIFAR-10 Batch 1:  Cost:  1.45915 Accuracy:  43.3999955654 %\n",
      "Epoch 17, CIFAR-10 Batch 1:  Cost:  1.44608 Accuracy:  44.4199979305 %\n",
      "Epoch 18, CIFAR-10 Batch 1:  Cost:  1.40922 Accuracy:  44.1199988127 %\n",
      "Epoch 19, CIFAR-10 Batch 1:  Cost:  1.37868 Accuracy:  44.2799955606 %\n",
      "Epoch 20, CIFAR-10 Batch 1:  Cost:  1.38332 Accuracy:  44.4600015879 %\n",
      "Epoch 21, CIFAR-10 Batch 1:  Cost:  1.33216 Accuracy:  45.6599980593 %\n",
      "Epoch 22, CIFAR-10 Batch 1:  Cost:  1.34358 Accuracy:  45.1799929142 %\n",
      "Epoch 23, CIFAR-10 Batch 1:  Cost:  1.31465 Accuracy:  46.0199981928 %\n",
      "Epoch 24, CIFAR-10 Batch 1:  Cost:  1.3149 Accuracy:  46.0599958897 %\n",
      "Epoch 25, CIFAR-10 Batch 1:  Cost:  1.29675 Accuracy:  46.6999977827 %\n",
      "Epoch 26, CIFAR-10 Batch 1:  Cost:  1.26104 Accuracy:  46.4399963617 %\n",
      "Epoch 27, CIFAR-10 Batch 1:  Cost:  1.26523 Accuracy:  46.8799948692 %\n",
      "Epoch 28, CIFAR-10 Batch 1:  Cost:  1.26607 Accuracy:  47.4199950695 %\n",
      "Epoch 29, CIFAR-10 Batch 1:  Cost:  1.23073 Accuracy:  47.5799977779 %\n",
      "Epoch 30, CIFAR-10 Batch 1:  Cost:  1.20434 Accuracy:  47.3599940538 %\n",
      "Epoch 31, CIFAR-10 Batch 1:  Cost:  1.18486 Accuracy:  47.4599957466 %\n",
      "Epoch 32, CIFAR-10 Batch 1:  Cost:  1.18916 Accuracy:  47.0999956131 %\n",
      "Epoch 33, CIFAR-10 Batch 1:  Cost:  1.16102 Accuracy:  48.1199979782 %\n",
      "Epoch 34, CIFAR-10 Batch 1:  Cost:  1.14535 Accuracy:  46.9199955463 %\n",
      "Epoch 35, CIFAR-10 Batch 1:  Cost:  1.14361 Accuracy:  47.5599974394 %\n",
      "Epoch 36, CIFAR-10 Batch 1:  Cost:  1.11046 Accuracy:  47.7199971676 %\n",
      "Epoch 37, CIFAR-10 Batch 1:  Cost:  1.10013 Accuracy:  49.0999937057 %\n",
      "Epoch 38, CIFAR-10 Batch 1:  Cost:  1.09112 Accuracy:  48.5199958086 %\n",
      "Epoch 39, CIFAR-10 Batch 1:  Cost:  1.05574 Accuracy:  48.1399953365 %\n",
      "Epoch 40, CIFAR-10 Batch 1:  Cost:  1.06849 Accuracy:  49.4999945164 %\n",
      "Epoch 41, CIFAR-10 Batch 1:  Cost:  1.04566 Accuracy:  49.099996686 %\n",
      "Epoch 42, CIFAR-10 Batch 1:  Cost:  1.03703 Accuracy:  49.2799937725 %\n",
      "Epoch 43, CIFAR-10 Batch 1:  Cost:  1.03825 Accuracy:  49.1399943829 %\n",
      "Epoch 44, CIFAR-10 Batch 1:  Cost:  1.01127 Accuracy:  49.6599942446 %\n",
      "Epoch 45, CIFAR-10 Batch 1:  Cost:  0.988745 Accuracy:  49.899995327 %\n",
      "Epoch 46, CIFAR-10 Batch 1:  Cost:  0.974417 Accuracy:  49.8999983072 %\n",
      "Epoch 47, CIFAR-10 Batch 1:  Cost:  0.974047 Accuracy:  49.1799920797 %\n",
      "Epoch 48, CIFAR-10 Batch 1:  Cost:  0.945421 Accuracy:  49.1799980402 %\n",
      "Epoch 49, CIFAR-10 Batch 1:  Cost:  0.977304 Accuracy:  49.0799963474 %\n",
      "Epoch 50, CIFAR-10 Batch 1:  Cost:  0.93318 Accuracy:  49.6599972248 %\n",
      "Epoch 51, CIFAR-10 Batch 1:  Cost:  0.921658 Accuracy:  49.4399935007 %\n",
      "Epoch 52, CIFAR-10 Batch 1:  Cost:  0.955409 Accuracy:  49.2399990559 %\n",
      "Epoch 53, CIFAR-10 Batch 1:  Cost:  0.885978 Accuracy:  50.0199913979 %\n",
      "Epoch 54, CIFAR-10 Batch 1:  Cost:  0.881675 Accuracy:  49.5599925518 %\n",
      "Epoch 55, CIFAR-10 Batch 1:  Cost:  0.905246 Accuracy:  49.2799937725 %\n",
      "Epoch 56, CIFAR-10 Batch 1:  Cost:  0.890655 Accuracy:  49.899995327 %\n",
      "Epoch 57, CIFAR-10 Batch 1:  Cost:  0.86697 Accuracy:  50.1399993896 %\n",
      "Epoch 58, CIFAR-10 Batch 1:  Cost:  0.861205 Accuracy:  50.2399981022 %\n",
      "Epoch 59, CIFAR-10 Batch 1:  Cost:  0.841894 Accuracy:  50.1999974251 %\n",
      "Epoch 60, CIFAR-10 Batch 1:  Cost:  0.820366 Accuracy:  49.0399926901 %\n",
      "Epoch 61, CIFAR-10 Batch 1:  Cost:  0.82259 Accuracy:  50.1399993896 %\n",
      "Epoch 62, CIFAR-10 Batch 1:  Cost:  0.826848 Accuracy:  49.1999924183 %\n",
      "Epoch 63, CIFAR-10 Batch 1:  Cost:  0.792274 Accuracy:  50.4599928856 %\n",
      "Epoch 64, CIFAR-10 Batch 1:  Cost:  0.816254 Accuracy:  49.3599951267 %\n",
      "Epoch 65, CIFAR-10 Batch 1:  Cost:  0.802346 Accuracy:  50.159996748 %\n",
      "Epoch 66, CIFAR-10 Batch 1:  Cost:  0.797206 Accuracy:  50.2200007439 %\n",
      "Epoch 67, CIFAR-10 Batch 1:  Cost:  0.776394 Accuracy:  50.1199901104 %\n",
      "Epoch 68, CIFAR-10 Batch 1:  Cost:  0.7496 Accuracy:  49.9999940395 %\n",
      "Epoch 69, CIFAR-10 Batch 1:  Cost:  0.741043 Accuracy:  50.3399968147 %\n",
      "Epoch 70, CIFAR-10 Batch 1:  Cost:  0.770754 Accuracy:  50.1999974251 %\n",
      "Epoch 71, CIFAR-10 Batch 1:  Cost:  0.750256 Accuracy:  50.0999927521 %\n",
      "Epoch 72, CIFAR-10 Batch 1:  Cost:  0.709093 Accuracy:  49.4199991226 %\n",
      "Epoch 73, CIFAR-10 Batch 1:  Cost:  0.754643 Accuracy:  49.3600010872 %\n",
      "Epoch 74, CIFAR-10 Batch 1:  Cost:  0.759981 Accuracy:  49.1999953985 %\n",
      "Epoch 75, CIFAR-10 Batch 1:  Cost:  0.714676 Accuracy:  49.4199931622 %\n",
      "Epoch 76, CIFAR-10 Batch 1:  Cost:  0.710511 Accuracy:  49.9799966812 %\n",
      "Epoch 77, CIFAR-10 Batch 1:  Cost:  0.704763 Accuracy:  50.4399955273 %\n",
      "Epoch 78, CIFAR-10 Batch 1:  Cost:  0.747148 Accuracy:  49.5399922132 %\n",
      "Epoch 79, CIFAR-10 Batch 1:  Cost:  0.704801 Accuracy:  49.3999958038 %\n",
      "Epoch 80, CIFAR-10 Batch 1:  Cost:  0.705538 Accuracy:  49.6599972248 %\n",
      "Epoch 81, CIFAR-10 Batch 1:  Cost:  0.687469 Accuracy:  49.9599963427 %\n",
      "Epoch 82, CIFAR-10 Batch 1:  Cost:  0.672519 Accuracy:  49.5199948549 %\n",
      "Epoch 83, CIFAR-10 Batch 1:  Cost:  0.657396 Accuracy:  50.4799962044 %\n",
      "Epoch 84, CIFAR-10 Batch 1:  Cost:  0.672253 Accuracy:  48.6800014973 %\n",
      "Epoch 85, CIFAR-10 Batch 1:  Cost:  0.648246 Accuracy:  49.5799928904 %\n",
      "Epoch 86, CIFAR-10 Batch 1:  Cost:  0.647399 Accuracy:  50.3399968147 %\n",
      "Epoch 87, CIFAR-10 Batch 1:  Cost:  0.627996 Accuracy:  50.4599988461 %\n",
      "Epoch 88, CIFAR-10 Batch 1:  Cost:  0.615049 Accuracy:  50.3799974918 %\n",
      "Epoch 89, CIFAR-10 Batch 1:  Cost:  0.589267 Accuracy:  50.0199973583 %\n",
      "Epoch 90, CIFAR-10 Batch 1:  Cost:  0.588229 Accuracy:  50.5999982357 %\n",
      "Epoch 91, CIFAR-10 Batch 1:  Cost:  0.584739 Accuracy:  50.3999948502 %\n",
      "Epoch 92, CIFAR-10 Batch 1:  Cost:  0.594185 Accuracy:  50.1399993896 %\n",
      "Epoch 93, CIFAR-10 Batch 1:  Cost:  0.581256 Accuracy:  50.4799962044 %\n",
      "Epoch 94, CIFAR-10 Batch 1:  Cost:  0.560897 Accuracy:  49.9999940395 %\n",
      "Epoch 95, CIFAR-10 Batch 1:  Cost:  0.569486 Accuracy:  50.0199973583 %\n",
      "Epoch 96, CIFAR-10 Batch 1:  Cost:  0.566664 Accuracy:  50.0399947166 %\n",
      "Epoch 97, CIFAR-10 Batch 1:  Cost:  0.57933 Accuracy:  49.899995327 %\n",
      "Epoch 98, CIFAR-10 Batch 1:  Cost:  0.557869 Accuracy:  50.1399934292 %\n",
      "Epoch 99, CIFAR-10 Batch 1:  Cost:  0.562088 Accuracy:  50.4399955273 %\n",
      "Epoch 100, CIFAR-10 Batch 1:  Cost:  0.541781 Accuracy:  49.8399972916 %\n",
      "Epoch 101, CIFAR-10 Batch 1:  Cost:  0.560152 Accuracy:  50.6799936295 %\n",
      "Epoch 102, CIFAR-10 Batch 1:  Cost:  0.541129 Accuracy:  50.1199901104 %\n",
      "Epoch 103, CIFAR-10 Batch 1:  Cost:  0.541062 Accuracy:  49.9999940395 %\n",
      "Epoch 104, CIFAR-10 Batch 1:  Cost:  0.547952 Accuracy:  49.3399977684 %\n",
      "Epoch 105, CIFAR-10 Batch 1:  Cost:  0.517768 Accuracy:  50.1999974251 %\n",
      "Epoch 106, CIFAR-10 Batch 1:  Cost:  0.536922 Accuracy:  50.5199968815 %\n",
      "Epoch 107, CIFAR-10 Batch 1:  Cost:  0.517194 Accuracy:  50.0799953938 %\n",
      "Epoch 108, CIFAR-10 Batch 1:  Cost:  0.525522 Accuracy:  49.6599972248 %\n",
      "Epoch 109, CIFAR-10 Batch 1:  Cost:  0.509563 Accuracy:  50.0399947166 %\n",
      "Epoch 110, CIFAR-10 Batch 1:  Cost:  0.50374 Accuracy:  50.3799915314 %\n"
     ]
    }
   ],
   "source": [
    "\"\"\"\n",
    "DON'T MODIFY ANYTHING IN THIS CELL\n",
    "\"\"\"\n",
    "print('Checking the Training on a Single Batch...')\n",
    "with tf.Session() as sess:\n",
    "    # Initializing the variables\n",
    "    sess.run(tf.global_variables_initializer())\n",
    "    \n",
    "    # Training cycle\n",
    "    for epoch in range(epochs):\n",
    "        batch_i = 1\n",
    "        for batch_features, batch_labels in helper.load_preprocess_training_batch(batch_i, batch_size):\n",
    "            train_neural_network(sess, optimizer, keep_probability, batch_features, batch_labels)\n",
    "        print('Epoch {:>2}, CIFAR-10 Batch {}:  '.format(epoch + 1, batch_i), end='')\n",
    "        print_stats(sess, batch_features, batch_labels, cost, accuracy)"
   ]
  },
  {
   "cell_type": "markdown",
   "metadata": {
    "deletable": true,
    "editable": true
   },
   "source": [
    "### Fully Train the Model\n",
    "Now that you got a good accuracy with a single CIFAR-10 batch, try it with all five batches."
   ]
  },
  {
   "cell_type": "code",
   "execution_count": 22,
   "metadata": {
    "collapsed": false,
    "deletable": true,
    "editable": true
   },
   "outputs": [
    {
     "name": "stdout",
     "output_type": "stream",
     "text": [
      "Training...\n",
      "Epoch  1, CIFAR-10 Batch 1:  Cost:  2.28435 Accuracy:  17.1800002456 %\n",
      "Epoch  1, CIFAR-10 Batch 2:  Cost:  2.15724 Accuracy:  22.2599983215 %\n",
      "Epoch  1, CIFAR-10 Batch 3:  Cost:  2.02758 Accuracy:  27.199998498 %\n",
      "Epoch  1, CIFAR-10 Batch 4:  Cost:  1.90471 Accuracy:  28.0799984932 %\n",
      "Epoch  1, CIFAR-10 Batch 5:  Cost:  1.85966 Accuracy:  30.2799969912 %\n",
      "Epoch  2, CIFAR-10 Batch 1:  Cost:  1.86443 Accuracy:  34.139996767 %\n",
      "Epoch  2, CIFAR-10 Batch 2:  Cost:  1.8084 Accuracy:  36.4600002766 %\n",
      "Epoch  2, CIFAR-10 Batch 3:  Cost:  1.69202 Accuracy:  37.8999948502 %\n",
      "Epoch  2, CIFAR-10 Batch 4:  Cost:  1.64767 Accuracy:  37.9999965429 %\n",
      "Epoch  2, CIFAR-10 Batch 5:  Cost:  1.67713 Accuracy:  38.8999998569 %\n",
      "Epoch  3, CIFAR-10 Batch 1:  Cost:  1.70837 Accuracy:  39.7799998522 %\n",
      "Epoch  3, CIFAR-10 Batch 2:  Cost:  1.68107 Accuracy:  41.1999970675 %\n",
      "Epoch  3, CIFAR-10 Batch 3:  Cost:  1.58375 Accuracy:  41.2599980831 %\n",
      "Epoch  3, CIFAR-10 Batch 4:  Cost:  1.54146 Accuracy:  42.0799970627 %\n",
      "Epoch  3, CIFAR-10 Batch 5:  Cost:  1.58515 Accuracy:  42.0999974012 %\n",
      "Epoch  4, CIFAR-10 Batch 1:  Cost:  1.64868 Accuracy:  43.3999955654 %\n",
      "Epoch  4, CIFAR-10 Batch 2:  Cost:  1.59862 Accuracy:  43.499994278 %\n",
      "Epoch  4, CIFAR-10 Batch 3:  Cost:  1.46471 Accuracy:  44.3799972534 %\n",
      "Epoch  4, CIFAR-10 Batch 4:  Cost:  1.41689 Accuracy:  45.0199991465 %\n",
      "Epoch  4, CIFAR-10 Batch 5:  Cost:  1.53671 Accuracy:  43.2799994946 %\n",
      "Epoch  5, CIFAR-10 Batch 1:  Cost:  1.59155 Accuracy:  45.0599968433 %\n",
      "Epoch  5, CIFAR-10 Batch 2:  Cost:  1.51646 Accuracy:  45.6999957561 %\n",
      "Epoch  5, CIFAR-10 Batch 3:  Cost:  1.42845 Accuracy:  46.0599958897 %\n",
      "Epoch  5, CIFAR-10 Batch 4:  Cost:  1.3671 Accuracy:  46.3999956846 %\n",
      "Epoch  5, CIFAR-10 Batch 5:  Cost:  1.44873 Accuracy:  45.6999957561 %\n",
      "Epoch  6, CIFAR-10 Batch 1:  Cost:  1.53876 Accuracy:  46.6800004244 %\n",
      "Epoch  6, CIFAR-10 Batch 2:  Cost:  1.48884 Accuracy:  45.6199944019 %\n",
      "Epoch  6, CIFAR-10 Batch 3:  Cost:  1.36003 Accuracy:  46.7999964952 %\n",
      "Epoch  6, CIFAR-10 Batch 4:  Cost:  1.34028 Accuracy:  47.1799910069 %\n",
      "Epoch  6, CIFAR-10 Batch 5:  Cost:  1.42163 Accuracy:  46.8799948692 %\n",
      "Epoch  7, CIFAR-10 Batch 1:  Cost:  1.5131 Accuracy:  47.6399958134 %\n",
      "Epoch  7, CIFAR-10 Batch 2:  Cost:  1.44069 Accuracy:  47.2599983215 %\n",
      "Epoch  7, CIFAR-10 Batch 3:  Cost:  1.35074 Accuracy:  47.0999985933 %\n",
      "Epoch  7, CIFAR-10 Batch 4:  Cost:  1.2951 Accuracy:  48.1399983168 %\n",
      "Epoch  7, CIFAR-10 Batch 5:  Cost:  1.37466 Accuracy:  48.119994998 %\n",
      "Epoch  8, CIFAR-10 Batch 1:  Cost:  1.49256 Accuracy:  49.0399986506 %\n",
      "Epoch  8, CIFAR-10 Batch 2:  Cost:  1.41948 Accuracy:  47.0399945974 %\n",
      "Epoch  8, CIFAR-10 Batch 3:  Cost:  1.32057 Accuracy:  46.0399925709 %\n",
      "Epoch  8, CIFAR-10 Batch 4:  Cost:  1.26633 Accuracy:  49.2399960756 %\n",
      "Epoch  8, CIFAR-10 Batch 5:  Cost:  1.37141 Accuracy:  49.17999506 %\n",
      "Epoch  9, CIFAR-10 Batch 1:  Cost:  1.46921 Accuracy:  49.9799996614 %\n",
      "Epoch  9, CIFAR-10 Batch 2:  Cost:  1.38206 Accuracy:  48.2799977064 %\n",
      "Epoch  9, CIFAR-10 Batch 3:  Cost:  1.28027 Accuracy:  46.5399980545 %\n",
      "Epoch  9, CIFAR-10 Batch 4:  Cost:  1.22344 Accuracy:  49.8399972916 %\n",
      "Epoch  9, CIFAR-10 Batch 5:  Cost:  1.34651 Accuracy:  48.2999950647 %\n",
      "Epoch 10, CIFAR-10 Batch 1:  Cost:  1.43029 Accuracy:  50.2799987793 %\n",
      "Epoch 10, CIFAR-10 Batch 2:  Cost:  1.33268 Accuracy:  49.8799979687 %\n",
      "Epoch 10, CIFAR-10 Batch 3:  Cost:  1.23735 Accuracy:  49.2799967527 %\n",
      "Epoch 10, CIFAR-10 Batch 4:  Cost:  1.20753 Accuracy:  50.2399981022 %\n",
      "Epoch 10, CIFAR-10 Batch 5:  Cost:  1.30756 Accuracy:  49.2599964142 %\n",
      "Epoch 11, CIFAR-10 Batch 1:  Cost:  1.42713 Accuracy:  49.9799966812 %\n",
      "Epoch 11, CIFAR-10 Batch 2:  Cost:  1.31524 Accuracy:  50.7999956608 %\n",
      "Epoch 11, CIFAR-10 Batch 3:  Cost:  1.19849 Accuracy:  49.4199931622 %\n",
      "Epoch 11, CIFAR-10 Batch 4:  Cost:  1.18507 Accuracy:  50.5599915981 %\n",
      "Epoch 11, CIFAR-10 Batch 5:  Cost:  1.29336 Accuracy:  50.0399947166 %\n",
      "Epoch 12, CIFAR-10 Batch 1:  Cost:  1.39702 Accuracy:  50.9199917316 %\n",
      "Epoch 12, CIFAR-10 Batch 2:  Cost:  1.3004 Accuracy:  50.8199930191 %\n",
      "Epoch 12, CIFAR-10 Batch 3:  Cost:  1.16599 Accuracy:  51.6399979591 %\n",
      "Epoch 12, CIFAR-10 Batch 4:  Cost:  1.15355 Accuracy:  50.8599996567 %\n",
      "Epoch 12, CIFAR-10 Batch 5:  Cost:  1.23674 Accuracy:  51.8799901009 %\n",
      "Epoch 13, CIFAR-10 Batch 1:  Cost:  1.36774 Accuracy:  51.4399945736 %\n",
      "Epoch 13, CIFAR-10 Batch 2:  Cost:  1.28414 Accuracy:  50.7199943066 %\n",
      "Epoch 13, CIFAR-10 Batch 3:  Cost:  1.1519 Accuracy:  50.7999897003 %\n",
      "Epoch 13, CIFAR-10 Batch 4:  Cost:  1.12177 Accuracy:  52.2999942303 %\n",
      "Epoch 13, CIFAR-10 Batch 5:  Cost:  1.21027 Accuracy:  52.479994297 %\n",
      "Epoch 14, CIFAR-10 Batch 1:  Cost:  1.33623 Accuracy:  51.8999934196 %\n",
      "Epoch 14, CIFAR-10 Batch 2:  Cost:  1.25277 Accuracy:  52.0599961281 %\n",
      "Epoch 14, CIFAR-10 Batch 3:  Cost:  1.12934 Accuracy:  52.4399936199 %\n",
      "Epoch 14, CIFAR-10 Batch 4:  Cost:  1.12549 Accuracy:  52.2799909115 %\n",
      "Epoch 14, CIFAR-10 Batch 5:  Cost:  1.20301 Accuracy:  51.9999980927 %\n",
      "Epoch 15, CIFAR-10 Batch 1:  Cost:  1.3285 Accuracy:  52.2599935532 %\n",
      "Epoch 15, CIFAR-10 Batch 2:  Cost:  1.25042 Accuracy:  52.120000124 %\n",
      "Epoch 15, CIFAR-10 Batch 3:  Cost:  1.10526 Accuracy:  51.5199959278 %\n",
      "Epoch 15, CIFAR-10 Batch 4:  Cost:  1.11026 Accuracy:  52.9199957848 %\n",
      "Epoch 15, CIFAR-10 Batch 5:  Cost:  1.19656 Accuracy:  51.7199993134 %\n",
      "Epoch 16, CIFAR-10 Batch 1:  Cost:  1.32078 Accuracy:  52.1399974823 %\n",
      "Epoch 16, CIFAR-10 Batch 2:  Cost:  1.24265 Accuracy:  51.75999403 %\n",
      "Epoch 16, CIFAR-10 Batch 3:  Cost:  1.08163 Accuracy:  52.999997139 %\n",
      "Epoch 16, CIFAR-10 Batch 4:  Cost:  1.06981 Accuracy:  53.4399926662 %\n",
      "Epoch 16, CIFAR-10 Batch 5:  Cost:  1.15237 Accuracy:  52.7599990368 %\n",
      "Epoch 17, CIFAR-10 Batch 1:  Cost:  1.28137 Accuracy:  53.0399978161 %\n",
      "Epoch 17, CIFAR-10 Batch 2:  Cost:  1.23046 Accuracy:  51.3599991798 %\n",
      "Epoch 17, CIFAR-10 Batch 3:  Cost:  1.11401 Accuracy:  51.7799973488 %\n",
      "Epoch 17, CIFAR-10 Batch 4:  Cost:  1.08247 Accuracy:  52.8799891472 %\n",
      "Epoch 17, CIFAR-10 Batch 5:  Cost:  1.15323 Accuracy:  53.5599946976 %\n",
      "Epoch 18, CIFAR-10 Batch 1:  Cost:  1.26028 Accuracy:  52.9399871826 %\n",
      "Epoch 18, CIFAR-10 Batch 2:  Cost:  1.23969 Accuracy:  52.1599948406 %\n",
      "Epoch 18, CIFAR-10 Batch 3:  Cost:  1.10703 Accuracy:  52.2399902344 %\n",
      "Epoch 18, CIFAR-10 Batch 4:  Cost:  1.06939 Accuracy:  54.1799902916 %\n",
      "Epoch 18, CIFAR-10 Batch 5:  Cost:  1.12274 Accuracy:  54.1599929333 %\n",
      "Epoch 19, CIFAR-10 Batch 1:  Cost:  1.25722 Accuracy:  53.2999932766 %\n",
      "Epoch 19, CIFAR-10 Batch 2:  Cost:  1.2028 Accuracy:  53.1999945641 %\n",
      "Epoch 19, CIFAR-10 Batch 3:  Cost:  1.09238 Accuracy:  52.1399974823 %\n",
      "Epoch 19, CIFAR-10 Batch 4:  Cost:  1.04373 Accuracy:  53.7399947643 %\n",
      "Epoch 19, CIFAR-10 Batch 5:  Cost:  1.12877 Accuracy:  53.5199999809 %\n",
      "Epoch 20, CIFAR-10 Batch 1:  Cost:  1.25627 Accuracy:  53.3799946308 %\n",
      "Epoch 20, CIFAR-10 Batch 2:  Cost:  1.18608 Accuracy:  53.459995985 %\n",
      "Epoch 20, CIFAR-10 Batch 3:  Cost:  1.06653 Accuracy:  52.9399931431 %\n",
      "Epoch 20, CIFAR-10 Batch 4:  Cost:  1.01441 Accuracy:  54.5799911022 %\n",
      "Epoch 20, CIFAR-10 Batch 5:  Cost:  1.08568 Accuracy:  54.5799970627 %\n",
      "Epoch 21, CIFAR-10 Batch 1:  Cost:  1.20623 Accuracy:  54.6799957752 %\n",
      "Epoch 21, CIFAR-10 Batch 2:  Cost:  1.18924 Accuracy:  52.6199936867 %\n",
      "Epoch 21, CIFAR-10 Batch 3:  Cost:  1.05064 Accuracy:  53.0599951744 %\n",
      "Epoch 21, CIFAR-10 Batch 4:  Cost:  1.02226 Accuracy:  54.9399971962 %\n",
      "Epoch 21, CIFAR-10 Batch 5:  Cost:  1.0962 Accuracy:  54.859995842 %\n",
      "Epoch 22, CIFAR-10 Batch 1:  Cost:  1.19299 Accuracy:  54.6799957752 %\n",
      "Epoch 22, CIFAR-10 Batch 2:  Cost:  1.17121 Accuracy:  53.1599938869 %\n",
      "Epoch 22, CIFAR-10 Batch 3:  Cost:  1.0021 Accuracy:  53.7199914455 %\n",
      "Epoch 22, CIFAR-10 Batch 4:  Cost:  1.00843 Accuracy:  54.8199951649 %\n",
      "Epoch 22, CIFAR-10 Batch 5:  Cost:  1.06812 Accuracy:  53.9799928665 %\n",
      "Epoch 23, CIFAR-10 Batch 1:  Cost:  1.21747 Accuracy:  54.2399942875 %\n",
      "Epoch 23, CIFAR-10 Batch 2:  Cost:  1.16808 Accuracy:  53.1199932098 %\n",
      "Epoch 23, CIFAR-10 Batch 3:  Cost:  0.997846 Accuracy:  54.7599971294 %\n",
      "Epoch 23, CIFAR-10 Batch 4:  Cost:  0.9544 Accuracy:  55.3799927235 %\n",
      "Epoch 23, CIFAR-10 Batch 5:  Cost:  1.03873 Accuracy:  55.579996109 %\n",
      "Epoch 24, CIFAR-10 Batch 1:  Cost:  1.20029 Accuracy:  53.8999974728 %\n",
      "Epoch 24, CIFAR-10 Batch 2:  Cost:  1.14053 Accuracy:  54.139995575 %\n",
      "Epoch 24, CIFAR-10 Batch 3:  Cost:  0.975348 Accuracy:  54.3799936771 %\n",
      "Epoch 24, CIFAR-10 Batch 4:  Cost:  0.990453 Accuracy:  54.7599971294 %\n",
      "Epoch 24, CIFAR-10 Batch 5:  Cost:  1.04423 Accuracy:  55.1999926567 %\n",
      "Epoch 25, CIFAR-10 Batch 1:  Cost:  1.19904 Accuracy:  55.2799940109 %\n",
      "Epoch 25, CIFAR-10 Batch 2:  Cost:  1.1055 Accuracy:  54.6799898148 %\n",
      "Epoch 25, CIFAR-10 Batch 3:  Cost:  0.961418 Accuracy:  54.7999918461 %\n",
      "Epoch 25, CIFAR-10 Batch 4:  Cost:  0.958983 Accuracy:  54.8999905586 %\n",
      "Epoch 25, CIFAR-10 Batch 5:  Cost:  1.03378 Accuracy:  55.4799973965 %\n",
      "Epoch 26, CIFAR-10 Batch 1:  Cost:  1.16534 Accuracy:  54.6999931335 %\n",
      "Epoch 26, CIFAR-10 Batch 2:  Cost:  1.10044 Accuracy:  54.859995842 %\n",
      "Epoch 26, CIFAR-10 Batch 3:  Cost:  0.961881 Accuracy:  53.9399981499 %\n",
      "Epoch 26, CIFAR-10 Batch 4:  Cost:  0.953672 Accuracy:  55.5199921131 %\n",
      "Epoch 26, CIFAR-10 Batch 5:  Cost:  1.01299 Accuracy:  55.4199934006 %\n",
      "Epoch 27, CIFAR-10 Batch 1:  Cost:  1.12943 Accuracy:  55.0799965858 %\n",
      "Epoch 27, CIFAR-10 Batch 2:  Cost:  1.12672 Accuracy:  54.1599929333 %\n",
      "Epoch 27, CIFAR-10 Batch 3:  Cost:  0.9561 Accuracy:  54.5799911022 %\n",
      "Epoch 27, CIFAR-10 Batch 4:  Cost:  0.941908 Accuracy:  55.1599919796 %\n",
      "Epoch 27, CIFAR-10 Batch 5:  Cost:  0.978004 Accuracy:  56.199991703 %\n",
      "Epoch 28, CIFAR-10 Batch 1:  Cost:  1.13962 Accuracy:  55.7799935341 %\n",
      "Epoch 28, CIFAR-10 Batch 2:  Cost:  1.08495 Accuracy:  54.599994421 %\n",
      "Epoch 28, CIFAR-10 Batch 3:  Cost:  0.938929 Accuracy:  55.3399920464 %\n",
      "Epoch 28, CIFAR-10 Batch 4:  Cost:  0.945024 Accuracy:  55.2399933338 %\n",
      "Epoch 28, CIFAR-10 Batch 5:  Cost:  0.981257 Accuracy:  55.9199929237 %\n",
      "Epoch 29, CIFAR-10 Batch 1:  Cost:  1.14457 Accuracy:  55.8799922466 %\n",
      "Epoch 29, CIFAR-10 Batch 2:  Cost:  1.07343 Accuracy:  55.4599881172 %\n",
      "Epoch 29, CIFAR-10 Batch 3:  Cost:  0.92582 Accuracy:  54.6999931335 %\n",
      "Epoch 29, CIFAR-10 Batch 4:  Cost:  0.957587 Accuracy:  55.0799906254 %\n",
      "Epoch 29, CIFAR-10 Batch 5:  Cost:  0.982244 Accuracy:  55.1999926567 %\n",
      "Epoch 30, CIFAR-10 Batch 1:  Cost:  1.0807 Accuracy:  55.7199954987 %\n",
      "Epoch 30, CIFAR-10 Batch 2:  Cost:  1.06349 Accuracy:  54.6799898148 %\n",
      "Epoch 30, CIFAR-10 Batch 3:  Cost:  0.934873 Accuracy:  55.5599927902 %\n",
      "Epoch 30, CIFAR-10 Batch 4:  Cost:  0.909584 Accuracy:  55.7799935341 %\n",
      "Epoch 30, CIFAR-10 Batch 5:  Cost:  0.978626 Accuracy:  56.1399996281 %\n",
      "Epoch 31, CIFAR-10 Batch 1:  Cost:  1.10229 Accuracy:  55.8199942112 %\n",
      "Epoch 31, CIFAR-10 Batch 2:  Cost:  1.06417 Accuracy:  55.2199959755 %\n",
      "Epoch 31, CIFAR-10 Batch 3:  Cost:  0.94523 Accuracy:  53.5599946976 %\n",
      "Epoch 31, CIFAR-10 Batch 4:  Cost:  0.910263 Accuracy:  55.8799922466 %\n",
      "Epoch 31, CIFAR-10 Batch 5:  Cost:  0.953781 Accuracy:  56.9199919701 %\n",
      "Epoch 32, CIFAR-10 Batch 1:  Cost:  1.09327 Accuracy:  55.6999981403 %\n",
      "Epoch 32, CIFAR-10 Batch 2:  Cost:  1.02493 Accuracy:  56.1399936676 %\n",
      "Epoch 32, CIFAR-10 Batch 3:  Cost:  0.912985 Accuracy:  56.0399949551 %\n",
      "Epoch 32, CIFAR-10 Batch 4:  Cost:  0.899464 Accuracy:  55.4599940777 %\n",
      "Epoch 32, CIFAR-10 Batch 5:  Cost:  0.95382 Accuracy:  55.9799909592 %\n",
      "Epoch 33, CIFAR-10 Batch 1:  Cost:  1.07217 Accuracy:  56.4199924469 %\n",
      "Epoch 33, CIFAR-10 Batch 2:  Cost:  1.02184 Accuracy:  55.7799935341 %\n",
      "Epoch 33, CIFAR-10 Batch 3:  Cost:  0.951752 Accuracy:  54.4399917126 %\n",
      "Epoch 33, CIFAR-10 Batch 4:  Cost:  0.917908 Accuracy:  55.219990015 %\n",
      "Epoch 33, CIFAR-10 Batch 5:  Cost:  0.945722 Accuracy:  55.6399941444 %\n",
      "Epoch 34, CIFAR-10 Batch 1:  Cost:  1.05762 Accuracy:  55.6999921799 %\n",
      "Epoch 34, CIFAR-10 Batch 2:  Cost:  1.06181 Accuracy:  54.9599885941 %\n",
      "Epoch 34, CIFAR-10 Batch 3:  Cost:  0.892742 Accuracy:  56.3999891281 %\n",
      "Epoch 34, CIFAR-10 Batch 4:  Cost:  0.894025 Accuracy:  56.3199937344 %\n",
      "Epoch 34, CIFAR-10 Batch 5:  Cost:  0.934758 Accuracy:  56.5599918365 %\n",
      "Epoch 35, CIFAR-10 Batch 1:  Cost:  1.05678 Accuracy:  56.3799977303 %\n",
      "Epoch 35, CIFAR-10 Batch 2:  Cost:  1.02791 Accuracy:  56.199991703 %\n",
      "Epoch 35, CIFAR-10 Batch 3:  Cost:  0.861219 Accuracy:  56.6599905491 %\n",
      "Epoch 35, CIFAR-10 Batch 4:  Cost:  0.880762 Accuracy:  56.8199872971 %\n",
      "Epoch 35, CIFAR-10 Batch 5:  Cost:  0.927192 Accuracy:  56.9999933243 %\n",
      "Epoch 36, CIFAR-10 Batch 1:  Cost:  1.06589 Accuracy:  55.999994278 %\n",
      "Epoch 36, CIFAR-10 Batch 2:  Cost:  1.01863 Accuracy:  56.6799938679 %\n",
      "Epoch 36, CIFAR-10 Batch 3:  Cost:  0.854921 Accuracy:  55.6599915028 %\n",
      "Epoch 36, CIFAR-10 Batch 4:  Cost:  0.888511 Accuracy:  56.7599892616 %\n",
      "Epoch 36, CIFAR-10 Batch 5:  Cost:  0.894615 Accuracy:  57.2399914265 %\n",
      "Epoch 37, CIFAR-10 Batch 1:  Cost:  1.04327 Accuracy:  56.8199932575 %\n",
      "Epoch 37, CIFAR-10 Batch 2:  Cost:  0.995246 Accuracy:  56.9599926472 %\n",
      "Epoch 37, CIFAR-10 Batch 3:  Cost:  0.863651 Accuracy:  56.3199937344 %\n",
      "Epoch 37, CIFAR-10 Batch 4:  Cost:  0.861011 Accuracy:  56.4999938011 %\n",
      "Epoch 37, CIFAR-10 Batch 5:  Cost:  0.925165 Accuracy:  55.7599961758 %\n",
      "Epoch 38, CIFAR-10 Batch 1:  Cost:  1.0169 Accuracy:  56.1399936676 %\n",
      "Epoch 38, CIFAR-10 Batch 2:  Cost:  0.992207 Accuracy:  56.2399923801 %\n",
      "Epoch 38, CIFAR-10 Batch 3:  Cost:  0.855476 Accuracy:  56.5199911594 %\n",
      "Epoch 38, CIFAR-10 Batch 4:  Cost:  0.859406 Accuracy:  56.3599944115 %\n",
      "Epoch 38, CIFAR-10 Batch 5:  Cost:  0.887565 Accuracy:  56.7599952221 %\n",
      "Epoch 39, CIFAR-10 Batch 1:  Cost:  1.02 Accuracy:  56.3599944115 %\n",
      "Epoch 39, CIFAR-10 Batch 2:  Cost:  1.01325 Accuracy:  56.8399906158 %\n",
      "Epoch 39, CIFAR-10 Batch 3:  Cost:  0.890166 Accuracy:  55.219990015 %\n",
      "Epoch 39, CIFAR-10 Batch 4:  Cost:  0.86909 Accuracy:  56.4799904823 %\n",
      "Epoch 39, CIFAR-10 Batch 5:  Cost:  0.886598 Accuracy:  56.7399919033 %\n",
      "Epoch 40, CIFAR-10 Batch 1:  Cost:  1.00897 Accuracy:  57.1199893951 %\n",
      "Epoch 40, CIFAR-10 Batch 2:  Cost:  0.9984 Accuracy:  55.9399962425 %\n",
      "Epoch 40, CIFAR-10 Batch 3:  Cost:  0.848697 Accuracy:  56.6199958324 %\n",
      "Epoch 40, CIFAR-10 Batch 4:  Cost:  0.857896 Accuracy:  56.619989872 %\n",
      "Epoch 40, CIFAR-10 Batch 5:  Cost:  0.88216 Accuracy:  57.3399960995 %\n",
      "Epoch 41, CIFAR-10 Batch 1:  Cost:  1.00408 Accuracy:  56.9399952888 %\n",
      "Epoch 41, CIFAR-10 Batch 2:  Cost:  0.968933 Accuracy:  56.7799985409 %\n",
      "Epoch 41, CIFAR-10 Batch 3:  Cost:  0.828146 Accuracy:  57.2599887848 %\n",
      "Epoch 41, CIFAR-10 Batch 4:  Cost:  0.842081 Accuracy:  56.8999946117 %\n",
      "Epoch 41, CIFAR-10 Batch 5:  Cost:  0.877213 Accuracy:  57.0199906826 %\n",
      "Epoch 42, CIFAR-10 Batch 1:  Cost:  0.977684 Accuracy:  57.6399922371 %\n",
      "Epoch 42, CIFAR-10 Batch 2:  Cost:  1.0011 Accuracy:  56.0599923134 %\n",
      "Epoch 42, CIFAR-10 Batch 3:  Cost:  0.808394 Accuracy:  57.6599955559 %\n",
      "Epoch 42, CIFAR-10 Batch 4:  Cost:  0.82042 Accuracy:  57.6199948788 %\n",
      "Epoch 42, CIFAR-10 Batch 5:  Cost:  0.866575 Accuracy:  56.9199979305 %\n",
      "Epoch 43, CIFAR-10 Batch 1:  Cost:  0.980062 Accuracy:  57.0599913597 %\n",
      "Epoch 43, CIFAR-10 Batch 2:  Cost:  0.968315 Accuracy:  57.1399927139 %\n",
      "Epoch 43, CIFAR-10 Batch 3:  Cost:  0.815347 Accuracy:  57.5599908829 %\n",
      "Epoch 43, CIFAR-10 Batch 4:  Cost:  0.823265 Accuracy:  57.2199881077 %\n",
      "Epoch 43, CIFAR-10 Batch 5:  Cost:  0.853176 Accuracy:  57.0999920368 %\n",
      "Epoch 44, CIFAR-10 Batch 1:  Cost:  1.02206 Accuracy:  57.2399973869 %\n",
      "Epoch 44, CIFAR-10 Batch 2:  Cost:  0.954222 Accuracy:  57.2599947453 %\n",
      "Epoch 44, CIFAR-10 Batch 3:  Cost:  0.814714 Accuracy:  55.5199980736 %\n",
      "Epoch 44, CIFAR-10 Batch 4:  Cost:  0.856824 Accuracy:  56.7999958992 %\n",
      "Epoch 44, CIFAR-10 Batch 5:  Cost:  0.87988 Accuracy:  56.8599939346 %\n",
      "Epoch 45, CIFAR-10 Batch 1:  Cost:  0.96057 Accuracy:  57.7999949455 %\n",
      "Epoch 45, CIFAR-10 Batch 2:  Cost:  0.925536 Accuracy:  57.7600002289 %\n",
      "Epoch 45, CIFAR-10 Batch 3:  Cost:  0.805546 Accuracy:  56.2399983406 %\n",
      "Epoch 45, CIFAR-10 Batch 4:  Cost:  0.815538 Accuracy:  57.2999894619 %\n",
      "Epoch 45, CIFAR-10 Batch 5:  Cost:  0.84585 Accuracy:  57.2199940681 %\n",
      "Epoch 46, CIFAR-10 Batch 1:  Cost:  0.948388 Accuracy:  57.8199923038 %\n",
      "Epoch 46, CIFAR-10 Batch 2:  Cost:  0.923636 Accuracy:  57.4399888515 %\n",
      "Epoch 46, CIFAR-10 Batch 3:  Cost:  0.802953 Accuracy:  57.4199914932 %\n",
      "Epoch 46, CIFAR-10 Batch 4:  Cost:  0.819062 Accuracy:  56.7399919033 %\n",
      "Epoch 46, CIFAR-10 Batch 5:  Cost:  0.844389 Accuracy:  57.1399927139 %\n",
      "Epoch 47, CIFAR-10 Batch 1:  Cost:  0.987434 Accuracy:  56.719994545 %\n",
      "Epoch 47, CIFAR-10 Batch 2:  Cost:  0.931521 Accuracy:  57.079988718 %\n",
      "Epoch 47, CIFAR-10 Batch 3:  Cost:  0.828982 Accuracy:  56.8999886513 %\n",
      "Epoch 47, CIFAR-10 Batch 4:  Cost:  0.793176 Accuracy:  57.5799942017 %\n",
      "Epoch 47, CIFAR-10 Batch 5:  Cost:  0.839047 Accuracy:  58.5399866104 %\n",
      "Epoch 48, CIFAR-10 Batch 1:  Cost:  0.960041 Accuracy:  57.7199935913 %\n",
      "Epoch 48, CIFAR-10 Batch 2:  Cost:  0.946234 Accuracy:  57.4199914932 %\n",
      "Epoch 48, CIFAR-10 Batch 3:  Cost:  0.812452 Accuracy:  56.7799925804 %\n",
      "Epoch 48, CIFAR-10 Batch 4:  Cost:  0.829437 Accuracy:  56.6599905491 %\n",
      "Epoch 48, CIFAR-10 Batch 5:  Cost:  0.84353 Accuracy:  57.6799869537 %\n",
      "Epoch 49, CIFAR-10 Batch 1:  Cost:  0.976641 Accuracy:  56.879991293 %\n",
      "Epoch 49, CIFAR-10 Batch 2:  Cost:  0.945306 Accuracy:  57.0999860764 %\n",
      "Epoch 49, CIFAR-10 Batch 3:  Cost:  0.777203 Accuracy:  57.339990139 %\n",
      "Epoch 49, CIFAR-10 Batch 4:  Cost:  0.807912 Accuracy:  57.2799921036 %\n",
      "Epoch 49, CIFAR-10 Batch 5:  Cost:  0.823126 Accuracy:  58.6599946022 %\n",
      "Epoch 50, CIFAR-10 Batch 1:  Cost:  0.944569 Accuracy:  58.5199892521 %\n",
      "Epoch 50, CIFAR-10 Batch 2:  Cost:  0.928812 Accuracy:  57.6799869537 %\n",
      "Epoch 50, CIFAR-10 Batch 3:  Cost:  0.774747 Accuracy:  57.9799950123 %\n",
      "Epoch 50, CIFAR-10 Batch 4:  Cost:  0.810027 Accuracy:  57.2599887848 %\n",
      "Epoch 50, CIFAR-10 Batch 5:  Cost:  0.806065 Accuracy:  57.2199940681 %\n",
      "Epoch 51, CIFAR-10 Batch 1:  Cost:  0.95155 Accuracy:  56.5599918365 %\n",
      "Epoch 51, CIFAR-10 Batch 2:  Cost:  0.940302 Accuracy:  56.9399952888 %\n",
      "Epoch 51, CIFAR-10 Batch 3:  Cost:  0.79458 Accuracy:  56.4999938011 %\n",
      "Epoch 51, CIFAR-10 Batch 4:  Cost:  0.804975 Accuracy:  57.2999954224 %\n",
      "Epoch 51, CIFAR-10 Batch 5:  Cost:  0.808711 Accuracy:  58.8199913502 %\n",
      "Epoch 52, CIFAR-10 Batch 1:  Cost:  0.936508 Accuracy:  57.59999156 %\n",
      "Epoch 52, CIFAR-10 Batch 2:  Cost:  0.947844 Accuracy:  56.7399919033 %\n",
      "Epoch 52, CIFAR-10 Batch 3:  Cost:  0.768105 Accuracy:  56.7599892616 %\n",
      "Epoch 52, CIFAR-10 Batch 4:  Cost:  0.824461 Accuracy:  56.3999891281 %\n",
      "Epoch 52, CIFAR-10 Batch 5:  Cost:  0.827405 Accuracy:  57.5599968433 %\n",
      "Epoch 53, CIFAR-10 Batch 1:  Cost:  0.915944 Accuracy:  58.1799924374 %\n",
      "Epoch 53, CIFAR-10 Batch 2:  Cost:  0.96077 Accuracy:  56.3799917698 %\n",
      "Epoch 53, CIFAR-10 Batch 3:  Cost:  0.770617 Accuracy:  57.1599960327 %\n",
      "Epoch 53, CIFAR-10 Batch 4:  Cost:  0.821796 Accuracy:  56.619989872 %\n",
      "Epoch 53, CIFAR-10 Batch 5:  Cost:  0.814824 Accuracy:  57.4599921703 %\n",
      "Epoch 54, CIFAR-10 Batch 1:  Cost:  0.930062 Accuracy:  58.6399912834 %\n",
      "Epoch 54, CIFAR-10 Batch 2:  Cost:  0.884312 Accuracy:  58.7599873543 %\n",
      "Epoch 54, CIFAR-10 Batch 3:  Cost:  0.78232 Accuracy:  57.7599942684 %\n",
      "Epoch 54, CIFAR-10 Batch 4:  Cost:  0.793728 Accuracy:  57.0399880409 %\n",
      "Epoch 54, CIFAR-10 Batch 5:  Cost:  0.812515 Accuracy:  57.6199889183 %\n",
      "Epoch 55, CIFAR-10 Batch 1:  Cost:  0.927042 Accuracy:  58.4199905396 %\n",
      "Epoch 55, CIFAR-10 Batch 2:  Cost:  0.897129 Accuracy:  57.7199935913 %\n",
      "Epoch 55, CIFAR-10 Batch 3:  Cost:  0.761165 Accuracy:  57.7799975872 %\n",
      "Epoch 55, CIFAR-10 Batch 4:  Cost:  0.795921 Accuracy:  57.0399940014 %\n",
      "Epoch 55, CIFAR-10 Batch 5:  Cost:  0.791134 Accuracy:  57.8399896622 %\n",
      "Epoch 56, CIFAR-10 Batch 1:  Cost:  0.930543 Accuracy:  58.1599891186 %\n",
      "Epoch 56, CIFAR-10 Batch 2:  Cost:  0.879427 Accuracy:  58.4999918938 %\n",
      "Epoch 56, CIFAR-10 Batch 3:  Cost:  0.773336 Accuracy:  56.9599926472 %\n",
      "Epoch 56, CIFAR-10 Batch 4:  Cost:  0.793405 Accuracy:  56.7799925804 %\n",
      "Epoch 56, CIFAR-10 Batch 5:  Cost:  0.811278 Accuracy:  58.4199905396 %\n",
      "Epoch 57, CIFAR-10 Batch 1:  Cost:  0.912141 Accuracy:  58.6999893188 %\n",
      "Epoch 57, CIFAR-10 Batch 2:  Cost:  0.87834 Accuracy:  57.8199923038 %\n",
      "Epoch 57, CIFAR-10 Batch 3:  Cost:  0.732032 Accuracy:  58.1999897957 %\n",
      "Epoch 57, CIFAR-10 Batch 4:  Cost:  0.778856 Accuracy:  57.8399956226 %\n",
      "Epoch 57, CIFAR-10 Batch 5:  Cost:  0.794846 Accuracy:  57.1199893951 %\n",
      "Epoch 58, CIFAR-10 Batch 1:  Cost:  0.93523 Accuracy:  57.6599895954 %\n",
      "Epoch 58, CIFAR-10 Batch 2:  Cost:  0.897464 Accuracy:  58.3199977875 %\n",
      "Epoch 58, CIFAR-10 Batch 3:  Cost:  0.730036 Accuracy:  58.8199913502 %\n",
      "Epoch 58, CIFAR-10 Batch 4:  Cost:  0.77253 Accuracy:  56.9999873638 %\n",
      "Epoch 58, CIFAR-10 Batch 5:  Cost:  0.770014 Accuracy:  57.9799950123 %\n",
      "Epoch 59, CIFAR-10 Batch 1:  Cost:  0.903953 Accuracy:  58.2599937916 %\n",
      "Epoch 59, CIFAR-10 Batch 2:  Cost:  0.870386 Accuracy:  57.9199910164 %\n",
      "Epoch 59, CIFAR-10 Batch 3:  Cost:  0.747179 Accuracy:  57.8199923038 %\n",
      "Epoch 59, CIFAR-10 Batch 4:  Cost:  0.795898 Accuracy:  56.5999925137 %\n",
      "Epoch 59, CIFAR-10 Batch 5:  Cost:  0.776511 Accuracy:  58.4199905396 %\n",
      "Epoch 60, CIFAR-10 Batch 1:  Cost:  0.871238 Accuracy:  58.8599920273 %\n",
      "Epoch 60, CIFAR-10 Batch 2:  Cost:  0.891877 Accuracy:  57.5599908829 %\n",
      "Epoch 60, CIFAR-10 Batch 3:  Cost:  0.746979 Accuracy:  57.8399896622 %\n",
      "Epoch 60, CIFAR-10 Batch 4:  Cost:  0.782676 Accuracy:  56.9199919701 %\n",
      "Epoch 60, CIFAR-10 Batch 5:  Cost:  0.772392 Accuracy:  58.3799898624 %\n",
      "Epoch 61, CIFAR-10 Batch 1:  Cost:  0.879781 Accuracy:  58.7999880314 %\n",
      "Epoch 61, CIFAR-10 Batch 2:  Cost:  0.855177 Accuracy:  58.2599937916 %\n",
      "Epoch 61, CIFAR-10 Batch 3:  Cost:  0.745669 Accuracy:  57.859992981 %\n",
      "Epoch 61, CIFAR-10 Batch 4:  Cost:  0.802774 Accuracy:  56.459993124 %\n",
      "Epoch 61, CIFAR-10 Batch 5:  Cost:  0.76455 Accuracy:  57.2399973869 %\n",
      "Epoch 62, CIFAR-10 Batch 1:  Cost:  0.882634 Accuracy:  58.1999957561 %\n",
      "Epoch 62, CIFAR-10 Batch 2:  Cost:  0.865588 Accuracy:  58.1199944019 %\n",
      "Epoch 62, CIFAR-10 Batch 3:  Cost:  0.732857 Accuracy:  58.2599878311 %\n",
      "Epoch 62, CIFAR-10 Batch 4:  Cost:  0.750492 Accuracy:  58.1399917603 %\n",
      "Epoch 62, CIFAR-10 Batch 5:  Cost:  0.775063 Accuracy:  57.5599849224 %\n",
      "Epoch 63, CIFAR-10 Batch 1:  Cost:  0.915362 Accuracy:  57.4599921703 %\n",
      "Epoch 63, CIFAR-10 Batch 2:  Cost:  0.851189 Accuracy:  58.1399917603 %\n",
      "Epoch 63, CIFAR-10 Batch 3:  Cost:  0.727365 Accuracy:  58.4399938583 %\n",
      "Epoch 63, CIFAR-10 Batch 4:  Cost:  0.761423 Accuracy:  57.0799946785 %\n",
      "Epoch 63, CIFAR-10 Batch 5:  Cost:  0.757423 Accuracy:  57.8999876976 %\n",
      "Epoch 64, CIFAR-10 Batch 1:  Cost:  0.870679 Accuracy:  59.0199947357 %\n",
      "Epoch 64, CIFAR-10 Batch 2:  Cost:  0.864192 Accuracy:  59.0599894524 %\n",
      "Epoch 64, CIFAR-10 Batch 3:  Cost:  0.722968 Accuracy:  58.3399891853 %\n",
      "Epoch 64, CIFAR-10 Batch 4:  Cost:  0.775546 Accuracy:  57.1199953556 %\n",
      "Epoch 64, CIFAR-10 Batch 5:  Cost:  0.753901 Accuracy:  58.0999910831 %\n",
      "Epoch 65, CIFAR-10 Batch 1:  Cost:  0.897525 Accuracy:  58.7199866772 %\n",
      "Epoch 65, CIFAR-10 Batch 2:  Cost:  0.883557 Accuracy:  57.6199948788 %\n",
      "Epoch 65, CIFAR-10 Batch 3:  Cost:  0.742929 Accuracy:  58.1199884415 %\n",
      "Epoch 65, CIFAR-10 Batch 4:  Cost:  0.770621 Accuracy:  57.7799856663 %\n",
      "Epoch 65, CIFAR-10 Batch 5:  Cost:  0.77134 Accuracy:  58.5999965668 %\n",
      "Epoch 66, CIFAR-10 Batch 1:  Cost:  0.889292 Accuracy:  58.2799911499 %\n",
      "Epoch 66, CIFAR-10 Batch 2:  Cost:  0.852846 Accuracy:  58.1599891186 %\n",
      "Epoch 66, CIFAR-10 Batch 3:  Cost:  0.708898 Accuracy:  58.9599967003 %\n",
      "Epoch 66, CIFAR-10 Batch 4:  Cost:  0.754164 Accuracy:  57.59999156 %\n",
      "Epoch 66, CIFAR-10 Batch 5:  Cost:  0.733097 Accuracy:  58.8799893856 %\n",
      "Epoch 67, CIFAR-10 Batch 1:  Cost:  0.865631 Accuracy:  58.7799847126 %\n",
      "Epoch 67, CIFAR-10 Batch 2:  Cost:  0.864872 Accuracy:  58.0999910831 %\n",
      "Epoch 67, CIFAR-10 Batch 3:  Cost:  0.724519 Accuracy:  58.7999880314 %\n",
      "Epoch 67, CIFAR-10 Batch 4:  Cost:  0.738455 Accuracy:  58.1199944019 %\n",
      "Epoch 67, CIFAR-10 Batch 5:  Cost:  0.753666 Accuracy:  58.5399866104 %\n",
      "Epoch 68, CIFAR-10 Batch 1:  Cost:  0.862878 Accuracy:  58.3799898624 %\n",
      "Epoch 68, CIFAR-10 Batch 2:  Cost:  0.818073 Accuracy:  59.6199929714 %\n",
      "Epoch 68, CIFAR-10 Batch 3:  Cost:  0.69929 Accuracy:  59.7999930382 %\n",
      "Epoch 68, CIFAR-10 Batch 4:  Cost:  0.735744 Accuracy:  57.5599908829 %\n",
      "Epoch 68, CIFAR-10 Batch 5:  Cost:  0.757352 Accuracy:  57.9399943352 %\n",
      "Epoch 69, CIFAR-10 Batch 1:  Cost:  0.868726 Accuracy:  59.1199874878 %\n",
      "Epoch 69, CIFAR-10 Batch 2:  Cost:  0.82576 Accuracy:  58.739989996 %\n",
      "Epoch 69, CIFAR-10 Batch 3:  Cost:  0.697367 Accuracy:  59.0199887753 %\n",
      "Epoch 69, CIFAR-10 Batch 4:  Cost:  0.73445 Accuracy:  57.7599942684 %\n",
      "Epoch 69, CIFAR-10 Batch 5:  Cost:  0.729621 Accuracy:  59.4799935818 %\n",
      "Epoch 70, CIFAR-10 Batch 1:  Cost:  0.864888 Accuracy:  58.1999897957 %\n",
      "Epoch 70, CIFAR-10 Batch 2:  Cost:  0.846069 Accuracy:  58.6599886417 %\n",
      "Epoch 70, CIFAR-10 Batch 3:  Cost:  0.713292 Accuracy:  58.0399930477 %\n",
      "Epoch 70, CIFAR-10 Batch 4:  Cost:  0.735342 Accuracy:  58.4199905396 %\n",
      "Epoch 70, CIFAR-10 Batch 5:  Cost:  0.745182 Accuracy:  58.1999897957 %\n",
      "Epoch 71, CIFAR-10 Batch 1:  Cost:  0.868195 Accuracy:  58.2599878311 %\n",
      "Epoch 71, CIFAR-10 Batch 2:  Cost:  0.834289 Accuracy:  59.1799855232 %\n",
      "Epoch 71, CIFAR-10 Batch 3:  Cost:  0.687005 Accuracy:  58.9399933815 %\n",
      "Epoch 71, CIFAR-10 Batch 4:  Cost:  0.714837 Accuracy:  58.0999970436 %\n",
      "Epoch 71, CIFAR-10 Batch 5:  Cost:  0.742362 Accuracy:  58.6599946022 %\n",
      "Epoch 72, CIFAR-10 Batch 1:  Cost:  0.848841 Accuracy:  59.0799927711 %\n",
      "Epoch 72, CIFAR-10 Batch 2:  Cost:  0.824418 Accuracy:  58.9399933815 %\n",
      "Epoch 72, CIFAR-10 Batch 3:  Cost:  0.687049 Accuracy:  59.3199908733 %\n",
      "Epoch 72, CIFAR-10 Batch 4:  Cost:  0.714817 Accuracy:  57.439994812 %\n",
      "Epoch 72, CIFAR-10 Batch 5:  Cost:  0.72335 Accuracy:  58.7199926376 %\n",
      "Epoch 73, CIFAR-10 Batch 1:  Cost:  0.820597 Accuracy:  59.3399882317 %\n",
      "Epoch 73, CIFAR-10 Batch 2:  Cost:  0.812748 Accuracy:  59.099984169 %\n",
      "Epoch 73, CIFAR-10 Batch 3:  Cost:  0.68874 Accuracy:  59.0799987316 %\n",
      "Epoch 73, CIFAR-10 Batch 4:  Cost:  0.729482 Accuracy:  57.7199816704 %\n",
      "Epoch 73, CIFAR-10 Batch 5:  Cost:  0.724867 Accuracy:  59.1599941254 %\n",
      "Epoch 74, CIFAR-10 Batch 1:  Cost:  0.850388 Accuracy:  58.2799911499 %\n",
      "Epoch 74, CIFAR-10 Batch 2:  Cost:  0.790639 Accuracy:  59.6199929714 %\n",
      "Epoch 74, CIFAR-10 Batch 3:  Cost:  0.702231 Accuracy:  58.2199931145 %\n",
      "Epoch 74, CIFAR-10 Batch 4:  Cost:  0.713126 Accuracy:  57.0599913597 %\n",
      "Epoch 74, CIFAR-10 Batch 5:  Cost:  0.732703 Accuracy:  59.3199908733 %\n",
      "Epoch 75, CIFAR-10 Batch 1:  Cost:  0.838465 Accuracy:  58.639985323 %\n",
      "Epoch 75, CIFAR-10 Batch 2:  Cost:  0.813042 Accuracy:  58.8799893856 %\n",
      "Epoch 75, CIFAR-10 Batch 3:  Cost:  0.694015 Accuracy:  58.5599899292 %\n",
      "Epoch 75, CIFAR-10 Batch 4:  Cost:  0.71574 Accuracy:  58.2999885082 %\n",
      "Epoch 75, CIFAR-10 Batch 5:  Cost:  0.733386 Accuracy:  58.8199913502 %\n",
      "Epoch 76, CIFAR-10 Batch 1:  Cost:  0.84376 Accuracy:  59.0799987316 %\n",
      "Epoch 76, CIFAR-10 Batch 2:  Cost:  0.818243 Accuracy:  59.3799948692 %\n",
      "Epoch 76, CIFAR-10 Batch 3:  Cost:  0.664941 Accuracy:  58.6599946022 %\n",
      "Epoch 76, CIFAR-10 Batch 4:  Cost:  0.699959 Accuracy:  59.0799927711 %\n",
      "Epoch 76, CIFAR-10 Batch 5:  Cost:  0.707826 Accuracy:  58.6999952793 %\n",
      "Epoch 77, CIFAR-10 Batch 1:  Cost:  0.858991 Accuracy:  58.479988575 %\n",
      "Epoch 77, CIFAR-10 Batch 2:  Cost:  0.807982 Accuracy:  58.7199926376 %\n",
      "Epoch 77, CIFAR-10 Batch 3:  Cost:  0.66873 Accuracy:  59.1399908066 %\n",
      "Epoch 77, CIFAR-10 Batch 4:  Cost:  0.692486 Accuracy:  58.3799898624 %\n",
      "Epoch 77, CIFAR-10 Batch 5:  Cost:  0.709711 Accuracy:  58.9999914169 %\n",
      "Epoch 78, CIFAR-10 Batch 1:  Cost:  0.82728 Accuracy:  58.6399912834 %\n",
      "Epoch 78, CIFAR-10 Batch 2:  Cost:  0.811222 Accuracy:  59.0199887753 %\n",
      "Epoch 78, CIFAR-10 Batch 3:  Cost:  0.663899 Accuracy:  58.9999914169 %\n",
      "Epoch 78, CIFAR-10 Batch 4:  Cost:  0.705364 Accuracy:  57.8999936581 %\n",
      "Epoch 78, CIFAR-10 Batch 5:  Cost:  0.734413 Accuracy:  59.3599915504 %\n",
      "Epoch 79, CIFAR-10 Batch 1:  Cost:  0.843611 Accuracy:  58.379983902 %\n",
      "Epoch 79, CIFAR-10 Batch 2:  Cost:  0.841246 Accuracy:  58.3599865437 %\n",
      "Epoch 79, CIFAR-10 Batch 3:  Cost:  0.655234 Accuracy:  59.8999917507 %\n",
      "Epoch 79, CIFAR-10 Batch 4:  Cost:  0.693057 Accuracy:  59.2799901962 %\n",
      "Epoch 79, CIFAR-10 Batch 5:  Cost:  0.695566 Accuracy:  58.0199956894 %\n",
      "Epoch 80, CIFAR-10 Batch 1:  Cost:  0.826101 Accuracy:  58.2199931145 %\n",
      "Epoch 80, CIFAR-10 Batch 2:  Cost:  0.7813 Accuracy:  59.8799943924 %\n",
      "Epoch 80, CIFAR-10 Batch 3:  Cost:  0.648259 Accuracy:  59.4199955463 %\n",
      "Epoch 80, CIFAR-10 Batch 4:  Cost:  0.699759 Accuracy:  58.5799872875 %\n",
      "Epoch 80, CIFAR-10 Batch 5:  Cost:  0.7086 Accuracy:  59.0599954128 %\n",
      "Epoch 81, CIFAR-10 Batch 1:  Cost:  0.808289 Accuracy:  58.5799872875 %\n",
      "Epoch 81, CIFAR-10 Batch 2:  Cost:  0.794669 Accuracy:  58.1799924374 %\n",
      "Epoch 81, CIFAR-10 Batch 3:  Cost:  0.675498 Accuracy:  59.1199934483 %\n",
      "Epoch 81, CIFAR-10 Batch 4:  Cost:  0.724163 Accuracy:  57.9999923706 %\n",
      "Epoch 81, CIFAR-10 Batch 5:  Cost:  0.687421 Accuracy:  58.4199905396 %\n",
      "Epoch 82, CIFAR-10 Batch 1:  Cost:  0.798537 Accuracy:  59.199988842 %\n",
      "Epoch 82, CIFAR-10 Batch 2:  Cost:  0.790559 Accuracy:  58.8199913502 %\n",
      "Epoch 82, CIFAR-10 Batch 3:  Cost:  0.678576 Accuracy:  58.3999872208 %\n",
      "Epoch 82, CIFAR-10 Batch 4:  Cost:  0.677537 Accuracy:  58.3399891853 %\n",
      "Epoch 82, CIFAR-10 Batch 5:  Cost:  0.700158 Accuracy:  58.7799966335 %\n",
      "Epoch 83, CIFAR-10 Batch 1:  Cost:  0.814884 Accuracy:  58.5999906063 %\n",
      "Epoch 83, CIFAR-10 Batch 2:  Cost:  0.789555 Accuracy:  58.6399912834 %\n",
      "Epoch 83, CIFAR-10 Batch 3:  Cost:  0.672888 Accuracy:  59.0999901295 %\n",
      "Epoch 83, CIFAR-10 Batch 4:  Cost:  0.684614 Accuracy:  58.7199926376 %\n",
      "Epoch 83, CIFAR-10 Batch 5:  Cost:  0.693607 Accuracy:  59.3399941921 %\n",
      "Epoch 84, CIFAR-10 Batch 1:  Cost:  0.813102 Accuracy:  58.5799992085 %\n",
      "Epoch 84, CIFAR-10 Batch 2:  Cost:  0.789512 Accuracy:  59.4199955463 %\n",
      "Epoch 84, CIFAR-10 Batch 3:  Cost:  0.697083 Accuracy:  58.1399917603 %\n",
      "Epoch 84, CIFAR-10 Batch 4:  Cost:  0.68987 Accuracy:  58.8799893856 %\n",
      "Epoch 84, CIFAR-10 Batch 5:  Cost:  0.704285 Accuracy:  58.9599967003 %\n",
      "Epoch 85, CIFAR-10 Batch 1:  Cost:  0.785074 Accuracy:  59.1199874878 %\n",
      "Epoch 85, CIFAR-10 Batch 2:  Cost:  0.795952 Accuracy:  59.7399950027 %\n",
      "Epoch 85, CIFAR-10 Batch 3:  Cost:  0.655612 Accuracy:  58.9799940586 %\n",
      "Epoch 85, CIFAR-10 Batch 4:  Cost:  0.704668 Accuracy:  58.9599907398 %\n",
      "Epoch 85, CIFAR-10 Batch 5:  Cost:  0.72404 Accuracy:  58.7999880314 %\n",
      "Epoch 86, CIFAR-10 Batch 1:  Cost:  0.813654 Accuracy:  58.8599920273 %\n",
      "Epoch 86, CIFAR-10 Batch 2:  Cost:  0.779149 Accuracy:  59.0199887753 %\n",
      "Epoch 86, CIFAR-10 Batch 3:  Cost:  0.65403 Accuracy:  58.9799880981 %\n",
      "Epoch 86, CIFAR-10 Batch 4:  Cost:  0.682307 Accuracy:  57.9599916935 %\n",
      "Epoch 86, CIFAR-10 Batch 5:  Cost:  0.68021 Accuracy:  59.2199981213 %\n",
      "Epoch 87, CIFAR-10 Batch 1:  Cost:  0.787561 Accuracy:  58.6399972439 %\n",
      "Epoch 87, CIFAR-10 Batch 2:  Cost:  0.772923 Accuracy:  58.9599967003 %\n",
      "Epoch 87, CIFAR-10 Batch 3:  Cost:  0.666004 Accuracy:  59.039992094 %\n",
      "Epoch 87, CIFAR-10 Batch 4:  Cost:  0.696347 Accuracy:  58.1199944019 %\n",
      "Epoch 87, CIFAR-10 Batch 5:  Cost:  0.687359 Accuracy:  58.7599933147 %\n",
      "Epoch 88, CIFAR-10 Batch 1:  Cost:  0.801355 Accuracy:  59.8999977112 %\n",
      "Epoch 88, CIFAR-10 Batch 2:  Cost:  0.765177 Accuracy:  59.4599962234 %\n",
      "Epoch 88, CIFAR-10 Batch 3:  Cost:  0.659358 Accuracy:  59.299993515 %\n",
      "Epoch 88, CIFAR-10 Batch 4:  Cost:  0.694235 Accuracy:  58.0599963665 %\n",
      "Epoch 88, CIFAR-10 Batch 5:  Cost:  0.69236 Accuracy:  58.739989996 %\n",
      "Epoch 89, CIFAR-10 Batch 1:  Cost:  0.79713 Accuracy:  58.5399925709 %\n",
      "Epoch 89, CIFAR-10 Batch 2:  Cost:  0.786178 Accuracy:  59.4199895859 %\n",
      "Epoch 89, CIFAR-10 Batch 3:  Cost:  0.644117 Accuracy:  59.2599928379 %\n",
      "Epoch 89, CIFAR-10 Batch 4:  Cost:  0.674094 Accuracy:  59.0199947357 %\n",
      "Epoch 89, CIFAR-10 Batch 5:  Cost:  0.693018 Accuracy:  59.1199934483 %\n",
      "Epoch 90, CIFAR-10 Batch 1:  Cost:  0.783948 Accuracy:  59.3799889088 %\n",
      "Epoch 90, CIFAR-10 Batch 2:  Cost:  0.801009 Accuracy:  58.9399933815 %\n",
      "Epoch 90, CIFAR-10 Batch 3:  Cost:  0.668778 Accuracy:  59.5999956131 %\n",
      "Epoch 90, CIFAR-10 Batch 4:  Cost:  0.672446 Accuracy:  58.2599937916 %\n",
      "Epoch 90, CIFAR-10 Batch 5:  Cost:  0.723217 Accuracy:  59.0799927711 %\n",
      "Epoch 91, CIFAR-10 Batch 1:  Cost:  0.810492 Accuracy:  58.6599946022 %\n",
      "Epoch 91, CIFAR-10 Batch 2:  Cost:  0.774135 Accuracy:  59.0199947357 %\n",
      "Epoch 91, CIFAR-10 Batch 3:  Cost:  0.657342 Accuracy:  58.8799953461 %\n",
      "Epoch 91, CIFAR-10 Batch 4:  Cost:  0.665969 Accuracy:  59.3999922276 %\n",
      "Epoch 91, CIFAR-10 Batch 5:  Cost:  0.688889 Accuracy:  59.3199908733 %\n",
      "Epoch 92, CIFAR-10 Batch 1:  Cost:  0.781271 Accuracy:  58.7799906731 %\n",
      "Epoch 92, CIFAR-10 Batch 2:  Cost:  0.772218 Accuracy:  59.1399908066 %\n",
      "Epoch 92, CIFAR-10 Batch 3:  Cost:  0.641243 Accuracy:  59.2799901962 %\n",
      "Epoch 92, CIFAR-10 Batch 4:  Cost:  0.673033 Accuracy:  58.3799958229 %\n",
      "Epoch 92, CIFAR-10 Batch 5:  Cost:  0.672681 Accuracy:  58.739989996 %\n",
      "Epoch 93, CIFAR-10 Batch 1:  Cost:  0.77093 Accuracy:  58.739989996 %\n",
      "Epoch 93, CIFAR-10 Batch 2:  Cost:  0.77393 Accuracy:  58.8599979877 %\n",
      "Epoch 93, CIFAR-10 Batch 3:  Cost:  0.659106 Accuracy:  59.3799889088 %\n",
      "Epoch 93, CIFAR-10 Batch 4:  Cost:  0.647274 Accuracy:  59.7199857235 %\n",
      "Epoch 93, CIFAR-10 Batch 5:  Cost:  0.699259 Accuracy:  58.9199960232 %\n",
      "Epoch 94, CIFAR-10 Batch 1:  Cost:  0.797237 Accuracy:  59.1799855232 %\n",
      "Epoch 94, CIFAR-10 Batch 2:  Cost:  0.750505 Accuracy:  59.3199908733 %\n",
      "Epoch 94, CIFAR-10 Batch 3:  Cost:  0.640695 Accuracy:  58.8399887085 %\n",
      "Epoch 94, CIFAR-10 Batch 4:  Cost:  0.668301 Accuracy:  59.3999922276 %\n",
      "Epoch 94, CIFAR-10 Batch 5:  Cost:  0.67043 Accuracy:  59.4199895859 %\n",
      "Epoch 95, CIFAR-10 Batch 1:  Cost:  0.766688 Accuracy:  58.739989996 %\n",
      "Epoch 95, CIFAR-10 Batch 2:  Cost:  0.752479 Accuracy:  59.1799974442 %\n",
      "Epoch 95, CIFAR-10 Batch 3:  Cost:  0.633749 Accuracy:  59.3799948692 %\n",
      "Epoch 95, CIFAR-10 Batch 4:  Cost:  0.67787 Accuracy:  57.9799950123 %\n",
      "Epoch 95, CIFAR-10 Batch 5:  Cost:  0.665326 Accuracy:  58.4599971771 %\n",
      "Epoch 96, CIFAR-10 Batch 1:  Cost:  0.776138 Accuracy:  59.3199908733 %\n",
      "Epoch 96, CIFAR-10 Batch 2:  Cost:  0.747869 Accuracy:  59.3599915504 %\n",
      "Epoch 96, CIFAR-10 Batch 3:  Cost:  0.638328 Accuracy:  59.4599962234 %\n",
      "Epoch 96, CIFAR-10 Batch 4:  Cost:  0.666707 Accuracy:  58.9999914169 %\n",
      "Epoch 96, CIFAR-10 Batch 5:  Cost:  0.703114 Accuracy:  58.3599925041 %\n",
      "Epoch 97, CIFAR-10 Batch 1:  Cost:  0.754036 Accuracy:  59.1799914837 %\n",
      "Epoch 97, CIFAR-10 Batch 2:  Cost:  0.747965 Accuracy:  59.7599864006 %\n",
      "Epoch 97, CIFAR-10 Batch 3:  Cost:  0.658107 Accuracy:  58.4399878979 %\n",
      "Epoch 97, CIFAR-10 Batch 4:  Cost:  0.684338 Accuracy:  59.0199887753 %\n",
      "Epoch 97, CIFAR-10 Batch 5:  Cost:  0.671074 Accuracy:  58.1399977207 %\n",
      "Epoch 98, CIFAR-10 Batch 1:  Cost:  0.761754 Accuracy:  58.0999910831 %\n",
      "Epoch 98, CIFAR-10 Batch 2:  Cost:  0.770163 Accuracy:  59.199988842 %\n",
      "Epoch 98, CIFAR-10 Batch 3:  Cost:  0.671368 Accuracy:  58.319991827 %\n",
      "Epoch 98, CIFAR-10 Batch 4:  Cost:  0.676146 Accuracy:  59.1599941254 %\n",
      "Epoch 98, CIFAR-10 Batch 5:  Cost:  0.656505 Accuracy:  58.7199926376 %\n",
      "Epoch 99, CIFAR-10 Batch 1:  Cost:  0.768636 Accuracy:  58.8999867439 %\n",
      "Epoch 99, CIFAR-10 Batch 2:  Cost:  0.757016 Accuracy:  59.2599928379 %\n",
      "Epoch 99, CIFAR-10 Batch 3:  Cost:  0.648463 Accuracy:  59.4399929047 %\n",
      "Epoch 99, CIFAR-10 Batch 4:  Cost:  0.654495 Accuracy:  59.1599941254 %\n",
      "Epoch 99, CIFAR-10 Batch 5:  Cost:  0.679422 Accuracy:  59.0599954128 %\n",
      "Epoch 100, CIFAR-10 Batch 1:  Cost:  0.754355 Accuracy:  58.8799893856 %\n",
      "Epoch 100, CIFAR-10 Batch 2:  Cost:  0.744418 Accuracy:  58.8199913502 %\n",
      "Epoch 100, CIFAR-10 Batch 3:  Cost:  0.639461 Accuracy:  59.5600008965 %\n",
      "Epoch 100, CIFAR-10 Batch 4:  Cost:  0.646087 Accuracy:  59.7199857235 %\n",
      "Epoch 100, CIFAR-10 Batch 5:  Cost:  0.665137 Accuracy:  58.9199900627 %\n"
     ]
    }
   ],
   "source": [
    "\"\"\"\n",
    "DON'T MODIFY ANYTHING IN THIS CELL\n",
    "\"\"\"\n",
    "save_model_path = './image_classification'\n",
    "\n",
    "print('Training...')\n",
    "with tf.Session() as sess:\n",
    "    # Initializing the variables\n",
    "    sess.run(tf.global_variables_initializer())\n",
    "    \n",
    "    # Training cycle\n",
    "    for epoch in range(epochs):\n",
    "        # Loop over all batches\n",
    "        n_batches = 5\n",
    "        for batch_i in range(1, n_batches + 1):\n",
    "            for batch_features, batch_labels in helper.load_preprocess_training_batch(batch_i, batch_size):\n",
    "                train_neural_network(sess, optimizer, keep_probability, batch_features, batch_labels)\n",
    "            print('Epoch {:>2}, CIFAR-10 Batch {}:  '.format(epoch + 1, batch_i), end='')\n",
    "            print_stats(sess, batch_features, batch_labels, cost, accuracy)\n",
    "            \n",
    "    # Save Model\n",
    "    saver = tf.train.Saver()\n",
    "    save_path = saver.save(sess, save_model_path)"
   ]
  },
  {
   "cell_type": "markdown",
   "metadata": {
    "deletable": true,
    "editable": true
   },
   "source": [
    "# Checkpoint\n",
    "The model has been saved to disk.\n",
    "## Test Model\n",
    "Test your model against the test dataset.  This will be your final accuracy. You should have an accuracy greater than 50%. If you don't, keep tweaking the model architecture and parameters."
   ]
  },
  {
   "cell_type": "code",
   "execution_count": 23,
   "metadata": {
    "collapsed": false,
    "deletable": true,
    "editable": true
   },
   "outputs": [
    {
     "name": "stdout",
     "output_type": "stream",
     "text": [
      "Testing Accuracy: 0.5802389711141587\n",
      "\n"
     ]
    },
    {
     "data": {
      "image/png": "[encoded data removed]",
      "text/plain": [
       "<matplotlib.figure.Figure at 0x7f13e7d32fd0>"
      ]
     },
     "metadata": {
      "image/png": {
       "height": 319,
       "width": 355
      }
     },
     "output_type": "display_data"
    }
   ],
   "source": [
    "\"\"\"\n",
    "DON'T MODIFY ANYTHING IN THIS CELL\n",
    "\"\"\"\n",
    "%matplotlib inline\n",
    "%config InlineBackend.figure_format = 'retina'\n",
    "\n",
    "import tensorflow as tf\n",
    "import pickle\n",
    "import helper\n",
    "import random\n",
    "\n",
    "# Set batch size if not already set\n",
    "try:\n",
    "    if batch_size:\n",
    "        pass\n",
    "except NameError:\n",
    "    batch_size = 64\n",
    "\n",
    "save_model_path = './image_classification'\n",
    "n_samples = 4\n",
    "top_n_predictions = 3\n",
    "\n",
    "def test_model():\n",
    "    \"\"\"\n",
    "    Test the saved model against the test dataset\n",
    "    \"\"\"\n",
    "\n",
    "    test_features, test_labels = pickle.load(open('preprocess_test.p', mode='rb'))\n",
    "    loaded_graph = tf.Graph()\n",
    "\n",
    "    with tf.Session(graph=loaded_graph) as sess:\n",
    "        # Load model\n",
    "        loader = tf.train.import_meta_graph(save_model_path + '.meta')\n",
    "        loader.restore(sess, save_model_path)\n",
    "\n",
    "        # Get Tensors from loaded model\n",
    "        loaded_x = loaded_graph.get_tensor_by_name('x:0')\n",
    "        loaded_y = loaded_graph.get_tensor_by_name('y:0')\n",
    "        loaded_keep_prob = loaded_graph.get_tensor_by_name('keep_prob:0')\n",
    "        loaded_logits = loaded_graph.get_tensor_by_name('logits:0')\n",
    "        loaded_acc = loaded_graph.get_tensor_by_name('accuracy:0')\n",
    "        \n",
    "        # Get accuracy in batches for memory limitations\n",
    "        test_batch_acc_total = 0\n",
    "        test_batch_count = 0\n",
    "        \n",
    "        for test_feature_batch, test_label_batch in helper.batch_features_labels(test_features, test_labels, batch_size):\n",
    "            test_batch_acc_total += sess.run(\n",
    "                loaded_acc,\n",
    "                feed_dict={loaded_x: test_feature_batch, loaded_y: test_label_batch, loaded_keep_prob: 1.0})\n",
    "            test_batch_count += 1\n",
    "\n",
    "        print('Testing Accuracy: {}\\n'.format(test_batch_acc_total/test_batch_count))\n",
    "\n",
    "        # Print Random Samples\n",
    "        random_test_features, random_test_labels = tuple(zip(*random.sample(list(zip(test_features, test_labels)), n_samples)))\n",
    "        random_test_predictions = sess.run(\n",
    "            tf.nn.top_k(tf.nn.softmax(loaded_logits), top_n_predictions),\n",
    "            feed_dict={loaded_x: random_test_features, loaded_y: random_test_labels, loaded_keep_prob: 1.0})\n",
    "        helper.display_image_predictions(random_test_features, random_test_labels, random_test_predictions)\n",
    "\n",
    "\n",
    "test_model()"
   ]
  },
  {
   "cell_type": "markdown",
   "metadata": {
    "deletable": true,
    "editable": true
   },
   "source": [
    "## Why 50-80% Accuracy?\n",
    "You might be wondering why you can't get an accuracy any higher. First things first, 50% isn't bad for a simple CNN.  Pure guessing would get you 10% accuracy. However, you might notice people are getting scores [well above 80%](http://rodrigob.github.io/are_we_there_yet/build/classification_datasets_results.html#43494641522d3130).  That's because we haven't taught you all there is to know about neural networks. We still need to cover a few more techniques.\n",
    "## Submitting This Project\n",
    "When submitting this project, make sure to run all the cells before saving the notebook.  Save the notebook file as \"dlnd_image_classification.ipynb\" and save it as a HTML file under \"File\" -> \"Download as\".  Include the \"helper.py\" and \"problem_unittests.py\" files in your submission."
   ]
  }
 ],
 "metadata": {
  "anaconda-cloud": {},
  "kernelspec": {
   "display_name": "Python [default]",
   "language": "python",
   "name": "python3"
  },
  "language_info": {
   "codemirror_mode": {
    "name": "ipython",
    "version": 3
   },
   "file_extension": ".py",
   "mimetype": "text/x-python",
   "name": "python",
   "nbconvert_exporter": "python",
   "pygments_lexer": "ipython3",
   "version": "3.5.2"
  }
 },
 "nbformat": 4,
 "nbformat_minor": 0
}
